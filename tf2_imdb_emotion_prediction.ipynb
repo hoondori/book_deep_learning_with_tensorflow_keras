{
 "cells": [
  {
   "cell_type": "code",
   "execution_count": 1,
   "metadata": {},
   "outputs": [],
   "source": [
    "import tensorflow as tf\n",
    "import numpy as np\n",
    "from tensorflow import keras\n",
    "#import tensorflow_addons as tfa\n",
    "from tensorflow.keras import datasets, layers, models, preprocessing"
   ]
  },
  {
   "cell_type": "code",
   "execution_count": 13,
   "metadata": {},
   "outputs": [
    {
     "name": "stdout",
     "output_type": "stream",
     "text": [
      "[name: \"/device:CPU:0\"\n",
      "device_type: \"CPU\"\n",
      "memory_limit: 268435456\n",
      "locality {\n",
      "}\n",
      "incarnation: 495839009445890453\n",
      ", name: \"/device:XLA_CPU:0\"\n",
      "device_type: \"XLA_CPU\"\n",
      "memory_limit: 17179869184\n",
      "locality {\n",
      "}\n",
      "incarnation: 2342210200460300532\n",
      "physical_device_desc: \"device: XLA_CPU device\"\n",
      ", name: \"/device:XLA_GPU:0\"\n",
      "device_type: \"XLA_GPU\"\n",
      "memory_limit: 17179869184\n",
      "locality {\n",
      "}\n",
      "incarnation: 13659379261430403072\n",
      "physical_device_desc: \"device: XLA_GPU device\"\n",
      ", name: \"/device:GPU:0\"\n",
      "device_type: \"GPU\"\n",
      "memory_limit: 7445255296\n",
      "locality {\n",
      "  bus_id: 1\n",
      "  links {\n",
      "  }\n",
      "}\n",
      "incarnation: 2294964227092611548\n",
      "physical_device_desc: \"device: 0, name: GeForce RTX 2070 SUPER, pci bus id: 0000:01:00.0, compute capability: 7.5\"\n",
      "]\n"
     ]
    }
   ],
   "source": [
    "from tensorflow.python.client import device_lib\n",
    "print(device_lib.list_local_devices())"
   ]
  },
  {
   "cell_type": "code",
   "execution_count": 3,
   "metadata": {},
   "outputs": [],
   "source": [
    "# train parameter\n",
    "\n",
    "max_len = 200\n",
    "n_words = 10000\n",
    "dim_embedding = 256\n",
    "EPOCHS = 20\n",
    "BATCH_SIZE =500"
   ]
  },
  {
   "cell_type": "markdown",
   "metadata": {},
   "source": [
    "# 데이터 준비"
   ]
  },
  {
   "cell_type": "code",
   "execution_count": 4,
   "metadata": {},
   "outputs": [],
   "source": [
    "def load_data():\n",
    "    #load data\n",
    "    # start_char=1, oov_char=2, index_from=3\n",
    "    (X_train, y_train), (X_test, y_test) = datasets.imdb.load_data(num_words=n_words)\n",
    "\n",
    "    # Pad sequences with max_len\n",
    "    X_train = preprocessing.sequence.pad_sequences(X_train, maxlen=max_len)\n",
    "    X_test = preprocessing.sequence.pad_sequences(X_test, maxlen=max_len)\n",
    "    return (X_train, y_train), (X_test, y_test)\n",
    "(X_train, y_train), (X_test, y_test) = load_data()"
   ]
  },
  {
   "cell_type": "code",
   "execution_count": 5,
   "metadata": {},
   "outputs": [
    {
     "data": {
      "text/plain": [
       "214834"
      ]
     },
     "execution_count": 5,
     "metadata": {},
     "output_type": "execute_result"
    }
   ],
   "source": [
    "np.count_nonzero(X_train == 2)  # oov_char 종류 "
   ]
  },
  {
   "cell_type": "markdown",
   "metadata": {},
   "source": [
    "# 모델 준비"
   ]
  },
  {
   "cell_type": "code",
   "execution_count": 6,
   "metadata": {},
   "outputs": [
    {
     "name": "stdout",
     "output_type": "stream",
     "text": [
      "Model: \"sequential\"\n",
      "_________________________________________________________________\n",
      "Layer (type)                 Output Shape              Param #   \n",
      "=================================================================\n",
      "embedding (Embedding)        (None, 200, 256)          2560000   \n",
      "_________________________________________________________________\n",
      "dropout (Dropout)            (None, 200, 256)          0         \n",
      "_________________________________________________________________\n",
      "global_max_pooling1d (Global (None, 256)               0         \n",
      "_________________________________________________________________\n",
      "dense (Dense)                (None, 128)               32896     \n",
      "_________________________________________________________________\n",
      "dropout_1 (Dropout)          (None, 128)               0         \n",
      "_________________________________________________________________\n",
      "dense_1 (Dense)              (None, 1)                 129       \n",
      "=================================================================\n",
      "Total params: 2,593,025\n",
      "Trainable params: 2,593,025\n",
      "Non-trainable params: 0\n",
      "_________________________________________________________________\n"
     ]
    }
   ],
   "source": [
    "def build_model():\n",
    "    \n",
    "    #Input - Emedding Layer\n",
    "    # the model will take as input an integer matrix of size (batch, input_length)\n",
    "    # the model will output dimension (input_length, dim_embedding)\n",
    "    # the largest integer in the input should be no larger\n",
    "    # than n_words (vocabulary size).\n",
    "    \n",
    "    model = models.Sequential(\n",
    "        [\n",
    "            keras.layers.Embedding(n_words, dim_embedding, input_length=max_len),\n",
    "            keras.layers.Dropout(0.3),\n",
    "            \n",
    "            #takes the maximum value of either feature vector from each of the n_words features\n",
    "            keras.layers.GlobalMaxPooling1D(),\n",
    "            keras.layers.Dense(128, activation='relu'),\n",
    "            keras.layers.Dropout(0.5),\n",
    "            keras.layers.Dense(1, activation='sigmoid')\n",
    "        ]\n",
    "    )\n",
    "    \n",
    "    return model\n",
    "model=build_model()\n",
    "model.summary()"
   ]
  },
  {
   "cell_type": "code",
   "execution_count": 10,
   "metadata": {
    "collapsed": true
   },
   "outputs": [
    {
     "data": {
      "image/png": "[encoded data removed]",
      "text/plain": [
       "<IPython.core.display.Image object>"
      ]
     },
     "execution_count": 10,
     "metadata": {},
     "output_type": "execute_result"
    }
   ],
   "source": [
    "tf.keras.utils.plot_model(model, to_file=\"model.png\")"
   ]
  },
  {
   "cell_type": "markdown",
   "metadata": {},
   "source": [
    "#  학습"
   ]
  },
  {
   "cell_type": "code",
   "execution_count": 11,
   "metadata": {
    "scrolled": true
   },
   "outputs": [
    {
     "name": "stdout",
     "output_type": "stream",
     "text": [
      "Epoch 1/20\n",
      "50/50 [==============================] - 4s 71ms/step - loss: 0.6723 - accuracy: 0.6410 - val_loss: 0.6299 - val_accuracy: 0.8199\n",
      "Epoch 2/20\n",
      "50/50 [==============================] - 3s 70ms/step - loss: 0.4609 - accuracy: 0.8384 - val_loss: 0.3665 - val_accuracy: 0.8574\n",
      "Epoch 3/20\n",
      "50/50 [==============================] - 3s 68ms/step - loss: 0.2813 - accuracy: 0.8855 - val_loss: 0.3055 - val_accuracy: 0.8744\n",
      "Epoch 4/20\n",
      "50/50 [==============================] - 3s 69ms/step - loss: 0.2210 - accuracy: 0.9143 - val_loss: 0.2901 - val_accuracy: 0.8786\n",
      "Epoch 5/20\n",
      "50/50 [==============================] - 3s 68ms/step - loss: 0.1755 - accuracy: 0.9356 - val_loss: 0.2877 - val_accuracy: 0.8780\n",
      "Epoch 6/20\n",
      "50/50 [==============================] - 3s 69ms/step - loss: 0.1365 - accuracy: 0.9547 - val_loss: 0.2922 - val_accuracy: 0.8745\n",
      "Epoch 7/20\n",
      "50/50 [==============================] - 3s 69ms/step - loss: 0.1077 - accuracy: 0.9661 - val_loss: 0.3100 - val_accuracy: 0.8678\n",
      "Epoch 8/20\n",
      "50/50 [==============================] - 3s 68ms/step - loss: 0.0825 - accuracy: 0.9758 - val_loss: 0.3165 - val_accuracy: 0.8671\n",
      "Epoch 9/20\n",
      "50/50 [==============================] - 3s 68ms/step - loss: 0.0602 - accuracy: 0.9851 - val_loss: 0.3306 - val_accuracy: 0.8635\n",
      "Epoch 10/20\n",
      "50/50 [==============================] - 3s 68ms/step - loss: 0.0475 - accuracy: 0.9886 - val_loss: 0.3467 - val_accuracy: 0.8594\n",
      "Epoch 11/20\n",
      "50/50 [==============================] - 3s 68ms/step - loss: 0.0357 - accuracy: 0.9921 - val_loss: 0.3652 - val_accuracy: 0.8562\n",
      "Epoch 12/20\n",
      "50/50 [==============================] - 3s 68ms/step - loss: 0.0269 - accuracy: 0.9950 - val_loss: 0.3814 - val_accuracy: 0.8571\n",
      "Epoch 13/20\n",
      "50/50 [==============================] - 3s 68ms/step - loss: 0.0212 - accuracy: 0.9958 - val_loss: 0.4028 - val_accuracy: 0.8532\n",
      "Epoch 14/20\n",
      "50/50 [==============================] - 3s 68ms/step - loss: 0.0166 - accuracy: 0.9974 - val_loss: 0.4126 - val_accuracy: 0.8541\n",
      "Epoch 15/20\n",
      "50/50 [==============================] - 3s 68ms/step - loss: 0.0142 - accuracy: 0.9976 - val_loss: 0.4282 - val_accuracy: 0.8528\n",
      "Epoch 16/20\n",
      "50/50 [==============================] - 3s 68ms/step - loss: 0.0112 - accuracy: 0.9984 - val_loss: 0.4418 - val_accuracy: 0.8527\n",
      "Epoch 17/20\n",
      "50/50 [==============================] - 3s 68ms/step - loss: 0.0097 - accuracy: 0.9982 - val_loss: 0.4561 - val_accuracy: 0.8503\n",
      "Epoch 18/20\n",
      "50/50 [==============================] - 3s 69ms/step - loss: 0.0085 - accuracy: 0.9988 - val_loss: 0.4729 - val_accuracy: 0.8491\n",
      "Epoch 19/20\n",
      "50/50 [==============================] - 3s 68ms/step - loss: 0.0068 - accuracy: 0.9991 - val_loss: 0.4868 - val_accuracy: 0.8483\n",
      "Epoch 20/20\n",
      "50/50 [==============================] - 3s 68ms/step - loss: 0.0056 - accuracy: 0.9993 - val_loss: 0.4920 - val_accuracy: 0.8496\n"
     ]
    }
   ],
   "source": [
    "model.compile(optimizer = \"adam\", loss = \"binary_crossentropy\",\n",
    " metrics = [\"accuracy\"]\n",
    ")\n",
    "\n",
    "history = model.fit(X_train, y_train,\n",
    " epochs= EPOCHS,\n",
    " batch_size = BATCH_SIZE,\n",
    " validation_data = (X_test, y_test)\n",
    ")"
   ]
  },
  {
   "cell_type": "code",
   "execution_count": 9,
   "metadata": {},
   "outputs": [
    {
     "data": {
      "image/png": "[encoded data removed]",
      "text/plain": [
       "<Figure size 432x288 with 1 Axes>"
      ]
     },
     "metadata": {
      "needs_background": "light"
     },
     "output_type": "display_data"
    }
   ],
   "source": [
    "from matplotlib import pyplot as plt\n",
    "\n",
    "accuracy = history.history['accuracy']\n",
    "\n",
    "plt.plot(np.linspace(0, EPOCHS,  EPOCHS), accuracy,\n",
    "             color='blue', label='model')\n",
    "\n",
    "plt.title('train')\n",
    "plt.legend()\n",
    "plt.grid(True)\n",
    "plt.show()\n"
   ]
  },
  {
   "cell_type": "code",
   "execution_count": 12,
   "metadata": {},
   "outputs": [
    {
     "name": "stdout",
     "output_type": "stream",
     "text": [
      "50/50 [==============================] - 1s 17ms/step - loss: 0.4920 - accuracy: 0.8496\n",
      "\n",
      "Test score: 0.49199149012565613\n",
      "Test accuracy: 0.849560022354126\n"
     ]
    }
   ],
   "source": [
    "score = model.evaluate(X_test, y_test, batch_size=BATCH_SIZE)\n",
    "print(\"\\nTest score:\", score[0])\n",
    "print('Test accuracy:', score[1])\n"
   ]
  }
 ],
 "metadata": {
  "kernelspec": {
   "display_name": "Python (ai)",
   "language": "python",
   "name": "ai"
  },
  "language_info": {
   "codemirror_mode": {
    "name": "ipython",
    "version": 3
   },
   "file_extension": ".py",
   "mimetype": "text/x-python",
   "name": "python",
   "nbconvert_exporter": "python",
   "pygments_lexer": "ipython3",
   "version": "3.6.12"
  }
 },
 "nbformat": 4,
 "nbformat_minor": 4
}
