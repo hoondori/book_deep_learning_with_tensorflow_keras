{
 "cells": [
  {
   "cell_type": "markdown",
   "metadata": {},
   "source": [
    "# tf2 sparse autoencoder 로 MNIST Reconstruct \n",
    "\n",
    "* sparse penalty 를 reconstruct error에 추가(additive)\n",
    "  * 간단하게는 encoder쪽에 activity regularizer를 추가하면 됨\n",
    "  * 복잡한 것은 neuron별 평균 activity mean을 구하고 이에 대해 실제 activity 분포와의 KL-divergence 최소화"
   ]
  },
  {
   "cell_type": "code",
   "execution_count": 1,
   "metadata": {},
   "outputs": [
    {
     "name": "stdout",
     "output_type": "stream",
     "text": [
      "GPU[0] is ready\n"
     ]
    }
   ],
   "source": [
    "import tensorflow as tf\n",
    "gpus = tf.config.experimental.list_physical_devices('GPU')\n",
    "if gpus:\n",
    "    # 텐서플로가 첫 번째 GPU만 사용하도록 제한\n",
    "    # 프로그램 시작시에 메모리 증가가 설정되어야만 합니다\n",
    "    try:\n",
    "        tf.config.experimental.set_visible_devices(gpus[0], 'GPU')\n",
    "        tf.config.experimental.set_memory_growth(gpus[0], True)\n",
    "        print('GPU[0] is ready')\n",
    "    except RuntimeError as e:\n",
    "        # 프로그램 시작시에 접근 가능한 장치가 설정되어야만 합니다\n",
    "        print(e)\n",
    "else:\n",
    "    print('Please check GPU available')\n",
    "    \n",
    "import os\n",
    "import sys\n",
    "import tensorflow as tf\n",
    "from tensorflow.keras import datasets, layers, models, optimizers\n",
    "import numpy as np\n",
    "import pandas as pd\n",
    "import matplotlib.pyplot as plt\n",
    "from IPython.display import clear_output\n",
    "from six.moves import urllib\n",
    "from tensorflow import feature_column as fc\n",
    "import tensorflow_datasets as tfds\n",
    "plt.rcParams[\"font.family\"] = 'NanumBarunGothic'\n",
    "TENSORBOARD_BINARY = '/home/hoondori/anaconda3/envs/ai/bin/tensorboard'\n",
    "os.environ['TENSORBOARD_BINARY'] =  TENSORBOARD_BINARY "
   ]
  },
  {
   "cell_type": "code",
   "execution_count": 5,
   "metadata": {},
   "outputs": [],
   "source": [
    "import numpy as np\n",
    "import tensorflow as tf\n",
    "import tensorflow.keras as K\n",
    "import matplotlib.pyplot as plt\n",
    "from tensorflow.keras import regularizers"
   ]
  },
  {
   "cell_type": "markdown",
   "metadata": {},
   "source": [
    "# MNIST 데이터 확보"
   ]
  },
  {
   "cell_type": "code",
   "execution_count": 3,
   "metadata": {},
   "outputs": [],
   "source": [
    "np.random.seed(11)\n",
    "tf.random.set_seed(11)\n",
    "batch_size = 256\n",
    "max_epochs = 50\n",
    "learning_rate = 1e-3\n",
    "momentum = 8e-1\n",
    "hidden_dim = 128\n",
    "original_dim = 784"
   ]
  },
  {
   "cell_type": "code",
   "execution_count": 4,
   "metadata": {},
   "outputs": [
    {
     "data": {
      "text/plain": [
       "<BatchDataset shapes: (None, 784), types: tf.float32>"
      ]
     },
     "execution_count": 4,
     "metadata": {},
     "output_type": "execute_result"
    }
   ],
   "source": [
    "(x_train, _), (x_test, _) = K.datasets.mnist.load_data()\n",
    "\n",
    "x_train = x_train / 255.\n",
    "x_test = x_test / 255.\n",
    "\n",
    "x_train = x_train.astype(np.float32)\n",
    "x_test = x_test.astype(np.float32)\n",
    "\n",
    "x_train = np.reshape(x_train, (x_train.shape[0], 784))\n",
    "x_test = np.reshape(x_test, (x_test.shape[0], 784))\n",
    "\n",
    "training_dataset = tf.data.Dataset.from_tensor_slices(x_train).batch(batch_size)\n",
    "training_dataset"
   ]
  },
  {
   "cell_type": "markdown",
   "metadata": {},
   "source": [
    "# 모델 정의"
   ]
  },
  {
   "cell_type": "code",
   "execution_count": 9,
   "metadata": {},
   "outputs": [
    {
     "name": "stdout",
     "output_type": "stream",
     "text": [
      "Model: \"sparse_autoencoder_2\"\n",
      "_________________________________________________________________\n",
      "Layer (type)                 Output Shape              Param #   \n",
      "=================================================================\n",
      "sparse_encoder_2 (SparseEnco (None, 128)               100480    \n",
      "_________________________________________________________________\n",
      "decoder (Decoder)            (None, 784)               101136    \n",
      "=================================================================\n",
      "Total params: 201,616\n",
      "Trainable params: 201,616\n",
      "Non-trainable params: 0\n",
      "_________________________________________________________________\n"
     ]
    }
   ],
   "source": [
    "class SparseEncoder(K.layers.Layer):\n",
    "    def __init__(self, hidden_dim):\n",
    "        super(SparseEncoder, self).__init__()\n",
    "        self.hidden_layer = K.layers.Dense(units=hidden_dim,\n",
    "            activation=tf.nn.relu, activity_regularizer=regularizers.l1(10e-5) # activity에 대한 sparse constraint\n",
    "        )\n",
    "    \n",
    "    def call(self, input_features):\n",
    "        x = self.hidden_layer(input_features)\n",
    "        return x\n",
    "\n",
    "class Decoder(tf.keras.layers.Layer):\n",
    "    \n",
    "    def __init__(self, original_dim):\n",
    "        super(Decoder, self).__init__()\n",
    "        self.output_layer = tf.keras.layers.Dense(units=original_dim, activation=tf.nn.relu)\n",
    "        \n",
    "    def call(self, encoded):\n",
    "        x = self.output_layer(encoded)\n",
    "        return x\n",
    "\n",
    "class SparseAutoencoder(tf.keras.Model):\n",
    "    \n",
    "    def __init__(self, hidden_dim, original_dim):\n",
    "        super(SparseAutoencoder, self).__init__()\n",
    "        self.loss = []\n",
    "        self.encoder = SparseEncoder(hidden_dim=hidden_dim)\n",
    "        self.decoder = Decoder(original_dim=original_dim)\n",
    "        \n",
    "    def call(self, input_features):\n",
    "        encoded = self.encoder(input_features)\n",
    "        reconstructed = self.decoder(encoded)\n",
    "        return reconstructed\n",
    "    \n",
    "    \n",
    "    \n",
    "autoencoder = SparseAutoencoder(hidden_dim=hidden_dim, original_dim=original_dim)\n",
    "autoencoder.build(input_shape=(None, 784))\n",
    "autoencoder.call(tf.keras.layers.Input(shape = (784)))\n",
    "autoencoder.summary()\n",
    "#tf.keras.utils.plot_model(autoencoder, show_shapes=True)    "
   ]
  },
  {
   "cell_type": "markdown",
   "metadata": {},
   "source": [
    "# 학습"
   ]
  },
  {
   "cell_type": "code",
   "execution_count": 10,
   "metadata": {},
   "outputs": [
    {
     "name": "stdout",
     "output_type": "stream",
     "text": [
      "Epoch 1/50. Loss: 5.150\n",
      "Epoch 2/50. Loss: 3.082\n",
      "Epoch 3/50. Loss: 2.958\n",
      "Epoch 4/50. Loss: 2.886\n",
      "Epoch 5/50. Loss: 2.872\n",
      "Epoch 6/50. Loss: 2.860\n",
      "Epoch 7/50. Loss: 2.828\n",
      "Epoch 8/50. Loss: 2.827\n",
      "Epoch 9/50. Loss: 2.802\n",
      "Epoch 10/50. Loss: 2.825\n",
      "Epoch 11/50. Loss: 2.798\n",
      "Epoch 12/50. Loss: 2.807\n",
      "Epoch 13/50. Loss: 2.797\n",
      "Epoch 14/50. Loss: 2.795\n",
      "Epoch 15/50. Loss: 2.822\n",
      "Epoch 16/50. Loss: 2.812\n",
      "Epoch 17/50. Loss: 2.778\n",
      "Epoch 18/50. Loss: 2.807\n",
      "Epoch 19/50. Loss: 2.803\n",
      "Epoch 20/50. Loss: 2.810\n",
      "Epoch 21/50. Loss: 2.802\n",
      "Epoch 22/50. Loss: 2.799\n",
      "Epoch 23/50. Loss: 2.789\n",
      "Epoch 24/50. Loss: 2.804\n",
      "Epoch 25/50. Loss: 2.792\n",
      "Epoch 26/50. Loss: 2.816\n",
      "Epoch 27/50. Loss: 2.793\n",
      "Epoch 28/50. Loss: 2.794\n",
      "Epoch 29/50. Loss: 2.781\n",
      "Epoch 30/50. Loss: 2.820\n",
      "Epoch 31/50. Loss: 2.771\n",
      "Epoch 32/50. Loss: 2.780\n",
      "Epoch 33/50. Loss: 2.801\n",
      "Epoch 34/50. Loss: 2.775\n",
      "Epoch 35/50. Loss: 2.814\n",
      "Epoch 36/50. Loss: 2.780\n",
      "Epoch 37/50. Loss: 2.806\n",
      "Epoch 38/50. Loss: 2.785\n",
      "Epoch 39/50. Loss: 2.773\n",
      "Epoch 40/50. Loss: 2.811\n",
      "Epoch 41/50. Loss: 2.787\n",
      "Epoch 42/50. Loss: 2.798\n",
      "Epoch 43/50. Loss: 2.810\n",
      "Epoch 44/50. Loss: 2.794\n",
      "Epoch 45/50. Loss: 2.788\n",
      "Epoch 46/50. Loss: 2.778\n",
      "Epoch 47/50. Loss: 2.789\n",
      "Epoch 48/50. Loss: 2.786\n",
      "Epoch 49/50. Loss: 2.809\n",
      "Epoch 50/50. Loss: 2.783\n"
     ]
    }
   ],
   "source": [
    "def loss(preds, real):\n",
    "    return tf.reduce_mean(tf.square(tf.subtract(preds, real)))\n",
    "\n",
    "def train(loss, model, opt, original):\n",
    "    with tf.GradientTape() as tape:\n",
    "        preds = model(original)\n",
    "        reconstruction_error = loss(preds, original)\n",
    "    gradients = tape.gradient(reconstruction_error, model.trainable_variables)\n",
    "    opt.apply_gradients(zip(gradients, model.trainable_variables))\n",
    "    return reconstruction_error \n",
    "\n",
    "def train_loop(model, opt, loss, dataset, epochs=20):\n",
    "    for epoch in range(epochs):\n",
    "        epoch_loss = 0\n",
    "        for step, batch_features in enumerate(dataset):\n",
    "            loss_values = train(loss, model, opt, batch_features)\n",
    "            epoch_loss += loss_values\n",
    "        model.loss.append(epoch_loss)\n",
    "        print('Epoch {}/{}. Loss: {:.3f}'.format(epoch + 1, epochs, epoch_loss.numpy()))\n",
    "\n",
    "opt = tf.keras.optimizers.Adam(learning_rate=1e-2)\n",
    "train_loop(autoencoder, opt, loss, training_dataset, epochs=max_epochs)        "
   ]
  },
  {
   "cell_type": "code",
   "execution_count": 11,
   "metadata": {},
   "outputs": [
    {
     "data": {
      "image/png": "[encoded data removed]",
      "text/plain": [
       "<Figure size 432x288 with 1 Axes>"
      ]
     },
     "metadata": {
      "needs_background": "light"
     },
     "output_type": "display_data"
    }
   ],
   "source": [
    "plt.plot(range(max_epochs), autoencoder.loss)\n",
    "plt.xlabel('Epochs')\n",
    "plt.ylabel('Loss')\n",
    "plt.show()"
   ]
  },
  {
   "cell_type": "markdown",
   "metadata": {},
   "source": [
    "# Reconstruct 시각화"
   ]
  },
  {
   "cell_type": "code",
   "execution_count": 12,
   "metadata": {},
   "outputs": [
    {
     "data": {
      "image/png": "[encoded data removed]",
      "text/plain": [
       "<Figure size 1440x288 with 20 Axes>"
      ]
     },
     "metadata": {
      "needs_background": "light"
     },
     "output_type": "display_data"
    }
   ],
   "source": [
    "number = 10 \n",
    "plt.figure(figsize=(20,4))\n",
    "for index in range(number):\n",
    "    # original\n",
    "    ax = plt.subplot(2, number, index+1)\n",
    "    plt.imshow(x_test[index].reshape(28,28), cmap='gray')\n",
    "    ax.get_xaxis().set_visible(False)\n",
    "    ax.get_yaxis().set_visible(False)\n",
    "    \n",
    "    # reconstructed\n",
    "    ax = plt.subplot(2, number, index+1+number)  # 다음 줄\n",
    "    plt.imshow(autoencoder(x_test)[index].numpy().reshape(28,28), cmap='gray')\n",
    "    ax.get_xaxis().set_visible(False)\n",
    "    ax.get_yaxis().set_visible(False)\n",
    "plt.show()"
   ]
  },
  {
   "cell_type": "code",
   "execution_count": null,
   "metadata": {},
   "outputs": [],
   "source": []
  }
 ],
 "metadata": {
  "kernelspec": {
   "display_name": "Python (ai)",
   "language": "python",
   "name": "ai"
  },
  "language_info": {
   "codemirror_mode": {
    "name": "ipython",
    "version": 3
   },
   "file_extension": ".py",
   "mimetype": "text/x-python",
   "name": "python",
   "nbconvert_exporter": "python",
   "pygments_lexer": "ipython3",
   "version": "3.6.12"
  },
  "toc": {
   "base_numbering": 1,
   "nav_menu": {},
   "number_sections": true,
   "sideBar": true,
   "skip_h1_title": false,
   "title_cell": "Table of Contents",
   "title_sidebar": "Contents",
   "toc_cell": false,
   "toc_position": {},
   "toc_section_display": true,
   "toc_window_display": false
  }
 },
 "nbformat": 4,
 "nbformat_minor": 4
}
