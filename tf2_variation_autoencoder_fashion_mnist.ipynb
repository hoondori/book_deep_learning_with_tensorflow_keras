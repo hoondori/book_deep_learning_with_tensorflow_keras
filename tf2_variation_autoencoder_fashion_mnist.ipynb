{
 "cells": [
  {
   "cell_type": "markdown",
   "metadata": {},
   "source": [
    "# TF2, VAE, MNIST"
   ]
  },
  {
   "cell_type": "code",
   "execution_count": 6,
   "metadata": {},
   "outputs": [
    {
     "name": "stdout",
     "output_type": "stream",
     "text": [
      "GPU[0] is ready\n"
     ]
    }
   ],
   "source": [
    "import tensorflow as tf\n",
    "gpus = tf.config.experimental.list_physical_devices('GPU')\n",
    "if gpus:\n",
    "    # 텐서플로가 첫 번째 GPU만 사용하도록 제한\n",
    "    # 프로그램 시작시에 메모리 증가가 설정되어야만 합니다\n",
    "    try:\n",
    "        tf.config.experimental.set_visible_devices(gpus[0], 'GPU')\n",
    "        tf.config.experimental.set_memory_growth(gpus[0], True)\n",
    "        print('GPU[0] is ready')\n",
    "    except RuntimeError as e:\n",
    "        # 프로그램 시작시에 접근 가능한 장치가 설정되어야만 합니다\n",
    "        print(e)\n",
    "else:\n",
    "    print('Please check GPU available')\n",
    "    \n",
    "import os\n",
    "import sys\n",
    "import tensorflow as tf\n",
    "from tensorflow.keras import datasets, layers, models, optimizers\n",
    "import numpy as np\n",
    "import pandas as pd\n",
    "import matplotlib.pyplot as plt\n",
    "from IPython.display import clear_output\n",
    "from six.moves import urllib\n",
    "from tensorflow import feature_column as fc\n",
    "import tensorflow_datasets as tfds\n",
    "plt.rcParams[\"font.family\"] = 'NanumBarunGothic'\n",
    "TENSORBOARD_BINARY = '/home/hoondori/anaconda3/envs/ai/bin/tensorboard'\n",
    "os.environ['TENSORBOARD_BINARY'] =  TENSORBOARD_BINARY "
   ]
  },
  {
   "cell_type": "code",
   "execution_count": 7,
   "metadata": {},
   "outputs": [],
   "source": [
    "import tensorflow as tf\n",
    "import numpy as np\n",
    "from matplotlib import pyplot as plt"
   ]
  },
  {
   "cell_type": "code",
   "execution_count": 8,
   "metadata": {},
   "outputs": [],
   "source": [
    "np.random.seed(333)\n",
    "tf.random.set_seed(333)"
   ]
  },
  {
   "cell_type": "markdown",
   "metadata": {},
   "source": [
    "# 초매개변수 선언"
   ]
  },
  {
   "cell_type": "code",
   "execution_count": 9,
   "metadata": {},
   "outputs": [],
   "source": [
    "hidden_dim = 512\n",
    "latent_dim = 10   #  encoded z 의 dim\n",
    "num_epochs = 80\n",
    "batch_size = 100\n",
    "learning_rate = 0.001"
   ]
  },
  {
   "cell_type": "markdown",
   "metadata": {},
   "source": [
    "# FASHION MNIST 데이터 확보"
   ]
  },
  {
   "cell_type": "code",
   "execution_count": 10,
   "metadata": {},
   "outputs": [
    {
     "name": "stdout",
     "output_type": "stream",
     "text": [
      "(60000, 28, 28) (60000,)\n",
      "(10000, 28, 28) (10000,)\n"
     ]
    },
    {
     "data": {
      "text/plain": [
       "<BatchDataset shapes: (None, 28, 28), types: tf.float32>"
      ]
     },
     "execution_count": 10,
     "metadata": {},
     "output_type": "execute_result"
    }
   ],
   "source": [
    "(x_train, y_train), (x_test, y_test) = tf.keras.datasets.fashion_mnist.load_data()\n",
    "x_train, x_test = x_train.astype(np.float32)/255., x_test.astype(np.float32)/255.\n",
    "\n",
    "image_size = x_train.shape[1] * x_train.shape[2]\n",
    "\n",
    "dataset = tf.data.Dataset.from_tensor_slices(x_train)\n",
    "dataset = dataset.shuffle(batch_size*5).batch(batch_size)\n",
    "\n",
    "print(x_train.shape, y_train.shape)\n",
    "print(x_test.shape, y_test.shape)\n",
    "dataset"
   ]
  },
  {
   "cell_type": "code",
   "execution_count": 11,
   "metadata": {},
   "outputs": [
    {
     "data": {
      "image/png": "[encoded data removed]",
      "text/plain": [
       "<Figure size 1440x288 with 10 Axes>"
      ]
     },
     "metadata": {
      "needs_background": "light"
     },
     "output_type": "display_data"
    }
   ],
   "source": [
    "number = 10  # how many digits we will display\n",
    "plt.figure(figsize=(20, 4))\n",
    "for index in range(number):\n",
    "    # display original\n",
    "    ax = plt.subplot(1, number, index + 1)\n",
    "    plt.imshow(x_train[index], cmap='gray')\n",
    "    ax.get_xaxis().set_visible(False)\n",
    "    ax.get_yaxis().set_visible(False)\n",
    "plt.show()"
   ]
  },
  {
   "cell_type": "markdown",
   "metadata": {},
   "source": [
    "# 모델"
   ]
  },
  {
   "cell_type": "code",
   "execution_count": 17,
   "metadata": {},
   "outputs": [
    {
     "name": "stdout",
     "output_type": "stream",
     "text": [
      "Model: \"vae_1\"\n",
      "_________________________________________________________________\n",
      "Layer (type)                 Output Shape              Param #   \n",
      "=================================================================\n",
      "dense_5 (Dense)              multiple                  401920    \n",
      "_________________________________________________________________\n",
      "dense_6 (Dense)              multiple                  5130      \n",
      "_________________________________________________________________\n",
      "dense_7 (Dense)              multiple                  5130      \n",
      "_________________________________________________________________\n",
      "dense_8 (Dense)              multiple                  5632      \n",
      "_________________________________________________________________\n",
      "dense_9 (Dense)              multiple                  402192    \n",
      "=================================================================\n",
      "Total params: 820,004\n",
      "Trainable params: 820,004\n",
      "Non-trainable params: 0\n",
      "_________________________________________________________________\n"
     ]
    }
   ],
   "source": [
    "class VAE(tf.keras.Model):\n",
    "    \n",
    "    def __init__(self, h_dim, z_dim, image_size, **kwargs):\n",
    "        super(VAE, self).__init__(**kwargs)\n",
    "        \n",
    "        # for encoder : input -> fc1 -> fc2, mu\n",
    "        #                            -> fc3, sigma\n",
    "        self.fc1 = tf.keras.layers.Dense(h_dim, activation='relu')\n",
    "        self.fc2 = tf.keras.layers.Dense(z_dim)\n",
    "        self.fc3 = tf.keras.layers.Dense(z_dim)\n",
    "        \n",
    "        # for decoder : z (from reparameterization) -> fc4 -> fc5 \n",
    "        self.fc4 = tf.keras.layers.Dense(h_dim, activation='relu')\n",
    "        self.fc5 = tf.keras.layers.Dense(image_size)\n",
    "        \n",
    "        \n",
    "    def encode(self, x):\n",
    "        x = self.fc1(x)\n",
    "        return self.fc2(x), self.fc3(x)\n",
    "    \n",
    "    def reparameterize(self, mu, log_var):\n",
    "        std = tf.exp(log_var * 0.5)\n",
    "        eps = tf.random.normal(std.shape)\n",
    "        z = mu + eps * std\n",
    "        return z\n",
    "    \n",
    "    def decode_logits(self,z):\n",
    "        x = self.fc4(z)\n",
    "        logits = self.fc5(x)\n",
    "        return logits\n",
    "    \n",
    "    def decode(self, z):\n",
    "        return tf.nn.sigmoid(self.decode_logits(z))\n",
    "    \n",
    "    def call(self, inputs):\n",
    "        mu, log_var = self.encode(inputs)\n",
    "        z = self.reparameterize(mu, log_var)\n",
    "        logits = self.decode_logits(z)\n",
    "        return logits, mu, log_var\n",
    "    \n",
    "model = VAE(hidden_dim, latent_dim, image_size)\n",
    "model.build(input_shape=(4, image_size))\n",
    "model.summary()"
   ]
  },
  {
   "cell_type": "markdown",
   "metadata": {},
   "source": [
    "# 학습"
   ]
  },
  {
   "cell_type": "code",
   "execution_count": 18,
   "metadata": {},
   "outputs": [
    {
     "name": "stdout",
     "output_type": "stream",
     "text": [
      "Epoch[1/80], Step [200/600], Reconst Loss: 271.4844, KL Div: 14.3124\n",
      "Epoch[1/80], Step [400/600], Reconst Loss: 264.7756, KL Div: 13.9617\n",
      "Epoch[1/80], Step [600/600], Reconst Loss: 236.6939, KL Div: 14.9260\n",
      "Epoch[2/80], Step [200/600], Reconst Loss: 238.6734, KL Div: 13.5730\n",
      "Epoch[2/80], Step [400/600], Reconst Loss: 243.6610, KL Div: 15.0059\n",
      "Epoch[2/80], Step [600/600], Reconst Loss: 229.7968, KL Div: 15.4499\n",
      "Epoch[3/80], Step [200/600], Reconst Loss: 241.0036, KL Div: 14.8772\n",
      "Epoch[3/80], Step [400/600], Reconst Loss: 221.8995, KL Div: 15.2210\n",
      "Epoch[3/80], Step [600/600], Reconst Loss: 213.9315, KL Div: 15.3640\n",
      "Epoch[4/80], Step [200/600], Reconst Loss: 245.7823, KL Div: 14.6570\n",
      "Epoch[4/80], Step [400/600], Reconst Loss: 244.6368, KL Div: 16.4599\n",
      "Epoch[4/80], Step [600/600], Reconst Loss: 229.6854, KL Div: 15.2570\n",
      "Epoch[5/80], Step [200/600], Reconst Loss: 230.2720, KL Div: 15.1150\n",
      "Epoch[5/80], Step [400/600], Reconst Loss: 240.2941, KL Div: 14.6803\n",
      "Epoch[5/80], Step [600/600], Reconst Loss: 223.6670, KL Div: 14.8006\n",
      "Epoch[6/80], Step [200/600], Reconst Loss: 222.8231, KL Div: 14.9059\n",
      "Epoch[6/80], Step [400/600], Reconst Loss: 231.9361, KL Div: 15.1188\n",
      "Epoch[6/80], Step [600/600], Reconst Loss: 230.9539, KL Div: 15.3456\n",
      "Epoch[7/80], Step [200/600], Reconst Loss: 227.6402, KL Div: 14.2223\n",
      "Epoch[7/80], Step [400/600], Reconst Loss: 242.1624, KL Div: 16.0394\n",
      "Epoch[7/80], Step [600/600], Reconst Loss: 222.9754, KL Div: 15.8788\n",
      "Epoch[8/80], Step [200/600], Reconst Loss: 238.7036, KL Div: 15.2264\n",
      "Epoch[8/80], Step [400/600], Reconst Loss: 223.4103, KL Div: 14.7192\n",
      "Epoch[8/80], Step [600/600], Reconst Loss: 214.6022, KL Div: 15.2938\n",
      "Epoch[9/80], Step [200/600], Reconst Loss: 238.6154, KL Div: 15.5783\n",
      "Epoch[9/80], Step [400/600], Reconst Loss: 234.4134, KL Div: 15.9893\n",
      "Epoch[9/80], Step [600/600], Reconst Loss: 226.5433, KL Div: 14.6850\n",
      "Epoch[10/80], Step [200/600], Reconst Loss: 228.8937, KL Div: 14.7195\n",
      "Epoch[10/80], Step [400/600], Reconst Loss: 224.3400, KL Div: 14.9368\n",
      "Epoch[10/80], Step [600/600], Reconst Loss: 224.2263, KL Div: 16.2438\n",
      "Epoch[11/80], Step [200/600], Reconst Loss: 230.2791, KL Div: 16.4264\n",
      "Epoch[11/80], Step [400/600], Reconst Loss: 224.0499, KL Div: 15.8099\n",
      "Epoch[11/80], Step [600/600], Reconst Loss: 230.1249, KL Div: 15.6781\n",
      "Epoch[12/80], Step [200/600], Reconst Loss: 241.6701, KL Div: 15.9829\n",
      "Epoch[12/80], Step [400/600], Reconst Loss: 238.4626, KL Div: 15.4929\n",
      "Epoch[12/80], Step [600/600], Reconst Loss: 235.5897, KL Div: 15.1820\n",
      "Epoch[13/80], Step [200/600], Reconst Loss: 229.0458, KL Div: 14.1201\n",
      "Epoch[13/80], Step [400/600], Reconst Loss: 225.2979, KL Div: 14.8717\n",
      "Epoch[13/80], Step [600/600], Reconst Loss: 233.6034, KL Div: 15.5060\n",
      "Epoch[14/80], Step [200/600], Reconst Loss: 225.4205, KL Div: 14.9274\n",
      "Epoch[14/80], Step [400/600], Reconst Loss: 220.2345, KL Div: 14.9672\n",
      "Epoch[14/80], Step [600/600], Reconst Loss: 224.8662, KL Div: 16.1441\n",
      "Epoch[15/80], Step [200/600], Reconst Loss: 226.2220, KL Div: 15.5559\n",
      "Epoch[15/80], Step [400/600], Reconst Loss: 225.3588, KL Div: 15.8109\n",
      "Epoch[15/80], Step [600/600], Reconst Loss: 230.8349, KL Div: 16.2539\n",
      "Epoch[16/80], Step [200/600], Reconst Loss: 221.6655, KL Div: 15.8650\n",
      "Epoch[16/80], Step [400/600], Reconst Loss: 225.8745, KL Div: 15.5756\n",
      "Epoch[16/80], Step [600/600], Reconst Loss: 218.5408, KL Div: 14.9830\n",
      "Epoch[17/80], Step [200/600], Reconst Loss: 229.4068, KL Div: 15.1293\n",
      "Epoch[17/80], Step [400/600], Reconst Loss: 229.3355, KL Div: 15.5223\n",
      "Epoch[17/80], Step [600/600], Reconst Loss: 225.5833, KL Div: 15.0859\n",
      "Epoch[18/80], Step [200/600], Reconst Loss: 234.0645, KL Div: 15.8266\n",
      "Epoch[18/80], Step [400/600], Reconst Loss: 229.3401, KL Div: 15.2848\n",
      "Epoch[18/80], Step [600/600], Reconst Loss: 231.9339, KL Div: 15.5349\n",
      "Epoch[19/80], Step [200/600], Reconst Loss: 219.0838, KL Div: 15.8541\n",
      "Epoch[19/80], Step [400/600], Reconst Loss: 222.7922, KL Div: 15.2808\n",
      "Epoch[19/80], Step [600/600], Reconst Loss: 223.4584, KL Div: 16.2634\n",
      "Epoch[20/80], Step [200/600], Reconst Loss: 239.6258, KL Div: 14.8448\n",
      "Epoch[20/80], Step [400/600], Reconst Loss: 228.8866, KL Div: 15.0675\n",
      "Epoch[20/80], Step [600/600], Reconst Loss: 235.3930, KL Div: 16.1213\n",
      "Epoch[21/80], Step [200/600], Reconst Loss: 241.8650, KL Div: 16.3349\n",
      "Epoch[21/80], Step [400/600], Reconst Loss: 222.2247, KL Div: 15.2788\n",
      "Epoch[21/80], Step [600/600], Reconst Loss: 225.0218, KL Div: 15.0908\n",
      "Epoch[22/80], Step [200/600], Reconst Loss: 236.9195, KL Div: 15.5127\n",
      "Epoch[22/80], Step [400/600], Reconst Loss: 224.1971, KL Div: 15.1143\n",
      "Epoch[22/80], Step [600/600], Reconst Loss: 221.5247, KL Div: 15.2969\n",
      "Epoch[23/80], Step [200/600], Reconst Loss: 225.2279, KL Div: 15.0742\n",
      "Epoch[23/80], Step [400/600], Reconst Loss: 224.4280, KL Div: 15.8689\n",
      "Epoch[23/80], Step [600/600], Reconst Loss: 219.2422, KL Div: 15.3641\n",
      "Epoch[24/80], Step [200/600], Reconst Loss: 228.4850, KL Div: 15.3779\n",
      "Epoch[24/80], Step [400/600], Reconst Loss: 222.7175, KL Div: 15.3798\n",
      "Epoch[24/80], Step [600/600], Reconst Loss: 221.1325, KL Div: 15.4773\n",
      "Epoch[25/80], Step [200/600], Reconst Loss: 221.4789, KL Div: 14.4734\n",
      "Epoch[25/80], Step [400/600], Reconst Loss: 232.2051, KL Div: 16.0796\n",
      "Epoch[25/80], Step [600/600], Reconst Loss: 224.7500, KL Div: 15.7281\n",
      "Epoch[26/80], Step [200/600], Reconst Loss: 224.8552, KL Div: 14.5198\n",
      "Epoch[26/80], Step [400/600], Reconst Loss: 224.5746, KL Div: 15.1333\n",
      "Epoch[26/80], Step [600/600], Reconst Loss: 227.6084, KL Div: 14.9163\n",
      "Epoch[27/80], Step [200/600], Reconst Loss: 222.5763, KL Div: 15.0615\n",
      "Epoch[27/80], Step [400/600], Reconst Loss: 224.6417, KL Div: 14.7951\n",
      "Epoch[27/80], Step [600/600], Reconst Loss: 226.3604, KL Div: 15.3232\n",
      "Epoch[28/80], Step [200/600], Reconst Loss: 235.0455, KL Div: 15.7909\n",
      "Epoch[28/80], Step [400/600], Reconst Loss: 220.9409, KL Div: 15.3436\n",
      "Epoch[28/80], Step [600/600], Reconst Loss: 225.4920, KL Div: 15.2670\n",
      "Epoch[29/80], Step [200/600], Reconst Loss: 224.6351, KL Div: 15.2526\n",
      "Epoch[29/80], Step [400/600], Reconst Loss: 221.7208, KL Div: 15.5727\n",
      "Epoch[29/80], Step [600/600], Reconst Loss: 227.9543, KL Div: 15.2509\n",
      "Epoch[30/80], Step [200/600], Reconst Loss: 222.7919, KL Div: 15.4166\n",
      "Epoch[30/80], Step [400/600], Reconst Loss: 217.8459, KL Div: 14.9785\n",
      "Epoch[30/80], Step [600/600], Reconst Loss: 229.4794, KL Div: 16.0754\n",
      "Epoch[31/80], Step [200/600], Reconst Loss: 215.3607, KL Div: 15.1501\n",
      "Epoch[31/80], Step [400/600], Reconst Loss: 220.0756, KL Div: 15.8124\n",
      "Epoch[31/80], Step [600/600], Reconst Loss: 231.9809, KL Div: 15.2344\n",
      "Epoch[32/80], Step [200/600], Reconst Loss: 224.5030, KL Div: 16.0600\n",
      "Epoch[32/80], Step [400/600], Reconst Loss: 218.5224, KL Div: 15.6587\n",
      "Epoch[32/80], Step [600/600], Reconst Loss: 229.8573, KL Div: 15.2718\n",
      "Epoch[33/80], Step [200/600], Reconst Loss: 230.4164, KL Div: 15.7843\n",
      "Epoch[33/80], Step [400/600], Reconst Loss: 224.4634, KL Div: 15.7130\n",
      "Epoch[33/80], Step [600/600], Reconst Loss: 220.5743, KL Div: 15.5010\n",
      "Epoch[34/80], Step [200/600], Reconst Loss: 231.8299, KL Div: 15.4942\n",
      "Epoch[34/80], Step [400/600], Reconst Loss: 230.8973, KL Div: 15.6020\n",
      "Epoch[34/80], Step [600/600], Reconst Loss: 230.0519, KL Div: 15.1472\n",
      "Epoch[35/80], Step [200/600], Reconst Loss: 223.3739, KL Div: 16.1293\n",
      "Epoch[35/80], Step [400/600], Reconst Loss: 235.2156, KL Div: 15.4284\n",
      "Epoch[35/80], Step [600/600], Reconst Loss: 229.8604, KL Div: 16.3306\n",
      "Epoch[36/80], Step [200/600], Reconst Loss: 220.0356, KL Div: 15.2268\n",
      "Epoch[36/80], Step [400/600], Reconst Loss: 214.7343, KL Div: 15.6628\n",
      "Epoch[36/80], Step [600/600], Reconst Loss: 222.5421, KL Div: 14.7847\n",
      "Epoch[37/80], Step [200/600], Reconst Loss: 223.4626, KL Div: 15.3145\n",
      "Epoch[37/80], Step [400/600], Reconst Loss: 224.8074, KL Div: 15.8445\n",
      "Epoch[37/80], Step [600/600], Reconst Loss: 239.9378, KL Div: 14.9122\n",
      "Epoch[38/80], Step [200/600], Reconst Loss: 224.0941, KL Div: 16.1525\n",
      "Epoch[38/80], Step [400/600], Reconst Loss: 218.7613, KL Div: 15.0498\n",
      "Epoch[38/80], Step [600/600], Reconst Loss: 222.5101, KL Div: 15.4442\n",
      "Epoch[39/80], Step [200/600], Reconst Loss: 234.6677, KL Div: 15.3607\n",
      "Epoch[39/80], Step [400/600], Reconst Loss: 217.1099, KL Div: 15.2143\n",
      "Epoch[39/80], Step [600/600], Reconst Loss: 229.7332, KL Div: 14.6600\n",
      "Epoch[40/80], Step [200/600], Reconst Loss: 225.3229, KL Div: 15.4868\n"
     ]
    },
    {
     "name": "stdout",
     "output_type": "stream",
     "text": [
      "Epoch[40/80], Step [400/600], Reconst Loss: 217.8890, KL Div: 15.4634\n",
      "Epoch[40/80], Step [600/600], Reconst Loss: 231.4492, KL Div: 15.3385\n",
      "Epoch[41/80], Step [200/600], Reconst Loss: 223.6555, KL Div: 16.3097\n",
      "Epoch[41/80], Step [400/600], Reconst Loss: 221.7516, KL Div: 14.7855\n",
      "Epoch[41/80], Step [600/600], Reconst Loss: 224.7079, KL Div: 15.4332\n",
      "Epoch[42/80], Step [200/600], Reconst Loss: 225.6893, KL Div: 15.2672\n",
      "Epoch[42/80], Step [400/600], Reconst Loss: 218.9330, KL Div: 13.7519\n",
      "Epoch[42/80], Step [600/600], Reconst Loss: 223.7931, KL Div: 15.7622\n",
      "Epoch[43/80], Step [200/600], Reconst Loss: 239.0128, KL Div: 15.0829\n",
      "Epoch[43/80], Step [400/600], Reconst Loss: 223.2902, KL Div: 14.8383\n",
      "Epoch[43/80], Step [600/600], Reconst Loss: 227.1059, KL Div: 15.5520\n",
      "Epoch[44/80], Step [200/600], Reconst Loss: 234.1590, KL Div: 14.8435\n",
      "Epoch[44/80], Step [400/600], Reconst Loss: 229.4859, KL Div: 15.3908\n",
      "Epoch[44/80], Step [600/600], Reconst Loss: 225.2988, KL Div: 14.8021\n",
      "Epoch[45/80], Step [200/600], Reconst Loss: 230.9495, KL Div: 15.6777\n",
      "Epoch[45/80], Step [400/600], Reconst Loss: 223.2956, KL Div: 16.5079\n",
      "Epoch[45/80], Step [600/600], Reconst Loss: 229.4193, KL Div: 15.2785\n",
      "Epoch[46/80], Step [200/600], Reconst Loss: 224.8445, KL Div: 14.8214\n",
      "Epoch[46/80], Step [400/600], Reconst Loss: 216.7495, KL Div: 15.6401\n",
      "Epoch[46/80], Step [600/600], Reconst Loss: 233.2577, KL Div: 15.3399\n",
      "Epoch[47/80], Step [200/600], Reconst Loss: 242.5737, KL Div: 14.9099\n",
      "Epoch[47/80], Step [400/600], Reconst Loss: 225.2365, KL Div: 16.0678\n",
      "Epoch[47/80], Step [600/600], Reconst Loss: 215.3772, KL Div: 15.5854\n",
      "Epoch[48/80], Step [200/600], Reconst Loss: 224.4179, KL Div: 15.2118\n",
      "Epoch[48/80], Step [400/600], Reconst Loss: 229.3138, KL Div: 15.5548\n",
      "Epoch[48/80], Step [600/600], Reconst Loss: 225.6638, KL Div: 15.8382\n",
      "Epoch[49/80], Step [200/600], Reconst Loss: 229.1058, KL Div: 15.4065\n",
      "Epoch[49/80], Step [400/600], Reconst Loss: 222.9480, KL Div: 15.4488\n",
      "Epoch[49/80], Step [600/600], Reconst Loss: 215.0425, KL Div: 15.3765\n",
      "Epoch[50/80], Step [200/600], Reconst Loss: 219.5360, KL Div: 14.8673\n",
      "Epoch[50/80], Step [400/600], Reconst Loss: 225.8954, KL Div: 15.0652\n",
      "Epoch[50/80], Step [600/600], Reconst Loss: 222.7448, KL Div: 15.4423\n",
      "Epoch[51/80], Step [200/600], Reconst Loss: 221.4840, KL Div: 15.4419\n",
      "Epoch[51/80], Step [400/600], Reconst Loss: 219.4623, KL Div: 15.4670\n",
      "Epoch[51/80], Step [600/600], Reconst Loss: 213.6223, KL Div: 16.0968\n",
      "Epoch[52/80], Step [200/600], Reconst Loss: 219.0469, KL Div: 15.8393\n",
      "Epoch[52/80], Step [400/600], Reconst Loss: 235.0165, KL Div: 15.3541\n",
      "Epoch[52/80], Step [600/600], Reconst Loss: 225.3471, KL Div: 15.2223\n",
      "Epoch[53/80], Step [200/600], Reconst Loss: 237.2122, KL Div: 15.3647\n",
      "Epoch[53/80], Step [400/600], Reconst Loss: 223.2757, KL Div: 14.8197\n",
      "Epoch[53/80], Step [600/600], Reconst Loss: 214.0183, KL Div: 15.7358\n",
      "Epoch[54/80], Step [200/600], Reconst Loss: 228.2003, KL Div: 16.1523\n",
      "Epoch[54/80], Step [400/600], Reconst Loss: 213.3120, KL Div: 15.3644\n",
      "Epoch[54/80], Step [600/600], Reconst Loss: 216.5579, KL Div: 15.8445\n",
      "Epoch[55/80], Step [200/600], Reconst Loss: 234.9978, KL Div: 15.4119\n",
      "Epoch[55/80], Step [400/600], Reconst Loss: 220.5097, KL Div: 14.3017\n",
      "Epoch[55/80], Step [600/600], Reconst Loss: 207.0011, KL Div: 15.5860\n",
      "Epoch[56/80], Step [200/600], Reconst Loss: 226.3741, KL Div: 15.2446\n",
      "Epoch[56/80], Step [400/600], Reconst Loss: 231.7454, KL Div: 14.9150\n",
      "Epoch[56/80], Step [600/600], Reconst Loss: 231.8188, KL Div: 15.4773\n",
      "Epoch[57/80], Step [200/600], Reconst Loss: 224.5874, KL Div: 14.9321\n",
      "Epoch[57/80], Step [400/600], Reconst Loss: 223.6211, KL Div: 15.2274\n",
      "Epoch[57/80], Step [600/600], Reconst Loss: 211.6561, KL Div: 15.5298\n",
      "Epoch[58/80], Step [200/600], Reconst Loss: 232.1575, KL Div: 15.9709\n",
      "Epoch[58/80], Step [400/600], Reconst Loss: 234.1793, KL Div: 14.8948\n",
      "Epoch[58/80], Step [600/600], Reconst Loss: 232.9877, KL Div: 15.3163\n",
      "Epoch[59/80], Step [200/600], Reconst Loss: 225.3788, KL Div: 15.5630\n",
      "Epoch[59/80], Step [400/600], Reconst Loss: 225.9412, KL Div: 15.1443\n",
      "Epoch[59/80], Step [600/600], Reconst Loss: 224.2194, KL Div: 15.6501\n",
      "Epoch[60/80], Step [200/600], Reconst Loss: 234.8285, KL Div: 15.5479\n",
      "Epoch[60/80], Step [400/600], Reconst Loss: 214.3984, KL Div: 15.9209\n",
      "Epoch[60/80], Step [600/600], Reconst Loss: 228.7695, KL Div: 15.0515\n",
      "Epoch[61/80], Step [200/600], Reconst Loss: 223.4686, KL Div: 15.8907\n",
      "Epoch[61/80], Step [400/600], Reconst Loss: 207.3178, KL Div: 15.1561\n",
      "Epoch[61/80], Step [600/600], Reconst Loss: 228.2792, KL Div: 15.4664\n",
      "Epoch[62/80], Step [200/600], Reconst Loss: 233.0399, KL Div: 14.7994\n",
      "Epoch[62/80], Step [400/600], Reconst Loss: 229.6626, KL Div: 15.8868\n",
      "Epoch[62/80], Step [600/600], Reconst Loss: 211.2539, KL Div: 15.0399\n",
      "Epoch[63/80], Step [200/600], Reconst Loss: 228.2523, KL Div: 14.9497\n",
      "Epoch[63/80], Step [400/600], Reconst Loss: 225.1436, KL Div: 15.9618\n",
      "Epoch[63/80], Step [600/600], Reconst Loss: 226.0867, KL Div: 16.5229\n",
      "Epoch[64/80], Step [200/600], Reconst Loss: 231.3080, KL Div: 16.1085\n",
      "Epoch[64/80], Step [400/600], Reconst Loss: 223.9394, KL Div: 14.6870\n",
      "Epoch[64/80], Step [600/600], Reconst Loss: 230.7395, KL Div: 15.5075\n",
      "Epoch[65/80], Step [200/600], Reconst Loss: 225.5331, KL Div: 15.2643\n",
      "Epoch[65/80], Step [400/600], Reconst Loss: 221.2404, KL Div: 15.7498\n",
      "Epoch[65/80], Step [600/600], Reconst Loss: 235.7079, KL Div: 15.7228\n",
      "Epoch[66/80], Step [200/600], Reconst Loss: 240.3109, KL Div: 15.4148\n",
      "Epoch[66/80], Step [400/600], Reconst Loss: 227.4690, KL Div: 15.8097\n",
      "Epoch[66/80], Step [600/600], Reconst Loss: 218.7780, KL Div: 15.5671\n",
      "Epoch[67/80], Step [200/600], Reconst Loss: 212.3486, KL Div: 16.2739\n",
      "Epoch[67/80], Step [400/600], Reconst Loss: 231.6441, KL Div: 15.2870\n",
      "Epoch[67/80], Step [600/600], Reconst Loss: 217.8255, KL Div: 14.9808\n",
      "Epoch[68/80], Step [200/600], Reconst Loss: 217.4696, KL Div: 14.9975\n",
      "Epoch[68/80], Step [400/600], Reconst Loss: 227.1747, KL Div: 15.1819\n",
      "Epoch[68/80], Step [600/600], Reconst Loss: 212.9734, KL Div: 15.6109\n",
      "Epoch[69/80], Step [200/600], Reconst Loss: 230.3452, KL Div: 15.2580\n",
      "Epoch[69/80], Step [400/600], Reconst Loss: 211.3204, KL Div: 15.3294\n",
      "Epoch[69/80], Step [600/600], Reconst Loss: 216.3915, KL Div: 15.2022\n",
      "Epoch[70/80], Step [200/600], Reconst Loss: 226.8009, KL Div: 15.3741\n",
      "Epoch[70/80], Step [400/600], Reconst Loss: 230.4492, KL Div: 15.4074\n",
      "Epoch[70/80], Step [600/600], Reconst Loss: 230.3795, KL Div: 14.7163\n",
      "Epoch[71/80], Step [200/600], Reconst Loss: 228.3431, KL Div: 16.0927\n",
      "Epoch[71/80], Step [400/600], Reconst Loss: 215.9023, KL Div: 15.2086\n",
      "Epoch[71/80], Step [600/600], Reconst Loss: 213.9880, KL Div: 15.4808\n",
      "Epoch[72/80], Step [200/600], Reconst Loss: 220.3592, KL Div: 15.4191\n",
      "Epoch[72/80], Step [400/600], Reconst Loss: 224.8020, KL Div: 15.2886\n",
      "Epoch[72/80], Step [600/600], Reconst Loss: 219.9826, KL Div: 16.0857\n",
      "Epoch[73/80], Step [200/600], Reconst Loss: 226.9645, KL Div: 14.7746\n",
      "Epoch[73/80], Step [400/600], Reconst Loss: 224.8240, KL Div: 15.5582\n",
      "Epoch[73/80], Step [600/600], Reconst Loss: 210.4901, KL Div: 15.7748\n",
      "Epoch[74/80], Step [200/600], Reconst Loss: 225.7350, KL Div: 15.5081\n",
      "Epoch[74/80], Step [400/600], Reconst Loss: 223.4382, KL Div: 15.1043\n",
      "Epoch[74/80], Step [600/600], Reconst Loss: 224.5018, KL Div: 15.6493\n",
      "Epoch[75/80], Step [200/600], Reconst Loss: 231.0124, KL Div: 15.2059\n",
      "Epoch[75/80], Step [400/600], Reconst Loss: 216.2849, KL Div: 14.9705\n",
      "Epoch[75/80], Step [600/600], Reconst Loss: 237.8374, KL Div: 15.5520\n",
      "Epoch[76/80], Step [200/600], Reconst Loss: 238.8945, KL Div: 15.1034\n",
      "Epoch[76/80], Step [400/600], Reconst Loss: 221.8695, KL Div: 15.8468\n",
      "Epoch[76/80], Step [600/600], Reconst Loss: 222.3205, KL Div: 15.7293\n",
      "Epoch[77/80], Step [200/600], Reconst Loss: 231.1854, KL Div: 15.3068\n",
      "Epoch[77/80], Step [400/600], Reconst Loss: 212.8788, KL Div: 15.1920\n",
      "Epoch[77/80], Step [600/600], Reconst Loss: 219.7494, KL Div: 15.7227\n",
      "Epoch[78/80], Step [200/600], Reconst Loss: 211.9371, KL Div: 15.1717\n",
      "Epoch[78/80], Step [400/600], Reconst Loss: 222.2822, KL Div: 15.3246\n",
      "Epoch[78/80], Step [600/600], Reconst Loss: 234.0267, KL Div: 16.0154\n",
      "Epoch[79/80], Step [200/600], Reconst Loss: 243.7310, KL Div: 15.3630\n",
      "Epoch[79/80], Step [400/600], Reconst Loss: 218.0604, KL Div: 15.0206\n"
     ]
    },
    {
     "name": "stdout",
     "output_type": "stream",
     "text": [
      "Epoch[79/80], Step [600/600], Reconst Loss: 208.1325, KL Div: 15.3041\n",
      "Epoch[80/80], Step [200/600], Reconst Loss: 215.0269, KL Div: 15.0215\n",
      "Epoch[80/80], Step [400/600], Reconst Loss: 231.7758, KL Div: 15.2618\n",
      "Epoch[80/80], Step [600/600], Reconst Loss: 222.8456, KL Div: 15.5176\n"
     ]
    }
   ],
   "source": [
    "optimizer = tf.keras.optimizers.Adam(learning_rate)\n",
    "num_batches = x_train.shape[0] // batch_size\n",
    "\n",
    "for epoch in range(num_epochs):\n",
    "\n",
    "    for step, x in enumerate(dataset):\n",
    "\n",
    "        x = tf.reshape(x, [-1, image_size])\n",
    "\n",
    "        with tf.GradientTape() as tape:\n",
    "\n",
    "            # Forward pass\n",
    "            x_reconstruction_logits, mu, log_var = model(x)\n",
    "\n",
    "            # Compute reconstruction loss and kl divergence\n",
    "            reconstruction_loss = tf.nn.sigmoid_cross_entropy_with_logits(labels=x, logits=x_reconstruction_logits)\n",
    "            reconstruction_loss = tf.reduce_sum(reconstruction_loss) / batch_size\n",
    "            kl_div = - 0.5 * tf.reduce_sum(1. + log_var - tf.square(mu) - tf.exp(log_var), axis=-1)\n",
    "            kl_div = tf.reduce_mean(kl_div)\n",
    "\n",
    "            # Backprop and optimize\n",
    "            loss = tf.reduce_mean(reconstruction_loss) + kl_div\n",
    "\n",
    "        gradients = tape.gradient(loss, model.trainable_variables)\n",
    "        for g in gradients:\n",
    "            tf.clip_by_norm(g, 15)\n",
    "        optimizer.apply_gradients(zip(gradients, model.trainable_variables))\n",
    "\n",
    "        if (step + 1) % 200 == 0:\n",
    "            print(\"Epoch[{}/{}], Step [{}/{}], Reconst Loss: {:.4f}, KL Div: {:.4f}\"\n",
    "                  .format(epoch + 1, num_epochs, step + 1, num_batches, float(reconstruction_loss), float(kl_div)))"
   ]
  },
  {
   "cell_type": "markdown",
   "metadata": {},
   "source": [
    "# 생성기로 활용"
   ]
  },
  {
   "cell_type": "code",
   "execution_count": 19,
   "metadata": {},
   "outputs": [],
   "source": [
    "z = tf.random.normal((batch_size, latent_dim))\n",
    "out = model.decode(z)  # decode with sigmoid\n",
    "out = out.numpy() * 255\n",
    "out = out.astype(np.uint8)"
   ]
  },
  {
   "cell_type": "code",
   "execution_count": 20,
   "metadata": {},
   "outputs": [
    {
     "data": {
      "image/png": "[encoded data removed]",
      "text/plain": [
       "<Figure size 1440x288 with 10 Axes>"
      ]
     },
     "metadata": {
      "needs_background": "light"
     },
     "output_type": "display_data"
    }
   ],
   "source": [
    "number = 10  # how many digits we will display\n",
    "plt.figure(figsize=(20, 4))\n",
    "for index in range(number):\n",
    "    # display original\n",
    "    ax = plt.subplot(2, number, index + 1)\n",
    "    plt.imshow(out[index].reshape(28,28), cmap='gray')\n",
    "    ax.get_xaxis().set_visible(False)\n",
    "    ax.get_yaxis().set_visible(False)\n",
    "plt.show()"
   ]
  },
  {
   "cell_type": "code",
   "execution_count": null,
   "metadata": {},
   "outputs": [],
   "source": []
  }
 ],
 "metadata": {
  "kernelspec": {
   "display_name": "Python (ai)",
   "language": "python",
   "name": "ai"
  },
  "language_info": {
   "codemirror_mode": {
    "name": "ipython",
    "version": 3
   },
   "file_extension": ".py",
   "mimetype": "text/x-python",
   "name": "python",
   "nbconvert_exporter": "python",
   "pygments_lexer": "ipython3",
   "version": "3.6.12"
  },
  "toc": {
   "base_numbering": 1,
   "nav_menu": {},
   "number_sections": true,
   "sideBar": true,
   "skip_h1_title": false,
   "title_cell": "Table of Contents",
   "title_sidebar": "Contents",
   "toc_cell": false,
   "toc_position": {},
   "toc_section_display": true,
   "toc_window_display": false
  }
 },
 "nbformat": 4,
 "nbformat_minor": 4
}
