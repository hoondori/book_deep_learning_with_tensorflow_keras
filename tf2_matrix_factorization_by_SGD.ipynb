{
 "cells": [
  {
   "cell_type": "markdown",
   "metadata": {},
   "source": [
    "# TF2로 Matrix Factorization을 SGD를 통해 구현한다. \n",
    "\n",
    "* Matrix Factorization \n",
    "  * A(n_row, n_col) ~=  P(n_row, emb_sz) * Q(emb_sz, n_col1)"
   ]
  },
  {
   "cell_type": "code",
   "execution_count": 1,
   "metadata": {},
   "outputs": [],
   "source": [
    "import numpy as np\n",
    "import tensorflow as tf"
   ]
  },
  {
   "cell_type": "code",
   "execution_count": 10,
   "metadata": {},
   "outputs": [],
   "source": [
    "class MatrixFactorizationLayer(tf.keras.layers.Layer):\n",
    "    \n",
    "    def __init__(self, emb_sz, **kwargs):\n",
    "        super(MatrixFactorizationLayer, self).__init__(**kwargs)\n",
    "        self.emb_sz = emb_sz\n",
    "        \n",
    "    def build(self, input_shape):\n",
    "        num_rows, num_cols = input_shape\n",
    "        self.P = self.add_variable(\"P\",\n",
    "            shape=[num_rows, self.emb_sz],\n",
    "            dtype=tf.float32,\n",
    "            initializer=tf.initializers.GlorotUniform)\n",
    "                \n",
    "        self.Q = self.add_variable(\"Q\",\n",
    "            shape=[num_cols, self.emb_sz],\n",
    "            dtype=tf.float32,\n",
    "            initializer=tf.initializers.GlorotUniform)\n",
    "        \n",
    "    def call(self, input):\n",
    "        # weight들의 곱으로만 approx가 되어야 하므로 입력은 의미가 없다.\n",
    "        \n",
    "        return tf.matmul(self.P, tf.transpose(self.Q))\n",
    "\n",
    "class MatrixFactorizationModel(tf.keras.Model):\n",
    "    def __init__(self, emb_sz):\n",
    "        super(MatrixFactorizationModel, self).__init__()\n",
    "        self.mfl = MatrixFactorizationLayer(emb_sz)\n",
    "        self.sigmoid = tf.keras.layers.Activation(\"sigmoid\")        \n",
    "        \n",
    "    def call(self, x):\n",
    "        x = self.mfl(x)\n",
    "        x = self.sigmoid(x)\n",
    "        return x"
   ]
  },
  {
   "cell_type": "code",
   "execution_count": 21,
   "metadata": {},
   "outputs": [
    {
     "name": "stdout",
     "output_type": "stream",
     "text": [
      "Model: \"matrix_factorization_model_5\"\n",
      "_________________________________________________________________\n",
      "Layer (type)                 Output Shape              Param #   \n",
      "=================================================================\n",
      "matrix_factorization_layer_5 multiple                  3000      \n",
      "_________________________________________________________________\n",
      "activation_5 (Activation)    multiple                  0         \n",
      "=================================================================\n",
      "Total params: 3,000\n",
      "Trainable params: 3,000\n",
      "Non-trainable params: 0\n",
      "_________________________________________________________________\n"
     ]
    },
    {
     "data": {
      "image/png": "[encoded data removed]",
      "text/plain": [
       "<IPython.core.display.Image object>"
      ]
     },
     "execution_count": 21,
     "metadata": {},
     "output_type": "execute_result"
    }
   ],
   "source": [
    "EMBEDDING_SIZE = 20\n",
    "NUM_ROWS = 50\n",
    "NUM_COLS = 100\n",
    "\n",
    "# this is the input matrix R, which we are currently spoofing\n",
    "# with a random matrix (this should be sparse)\n",
    "R = np.random.random((NUM_ROWS, NUM_COLS))\n",
    "\n",
    "model = MatrixFactorizationModel(EMBEDDING_SIZE)\n",
    "model.build(input_shape=R.shape)\n",
    "model.summary()\n",
    "tf.keras.utils.plot_model(model, show_shapes=True)"
   ]
  },
  {
   "cell_type": "code",
   "execution_count": 22,
   "metadata": {},
   "outputs": [
    {
     "name": "stdout",
     "output_type": "stream",
     "text": [
      "WARNING:tensorflow:Layer matrix_factorization_model_5 is casting an input tensor from dtype float64 to the layer's dtype of float32, which is new behavior in TensorFlow 2.  The layer has dtype float32 because it's dtype defaults to floatx.\n",
      "\n",
      "If you intended to run this layer in float32, you can safely ignore this warning. If in doubt, this warning is likely only an issue if you are porting a TensorFlow 1.X model to TensorFlow 2.\n",
      "\n",
      "To change all layers to have dtype float64 by default, call `tf.keras.backend.set_floatx('float64')`. To change just this layer, pass dtype='float64' to the layer constructor. If you are the author of this layer, you can disable autocasting by passing autocast=False to the base Layer constructor.\n",
      "\n",
      "step: 0, loss: 0.083\n",
      "step: 1000, loss: 0.022\n",
      "step: 2000, loss: 0.020\n",
      "step: 3000, loss: 0.019\n",
      "step: 4000, loss: 0.018\n",
      "step: 5000, loss: 0.018\n",
      "step: 6000, loss: 0.018\n",
      "step: 7000, loss: 0.017\n",
      "step: 8000, loss: 0.017\n",
      "step: 9000, loss: 0.017\n"
     ]
    }
   ],
   "source": [
    "# train model\n",
    "\n",
    "def loss_fn(source, target):\n",
    "    mse = tf.keras.losses.MeanSquaredError()\n",
    "    loss = mse(source, target)\n",
    "    return loss   \n",
    "\n",
    "optimizer = tf.optimizers.RMSprop(learning_rate=1e-3, momentum=0.9)\n",
    "losses, steps = [], []\n",
    "for i in range(10000):\n",
    "    with tf.GradientTape() as tape:\n",
    "        Rprime = model(R)\n",
    "        loss = loss_fn(R, Rprime)\n",
    "        if i % 1000 == 0:\n",
    "            loss_value = loss.numpy()\n",
    "            losses.append(loss_value)\n",
    "            steps.append(i)\n",
    "            print(\"step: {:d}, loss: {:.3f}\".format(i, loss_value))\n",
    "    variables = model.trainable_variables\n",
    "    gradients = tape.gradient(loss, variables)\n",
    "    optimizer.apply_gradients(zip(gradients, variables))"
   ]
  },
  {
   "cell_type": "code",
   "execution_count": 23,
   "metadata": {},
   "outputs": [
    {
     "name": "stdout",
     "output_type": "stream",
     "text": [
      "(50, 20) (100, 20)\n"
     ]
    }
   ],
   "source": [
    "# after training, retrieve P and Q\n",
    "mf_layer = model.layers[0]\n",
    "P, Q = [weight.numpy() for weight in mf_layer.weights]\n",
    "print(P.shape, Q.shape)"
   ]
  },
  {
   "cell_type": "code",
   "execution_count": null,
   "metadata": {},
   "outputs": [],
   "source": []
  }
 ],
 "metadata": {
  "kernelspec": {
   "display_name": "Python (ai)",
   "language": "python",
   "name": "ai"
  },
  "language_info": {
   "codemirror_mode": {
    "name": "ipython",
    "version": 3
   },
   "file_extension": ".py",
   "mimetype": "text/x-python",
   "name": "python",
   "nbconvert_exporter": "python",
   "pygments_lexer": "ipython3",
   "version": "3.6.12"
  },
  "toc": {
   "base_numbering": 1,
   "nav_menu": {},
   "number_sections": true,
   "sideBar": true,
   "skip_h1_title": false,
   "title_cell": "Table of Contents",
   "title_sidebar": "Contents",
   "toc_cell": false,
   "toc_position": {},
   "toc_section_display": true,
   "toc_window_display": false
  }
 },
 "nbformat": 4,
 "nbformat_minor": 4
}
