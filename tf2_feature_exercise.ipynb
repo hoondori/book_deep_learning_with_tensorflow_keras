{
 "cells": [
  {
   "cell_type": "markdown",
   "metadata": {},
   "source": [
    "# TF 2.0 의 기능을 테스트 \n",
    "\n",
    "* autograph"
   ]
  },
  {
   "cell_type": "code",
   "execution_count": 1,
   "metadata": {},
   "outputs": [],
   "source": [
    "import tensorflow as tf\n",
    "import numpy as np\n",
    "from tensorflow import keras\n",
    "#import tensorflow_addons as tfa\n",
    "from tensorflow.keras import datasets, layers, models, preprocessing\n",
    "from tensorflow.python.client import device_lib\n",
    "import timeit\n",
    "import tensorflow_datasets as tfds"
   ]
  },
  {
   "cell_type": "code",
   "execution_count": 2,
   "metadata": {},
   "outputs": [],
   "source": [
    "gpus = tf.config.experimental.list_physical_devices('GPU')\n",
    "if gpus:\n",
    "    # 텐서플로가 첫 번째 GPU만 사용하도록 제한\n",
    "    # 프로그램 시작시에 메모리 증가가 설정되어야만 합니다\n",
    "    try:\n",
    "        tf.config.experimental.set_visible_devices(gpus[0], 'GPU')\n",
    "        tf.config.experimental.set_memory_growth(gpus[0], True)\n",
    "    except RuntimeError as e:\n",
    "        # 프로그램 시작시에 접근 가능한 장치가 설정되어야만 합니다\n",
    "        print(e)"
   ]
  },
  {
   "cell_type": "markdown",
   "metadata": {},
   "source": [
    "# Autograph \n",
    "\n",
    "* tf.function decorator를 씌우면 자동 변환\n",
    "* 최상위만 씌우면 나머지는 알아서..\n",
    "* to_code로 확인\n",
    "* decorated 안한 것 대비 그래프 최적화가 되서 수 배 차이\n"
   ]
  },
  {
   "cell_type": "code",
   "execution_count": 3,
   "metadata": {},
   "outputs": [
    {
     "name": "stdout",
     "output_type": "stream",
     "text": [
      "0.03972745400005806 0.01601803599987761\n",
      "def tf__tf_fn(input, state):\n",
      "    do_return = False\n",
      "    retval_ = ag__.UndefinedReturnValue()\n",
      "    with ag__.FunctionScope('tf_fn', 'fscope', ag__.ConversionOptions(recursive=True, user_requested=True, optional_features=(), internal_convert_user_code=True)) as fscope:\n",
      "        try:\n",
      "            do_return = True\n",
      "            retval_ = fscope.mark_return_value(ag__.converted_call(cell, (input, state), None, fscope))\n",
      "        except:\n",
      "            do_return = False\n",
      "            raise\n",
      "    (do_return,)\n",
      "    return ag__.retval(retval_)\n",
      "\n"
     ]
    }
   ],
   "source": [
    "def exercise_autograph():\n",
    "\n",
    "    cell = tf.keras.layers.LSTMCell(100)\n",
    "    \n",
    "    @tf.function\n",
    "    def tf_fn(input, state):\n",
    "        return cell(input,state)\n",
    "\n",
    "    input = tf.zeros([100,100])\n",
    "    state = [tf.zeros([100,100])] * 2\n",
    "    \n",
    "    # 워밍업\n",
    "    cell(input, state)\n",
    "    tf_fn(input, state)\n",
    "\n",
    "    graph_time = timeit.timeit(lambda: cell(input, state), number=100)\n",
    "    autograph_time = timeit.timeit(lambda: tf_fn(input, state), number=100)\n",
    "    \n",
    "    print(graph_time, autograph_time)\n",
    "\n",
    "    print(tf.autograph.to_code(tf_fn.python_function, experimental_optional_features=None))\n",
    "    \n",
    "exercise_autograph()\n"
   ]
  },
  {
   "cell_type": "markdown",
   "metadata": {},
   "source": [
    "# Keras의 함수적 API 예시"
   ]
  },
  {
   "cell_type": "code",
   "execution_count": 4,
   "metadata": {},
   "outputs": [
    {
     "data": {
      "image/png": "[encoded data removed]",
      "text/plain": [
       "<IPython.core.display.Image object>"
      ]
     },
     "execution_count": 4,
     "metadata": {},
     "output_type": "execute_result"
    }
   ],
   "source": [
    "def build_model():\n",
    "    \n",
    "    text_input_a = tf.keras.Input(shape=(None, ), dtype='int32')\n",
    "    text_input_b = tf.keras.Input(shape=(None, ), dtype='int32')\n",
    "    \n",
    "    shared_emb = tf.keras.layers.Embedding(1000,128)\n",
    "    \n",
    "    enc_input_a = shared_emb(text_input_a)\n",
    "    enc_input_b = shared_emb(text_input_b)\n",
    "    \n",
    "    pred_a = tf.keras.layers.Dense(1, activation='sigmoid', \n",
    "        name='pred_a')(enc_input_a)\n",
    "    \n",
    "    pred_b = tf.keras.layers.Dense(1, activation='sigmoid', \n",
    "        name='pred_b')(enc_input_b)\n",
    "    \n",
    "    \n",
    "    model = tf.keras.Model(inputs=[text_input_a, text_input_b],\n",
    "        outputs=[pred_a, pred_b])\n",
    "    \n",
    "    return model \n",
    "    \n",
    "model = build_model()\n",
    "tf.keras.utils.plot_model(model, to_file='model.png')    \n",
    "    "
   ]
  },
  {
   "cell_type": "markdown",
   "metadata": {},
   "source": [
    "# 모델 서브클래싱으로 모델링 \n",
    "\n",
    "* init, build, call, get_config, from_config"
   ]
  },
  {
   "cell_type": "code",
   "execution_count": 5,
   "metadata": {},
   "outputs": [
    {
     "name": "stdout",
     "output_type": "stream",
     "text": [
      "(4, 3)\n",
      "1\n",
      "1\n",
      "0\n",
      "True\n",
      "None\n",
      "[]\n"
     ]
    }
   ],
   "source": [
    "class MyLayer(layers.Layer):\n",
    "    \n",
    "    def __init__(self, output_dim, **kwargs):\n",
    "        self.output_dim = output_dim\n",
    "        super(MyLayer, self).__init__(**kwargs)\n",
    "        \n",
    "    def build(self, input_shape):\n",
    "        self.kernel = self.add_weight(name='kernel',\n",
    "            shape=(input_shape[1], self.output_dim), initializer='uniform', trainable=True)\n",
    "    \n",
    "        \n",
    "    def call(self, inputs):\n",
    "        return tf.matmul(inputs, self.kernel)\n",
    "        \n",
    "def test_my_layer():\n",
    "    \n",
    "    layer = MyLayer(output_dim=3)\n",
    "    y = layer(tf.ones([5, 4]))\n",
    "    \n",
    "    #print(y)\n",
    "    \n",
    "    print(layer.weights[0].shape)\n",
    "    print(len(layer.weights))\n",
    "    print(len(layer.trainable_weights))\n",
    "    print(len(layer.non_trainable_weights))  \n",
    "    print(layer.trainable)\n",
    "    print(layer.input_spec)\n",
    "    print(layer.losses)\n",
    "    \n",
    "test_my_layer()"
   ]
  },
  {
   "cell_type": "markdown",
   "metadata": {},
   "source": [
    "## 모델 서브 클래싱시에 add_loss 사용하기 "
   ]
  },
  {
   "cell_type": "markdown",
   "metadata": {},
   "source": [
    "## 모델 가중치 저장/로드"
   ]
  },
  {
   "cell_type": "code",
   "execution_count": null,
   "metadata": {},
   "outputs": [],
   "source": [
    "model.save_weight(/path/to/save)\n",
    "model.load_weights(/path/to/save)\n",
    "\n",
    "# to and from json\n",
    "json_string = model.to_json()    # or to_yaml\n",
    "model = tf.keras.models.model_from_json(json_string)\n"
   ]
  },
  {
   "cell_type": "code",
   "execution_count": 61,
   "metadata": {},
   "outputs": [
    {
     "data": {
      "text/plain": [
       "[<tf.Tensor 'activity_regularization_layer_6/mul:0' shape=() dtype=float32>]"
      ]
     },
     "execution_count": 61,
     "metadata": {},
     "output_type": "execute_result"
    }
   ],
   "source": [
    "# A layer that creates an activity regularization loss\n",
    "class ActivityRegularizationLayer(keras.layers.Layer):\n",
    "    def __init__(self, rate=1e-2):\n",
    "        super(ActivityRegularizationLayer, self).__init__()\n",
    "        self.rate = rate\n",
    "\n",
    "    def call(self, inputs):\n",
    "        self.add_loss(self.rate * tf.reduce_sum(inputs))\n",
    "        return inputs\n",
    "    \n",
    "inputs = keras.Input(shape=(3,))\n",
    "outputs = ActivityRegularizationLayer()(inputs)\n",
    "model = keras.Model(inputs, outputs)    \n",
    "\n",
    "model.losses"
   ]
  },
  {
   "cell_type": "markdown",
   "metadata": {},
   "source": [
    "# 4. 콜백 "
   ]
  },
  {
   "cell_type": "code",
   "execution_count": null,
   "metadata": {},
   "outputs": [],
   "source": [
    "callbacks = [\n",
    "    tf.keras.callbacks.TensorBoard(log_dir='./logs')\n",
    "]\n",
    "model.fit(    callbacks=callbacks,)"
   ]
  },
  {
   "cell_type": "markdown",
   "metadata": {},
   "source": [
    "# 5.tf.data.datasets 으로 훈련"
   ]
  },
  {
   "cell_type": "code",
   "execution_count": 69,
   "metadata": {
    "collapsed": true
   },
   "outputs": [
    {
     "data": {
      "text/plain": [
       "['abstract_reasoning',\n",
       " 'accentdb',\n",
       " 'aeslc',\n",
       " 'aflw2k3d',\n",
       " 'ag_news_subset',\n",
       " 'ai2_arc',\n",
       " 'ai2_arc_with_ir',\n",
       " 'amazon_us_reviews',\n",
       " 'anli',\n",
       " 'arc',\n",
       " 'bair_robot_pushing_small',\n",
       " 'bccd',\n",
       " 'beans',\n",
       " 'big_patent',\n",
       " 'bigearthnet',\n",
       " 'billsum',\n",
       " 'binarized_mnist',\n",
       " 'binary_alpha_digits',\n",
       " 'blimp',\n",
       " 'bool_q',\n",
       " 'c4',\n",
       " 'caltech101',\n",
       " 'caltech_birds2010',\n",
       " 'caltech_birds2011',\n",
       " 'cars196',\n",
       " 'cassava',\n",
       " 'cats_vs_dogs',\n",
       " 'celeb_a',\n",
       " 'celeb_a_hq',\n",
       " 'cfq',\n",
       " 'cherry_blossoms',\n",
       " 'chexpert',\n",
       " 'cifar10',\n",
       " 'cifar100',\n",
       " 'cifar10_1',\n",
       " 'cifar10_corrupted',\n",
       " 'citrus_leaves',\n",
       " 'cityscapes',\n",
       " 'civil_comments',\n",
       " 'clevr',\n",
       " 'clic',\n",
       " 'clinc_oos',\n",
       " 'cmaterdb',\n",
       " 'cnn_dailymail',\n",
       " 'coco',\n",
       " 'coco_captions',\n",
       " 'coil100',\n",
       " 'colorectal_histology',\n",
       " 'colorectal_histology_large',\n",
       " 'common_voice',\n",
       " 'coqa',\n",
       " 'cos_e',\n",
       " 'cosmos_qa',\n",
       " 'covid19sum',\n",
       " 'crema_d',\n",
       " 'curated_breast_imaging_ddsm',\n",
       " 'cycle_gan',\n",
       " 'dart',\n",
       " 'davis',\n",
       " 'deep_weeds',\n",
       " 'definite_pronoun_resolution',\n",
       " 'dementiabank',\n",
       " 'diabetic_retinopathy_detection',\n",
       " 'div2k',\n",
       " 'dmlab',\n",
       " 'downsampled_imagenet',\n",
       " 'drop',\n",
       " 'dsprites',\n",
       " 'dtd',\n",
       " 'duke_ultrasound',\n",
       " 'e2e_cleaned',\n",
       " 'emnist',\n",
       " 'eraser_multi_rc',\n",
       " 'esnli',\n",
       " 'eurosat',\n",
       " 'fashion_mnist',\n",
       " 'flic',\n",
       " 'flores',\n",
       " 'food101',\n",
       " 'forest_fires',\n",
       " 'fuss',\n",
       " 'gap',\n",
       " 'geirhos_conflict_stimuli',\n",
       " 'genomics_ood',\n",
       " 'german_credit_numeric',\n",
       " 'gigaword',\n",
       " 'glue',\n",
       " 'goemotions',\n",
       " 'gpt3',\n",
       " 'groove',\n",
       " 'gtzan',\n",
       " 'gtzan_music_speech',\n",
       " 'hellaswag',\n",
       " 'higgs',\n",
       " 'horses_or_humans',\n",
       " 'howell',\n",
       " 'i_naturalist2017',\n",
       " 'imagenet2012',\n",
       " 'imagenet2012_corrupted',\n",
       " 'imagenet2012_real',\n",
       " 'imagenet2012_subset',\n",
       " 'imagenet_a',\n",
       " 'imagenet_r',\n",
       " 'imagenet_resized',\n",
       " 'imagenet_v2',\n",
       " 'imagenette',\n",
       " 'imagewang',\n",
       " 'imdb_reviews',\n",
       " 'irc_disentanglement',\n",
       " 'iris',\n",
       " 'kitti',\n",
       " 'kmnist',\n",
       " 'lambada',\n",
       " 'lfw',\n",
       " 'librispeech',\n",
       " 'librispeech_lm',\n",
       " 'libritts',\n",
       " 'ljspeech',\n",
       " 'lm1b',\n",
       " 'lost_and_found',\n",
       " 'lsun',\n",
       " 'lvis',\n",
       " 'malaria',\n",
       " 'math_dataset',\n",
       " 'mctaco',\n",
       " 'mlqa',\n",
       " 'mnist',\n",
       " 'mnist_corrupted',\n",
       " 'movie_lens',\n",
       " 'movie_rationales',\n",
       " 'movielens',\n",
       " 'moving_mnist',\n",
       " 'multi_news',\n",
       " 'multi_nli',\n",
       " 'multi_nli_mismatch',\n",
       " 'natural_questions',\n",
       " 'natural_questions_open',\n",
       " 'newsroom',\n",
       " 'nsynth',\n",
       " 'nyu_depth_v2',\n",
       " 'omniglot',\n",
       " 'open_images_challenge2019_detection',\n",
       " 'open_images_v4',\n",
       " 'openbookqa',\n",
       " 'opinion_abstracts',\n",
       " 'opinosis',\n",
       " 'opus',\n",
       " 'oxford_flowers102',\n",
       " 'oxford_iiit_pet',\n",
       " 'para_crawl',\n",
       " 'patch_camelyon',\n",
       " 'paws_wiki',\n",
       " 'paws_x_wiki',\n",
       " 'pet_finder',\n",
       " 'pg19',\n",
       " 'piqa',\n",
       " 'places365_small',\n",
       " 'plant_leaves',\n",
       " 'plant_village',\n",
       " 'plantae_k',\n",
       " 'qa4mre',\n",
       " 'qasc',\n",
       " 'quac',\n",
       " 'quickdraw_bitmap',\n",
       " 'race',\n",
       " 'radon',\n",
       " 'reddit',\n",
       " 'reddit_disentanglement',\n",
       " 'reddit_tifu',\n",
       " 'resisc45',\n",
       " 'robonet',\n",
       " 'rock_paper_scissors',\n",
       " 'rock_you',\n",
       " 's3o4d',\n",
       " 'salient_span_wikipedia',\n",
       " 'samsum',\n",
       " 'savee',\n",
       " 'scan',\n",
       " 'scene_parse150',\n",
       " 'scicite',\n",
       " 'scientific_papers',\n",
       " 'sentiment140',\n",
       " 'shapes3d',\n",
       " 'siscore',\n",
       " 'smallnorb',\n",
       " 'snli',\n",
       " 'so2sat',\n",
       " 'speech_commands',\n",
       " 'spoken_digit',\n",
       " 'squad',\n",
       " 'stanford_dogs',\n",
       " 'stanford_online_products',\n",
       " 'starcraft_video',\n",
       " 'stl10',\n",
       " 'story_cloze',\n",
       " 'sun397',\n",
       " 'super_glue',\n",
       " 'svhn_cropped',\n",
       " 'ted_hrlr_translate',\n",
       " 'ted_multi_translate',\n",
       " 'tedlium',\n",
       " 'tf_flowers',\n",
       " 'the300w_lp',\n",
       " 'tiny_shakespeare',\n",
       " 'titanic',\n",
       " 'trec',\n",
       " 'trivia_qa',\n",
       " 'tydi_qa',\n",
       " 'uc_merced',\n",
       " 'ucf101',\n",
       " 'vctk',\n",
       " 'vgg_face2',\n",
       " 'visual_domain_decathlon',\n",
       " 'voc',\n",
       " 'voxceleb',\n",
       " 'voxforge',\n",
       " 'waymo_open_dataset',\n",
       " 'web_nlg',\n",
       " 'web_questions',\n",
       " 'wider_face',\n",
       " 'wiki40b',\n",
       " 'wiki_bio',\n",
       " 'wiki_table_questions',\n",
       " 'wiki_table_text',\n",
       " 'wikihow',\n",
       " 'wikipedia',\n",
       " 'wikipedia_toxicity_subtypes',\n",
       " 'wine_quality',\n",
       " 'winogrande',\n",
       " 'wmt14_translate',\n",
       " 'wmt15_translate',\n",
       " 'wmt16_translate',\n",
       " 'wmt17_translate',\n",
       " 'wmt18_translate',\n",
       " 'wmt19_translate',\n",
       " 'wmt_t2t_translate',\n",
       " 'wmt_translate',\n",
       " 'wordnet',\n",
       " 'wsc273',\n",
       " 'xnli',\n",
       " 'xquad',\n",
       " 'xsum',\n",
       " 'xtreme_pawsx',\n",
       " 'xtreme_xnli',\n",
       " 'yelp_polarity_reviews',\n",
       " 'yes_no']"
      ]
     },
     "execution_count": 69,
     "metadata": {},
     "output_type": "execute_result"
    }
   ],
   "source": [
    "tfds.list_builders()"
   ]
  },
  {
   "cell_type": "code",
   "execution_count": 75,
   "metadata": {},
   "outputs": [
    {
     "name": "stdout",
     "output_type": "stream",
     "text": [
      "<PrefetchDataset shapes: {image: (28, 28, 1), label: ()}, types: {image: tf.uint8, label: tf.int64}>\n",
      "<TakeDataset shapes: {image: (28, 28, 1), label: ()}, types: {image: tf.uint8, label: tf.int64}>\n",
      "['image', 'label']\n",
      "(28, 28, 1) tf.Tensor(4, shape=(), dtype=int64)\n"
     ]
    }
   ],
   "source": [
    "ds = tfds.load('mnist', split='train')\n",
    "print(ds)\n",
    "ds = ds.take(1)  # Only take a single example\n",
    "print(ds)\n",
    "\n",
    "# iterate하면 key를 통해 tensor에 접근한다.\n",
    "for example in ds:\n",
    "    print(list(example.keys()))\n",
    "    image = example[\"image\"]\n",
    "    label = example[\"label\"]\n",
    "    print(image.shape, label)"
   ]
  },
  {
   "cell_type": "code",
   "execution_count": 79,
   "metadata": {},
   "outputs": [
    {
     "name": "stdout",
     "output_type": "stream",
     "text": [
      "(28, 28, 1) tf.Tensor(4, shape=(), dtype=int64)\n"
     ]
    }
   ],
   "source": [
    "# as_supervised를 사용시에는 데이터 세트 대신 튜플을 얻을 수 있다.\n",
    "\n",
    "ds = tfds.load('mnist', split='train', as_supervised=True)\n",
    "ds = ds.take(1)\n",
    "\n",
    "for image, label in ds:  # example is (image, label)\n",
    "    print(image.shape, label)"
   ]
  },
  {
   "cell_type": "code",
   "execution_count": 80,
   "metadata": {},
   "outputs": [
    {
     "name": "stdout",
     "output_type": "stream",
     "text": [
      "<class 'numpy.ndarray'> <class 'numpy.int64'> 4\n"
     ]
    }
   ],
   "source": [
    "# tfds.as_numpy 를 사용 tfds.as_numpy 을 변환합니다.\n",
    "ds = tfds.load('mnist', split='train', as_supervised=True)\n",
    "ds = ds.take(1)\n",
    "\n",
    "for image, label in tfds.as_numpy(ds):\n",
    "    print(type(image), type(label), label)"
   ]
  },
  {
   "cell_type": "code",
   "execution_count": 82,
   "metadata": {},
   "outputs": [
    {
     "data": {
      "text/html": [
       "<style  type=\"text/css\" >\n",
       "</style><table id=\"T_3b6fc530_6305_11eb_b7c7_77b809cfe006\" ><thead>    <tr>        <th class=\"blank level0\" ></th>        <th class=\"col_heading level0 col0\" >image</th>        <th class=\"col_heading level0 col1\" >label</th>    </tr></thead><tbody>\n",
       "                <tr>\n",
       "                        <th id=\"T_3b6fc530_6305_11eb_b7c7_77b809cfe006level0_row0\" class=\"row_heading level0 row0\" >0</th>\n",
       "                        <td id=\"T_3b6fc530_6305_11eb_b7c7_77b809cfe006row0_col0\" class=\"data row0 col0\" ><img src=\"data:image/png;base64,iVBORw0KGgoAAAANSUhEUgAAABwAAAAcCAAAAABXZoBIAAAAzElEQVR4nGNgGPQg5F8qjMmEIRn1XwinRvnvp2QxdTIyMjAwMDDksd17jCnpeN6CgYGBQZfhAhbzLP+WMzAwyPz8IAkXQuh8ycDAwMAQyHr1ORZJYQYGBgYGKYYDDFgkAxgZGBikMxnnISQZYQz2J0KXjwvpqV00+YfpnsS/f//++/v3bxiSGAuMYfp97rN3b1cz7MDiEQgI+bcGmYsatlH/T+PUyPD2jwVOOaOP23Br3P3vZyZOO///v7qGARd4/EkBt7FvbuOWoyIAAPBxN9oBRuu9AAAAAElFTkSuQmCC\" alt=\"Img\" /></td>\n",
       "                        <td id=\"T_3b6fc530_6305_11eb_b7c7_77b809cfe006row0_col1\" class=\"data row0 col1\" >4</td>\n",
       "            </tr>\n",
       "            <tr>\n",
       "                        <th id=\"T_3b6fc530_6305_11eb_b7c7_77b809cfe006level0_row1\" class=\"row_heading level0 row1\" >1</th>\n",
       "                        <td id=\"T_3b6fc530_6305_11eb_b7c7_77b809cfe006row1_col0\" class=\"data row1 col0\" ><img src=\"data:image/png;base64,iVBORw0KGgoAAAANSUhEUgAAABwAAAAcCAAAAABXZoBIAAAAmklEQVR4nGNgGOyAc/5KJlxyjIv+/TPEJan9798HWRgH3YhQBoZHj3HpfP/vVxQuOYF//54ieGjGNjEwXMalkeHbv3+eeCTfseAy1oCVYeofXBp3/f8lgUtO/su/azhtnPLvXwJOycv//uGU0//5bx1OySP//hngkuN5+u8tG4oIkj/VJBmO/8Il6cvAMBunlSIvX3DjlKQmAACHtTHZmy2LVAAAAABJRU5ErkJggg==\" alt=\"Img\" /></td>\n",
       "                        <td id=\"T_3b6fc530_6305_11eb_b7c7_77b809cfe006row1_col1\" class=\"data row1 col1\" >1</td>\n",
       "            </tr>\n",
       "            <tr>\n",
       "                        <th id=\"T_3b6fc530_6305_11eb_b7c7_77b809cfe006level0_row2\" class=\"row_heading level0 row2\" >2</th>\n",
       "                        <td id=\"T_3b6fc530_6305_11eb_b7c7_77b809cfe006row2_col0\" class=\"data row2 col0\" ><img src=\"data:image/png;base64,iVBORw0KGgoAAAANSUhEUgAAABwAAAAcCAAAAABXZoBIAAAA+0lEQVR4nM3QvyuEARzH8feVniSFiTBcKf8A85ESNqwkdbeY5NdmY/UXiM0z+Ad0SXZ1g0vJjw0Xi86pc13eD8NleJ47q3zG76tv3x/wJxk+jQ7bf8NldT9obdNl1fWW1nGh6mtLPIm0oJVWlvuIvOvMWx1qtqWa0U2aULNNNnCtT+MQapi0waK6CoR6mcS8Wuhq4Fqj1PZjU5NQnX0DUine433dD1qZBwjOrM/EsVc9AmCj6c5MWT8XADjX2mgMi+otABN1k0/YVncAFu/VLWLbPgNBduRxLBMQHe/FZ+Zs5EtLm8kP9F81MHrZTScNelZK6sFcXzP9o3wDadaKxdoXqEQAAAAASUVORK5CYII=\" alt=\"Img\" /></td>\n",
       "                        <td id=\"T_3b6fc530_6305_11eb_b7c7_77b809cfe006row2_col1\" class=\"data row2 col1\" >0</td>\n",
       "            </tr>\n",
       "            <tr>\n",
       "                        <th id=\"T_3b6fc530_6305_11eb_b7c7_77b809cfe006level0_row3\" class=\"row_heading level0 row3\" >3</th>\n",
       "                        <td id=\"T_3b6fc530_6305_11eb_b7c7_77b809cfe006row3_col0\" class=\"data row3 col0\" ><img src=\"data:image/png;base64,iVBORw0KGgoAAAANSUhEUgAAABwAAAAcCAAAAABXZoBIAAAA40lEQVR4nGNgGJpg//8OdCEWKM2obvgv/++6/zcZnJQebPuNqkjvLxI4IIgiJ3/v79/3b//9/fvv7993f/9NQzE2TZ6hc8J3JwYGBgaGK7cYeJE12n79+1cCxlH9+/cVB5LOlxy/pryHSUYyMO78gSR5W/vzU7gxfAz/cfq36fvfDw445Fr+/P3bg12KMebb37+7WbDKKSz89/fvNRmscjpb//79u0YBq5z0yb9//2bhcEvXv78fs1ixyzX//PsuHYc+gbvwAMcEmX//3kFzJxOc9YCRoesJLp3sx9+p4JIjGQAAnrpmBs0pxioAAAAASUVORK5CYII=\" alt=\"Img\" /></td>\n",
       "                        <td id=\"T_3b6fc530_6305_11eb_b7c7_77b809cfe006row3_col1\" class=\"data row3 col1\" >7</td>\n",
       "            </tr>\n",
       "    </tbody></table>"
      ],
      "text/plain": [
       "                                               image  label\n",
       "0  [[[0], [0], [0], [0], [0], [0], [0], [0], [0],...      4\n",
       "1  [[[0], [0], [0], [0], [0], [0], [0], [0], [0],...      1\n",
       "2  [[[0], [0], [0], [0], [0], [0], [0], [0], [0],...      0\n",
       "3  [[[0], [0], [0], [0], [0], [0], [0], [0], [0],...      7"
      ]
     },
     "execution_count": 82,
     "metadata": {},
     "output_type": "execute_result"
    }
   ],
   "source": [
    "# as_dataframe: pandas dataframe으로 변환해서 얻을 수 있다.\n",
    "ds, info = tfds.load('mnist', split='train', with_info=True)\n",
    "\n",
    "tfds.as_dataframe(ds.take(4), info)"
   ]
  },
  {
   "cell_type": "code",
   "execution_count": 87,
   "metadata": {},
   "outputs": [
    {
     "data": {
      "image/png": "[encoded data removed]",
      "text/plain": [
       "<Figure size 648x648 with 2 Axes>"
      ]
     },
     "metadata": {},
     "output_type": "display_data"
    },
    {
     "data": {
      "image/png": "[encoded data removed]",
      "text/plain": [
       "<Figure size 648x648 with 2 Axes>"
      ]
     },
     "execution_count": 87,
     "metadata": {},
     "output_type": "execute_result"
    }
   ],
   "source": [
    "# show example의 사용 \n",
    "\n",
    "ds, info = tfds.load('mnist', split='train', with_info=True)\n",
    "#ds = ds.take(1)  # Only take a single example\n",
    "\n",
    "tfds.show_examples(ds.take(2), info)\n"
   ]
  },
  {
   "cell_type": "code",
   "execution_count": 88,
   "metadata": {},
   "outputs": [
    {
     "name": "stdout",
     "output_type": "stream",
     "text": [
      "tfds.core.DatasetInfo(\n",
      "    name='mnist',\n",
      "    full_name='mnist/3.0.1',\n",
      "    description=\"\"\"\n",
      "    The MNIST database of handwritten digits.\n",
      "    \"\"\",\n",
      "    homepage='http://yann.lecun.com/exdb/mnist/',\n",
      "    data_path='/home/hoondori/tensorflow_datasets/mnist/3.0.1',\n",
      "    download_size=11.06 MiB,\n",
      "    dataset_size=21.00 MiB,\n",
      "    features=FeaturesDict({\n",
      "        'image': Image(shape=(28, 28, 1), dtype=tf.uint8),\n",
      "        'label': ClassLabel(shape=(), dtype=tf.int64, num_classes=10),\n",
      "    }),\n",
      "    supervised_keys=('image', 'label'),\n",
      "    splits={\n",
      "        'test': <SplitInfo num_examples=10000, num_shards=1>,\n",
      "        'train': <SplitInfo num_examples=60000, num_shards=1>,\n",
      "    },\n",
      "    citation=\"\"\"@article{lecun2010mnist,\n",
      "      title={MNIST handwritten digit database},\n",
      "      author={LeCun, Yann and Cortes, Corinna and Burges, CJ},\n",
      "      journal={ATT Labs [Online]. Available: http://yann.lecun.com/exdb/mnist},\n",
      "      volume={2},\n",
      "      year={2010}\n",
      "    }\"\"\",\n",
      ")\n"
     ]
    }
   ],
   "source": [
    "# 정보 표시\n",
    "print(info)"
   ]
  },
  {
   "cell_type": "markdown",
   "metadata": {},
   "source": [
    "## 선택적 직렬화"
   ]
  },
  {
   "cell_type": "code",
   "execution_count": 62,
   "metadata": {},
   "outputs": [
    {
     "name": "stdout",
     "output_type": "stream",
     "text": [
      "{'units': 64}\n"
     ]
    }
   ],
   "source": [
    "class Linear(keras.layers.Layer):\n",
    "    def __init__(self, units=32):\n",
    "        super(Linear, self).__init__()\n",
    "        self.units = units\n",
    "\n",
    "    def build(self, input_shape):\n",
    "        self.w = self.add_weight(\n",
    "            shape=(input_shape[-1], self.units),\n",
    "            initializer=\"random_normal\",\n",
    "            trainable=True,\n",
    "        )\n",
    "        self.b = self.add_weight(\n",
    "            shape=(self.units,), initializer=\"random_normal\", trainable=True\n",
    "        )\n",
    "\n",
    "    def call(self, inputs):\n",
    "        return tf.matmul(inputs, self.w) + self.b\n",
    "\n",
    "    def get_config(self):\n",
    "        return {\"units\": self.units}\n",
    "\n",
    "\n",
    "# Now you can recreate the layer from its config:\n",
    "layer = Linear(64)\n",
    "config = layer.get_config()\n",
    "print(config)\n",
    "new_layer = Linear.from_config(config)"
   ]
  },
  {
   "cell_type": "markdown",
   "metadata": {},
   "source": [
    "# gradient tape로 자신만의 학습 fit 함수 만들기\n",
    "\n",
    "* Model sublcassing\n",
    "* train_step redefine\n",
    "* gradient tape에서 y, x 정의\n",
    "* 자신만의 loss 정의 (외부에서 줄 필요 없게 됨)\n",
    "* 자신만의 loss_tracker, metric 정의 "
   ]
  },
  {
   "cell_type": "markdown",
   "metadata": {},
   "source": [
    "## train_step 재정의 "
   ]
  },
  {
   "cell_type": "code",
   "execution_count": 6,
   "metadata": {},
   "outputs": [
    {
     "name": "stdout",
     "output_type": "stream",
     "text": [
      "Epoch 1/3\n",
      "32/32 [==============================] - 0s 751us/step - loss: 0.7846 - mae: 0.7633\n",
      "Epoch 2/3\n",
      "32/32 [==============================] - 0s 748us/step - loss: 0.3233 - mae: 0.4585\n",
      "Epoch 3/3\n",
      "32/32 [==============================] - 0s 724us/step - loss: 0.2341 - mae: 0.3908\n"
     ]
    }
   ],
   "source": [
    "def simpleCustomModel():\n",
    "\n",
    "    class CustomModel(keras.Model):\n",
    "        def train_step(self, data):\n",
    "            # unpack\n",
    "            x, y = data\n",
    "\n",
    "            with tf.GradientTape() as tape:\n",
    "\n",
    "                y_pred = self(x, training=True) # forward pass\n",
    "\n",
    "                loss = self.compiled_loss(y, y_pred, regularization_losses=self.losses)\n",
    "\n",
    "            # compute g\n",
    "            trainable_variables = self.trainable_variables\n",
    "            g = tape.gradient(loss, self.trainable_variables)\n",
    "\n",
    "            # update w\n",
    "            self.optimizer.apply_gradients(zip(g, trainable_variables))\n",
    "            \n",
    "            # update metrics\n",
    "            self.compiled_metrics.update_state(y, y_pred)\n",
    "\n",
    "            # return dict of metrics\n",
    "            return { m.name: m.result() for m in self.metrics }     \n",
    "\n",
    "    import numpy as np\n",
    "\n",
    "    # Construct and compile an instance of CustomModel\n",
    "    inputs = keras.Input(shape=(32,))\n",
    "    outputs = keras.layers.Dense(1)(inputs)\n",
    "    model = CustomModel(inputs, outputs)\n",
    "    model.compile(optimizer=\"adam\", loss=\"mse\", metrics=[\"mae\"])\n",
    "\n",
    "    # Just use `fit` as usual\n",
    "    x = np.random.random((1000, 32))\n",
    "    y = np.random.random((1000, 1))\n",
    "    model.fit(x, y, epochs=3)     \n",
    "simpleCustomModel()"
   ]
  },
  {
   "cell_type": "markdown",
   "metadata": {},
   "source": [
    "## 낮은 수준 구현 \n",
    "\n",
    "* Model internal 손실과 Metric 정의\n",
    "  * 정의 손실과 Metric의 update state 을 손수 해준다.\n",
    "* 모델 컴파일시 이제는 exernal loss, metric을 지정해 주지 않는다."
   ]
  },
  {
   "cell_type": "code",
   "execution_count": 7,
   "metadata": {},
   "outputs": [
    {
     "name": "stdout",
     "output_type": "stream",
     "text": [
      "Epoch 1/3\n",
      "32/32 [==============================] - 0s 738us/step - my_loss: 1.6299 - my_mae: 1.1668\n",
      "Epoch 2/3\n",
      "32/32 [==============================] - 0s 755us/step - my_loss: 1.1200 - my_mae: 0.9225\n",
      "Epoch 3/3\n",
      "32/32 [==============================] - 0s 753us/step - my_loss: 0.8444 - my_mae: 0.7652\n"
     ]
    }
   ],
   "source": [
    "def lowLevelCustomModel():\n",
    "\n",
    "    loss_tracker = keras.metrics.Mean(name=\"loss\")\n",
    "    mae_metric = keras.metrics.MeanAbsoluteError(name=\"mae\")\n",
    "    \n",
    "    class CustomModel(keras.Model):\n",
    "        def train_step(self, data):\n",
    "            # unpack\n",
    "            x, y = data\n",
    "\n",
    "            with tf.GradientTape() as tape:\n",
    "\n",
    "                y_pred = self(x, training=True) # forward pass\n",
    "\n",
    "                # use model's internal loss\n",
    "                loss = keras.losses.mean_squared_error(y, y_pred)\n",
    "\n",
    "            # compute g\n",
    "            trainable_variables = self.trainable_variables\n",
    "            g = tape.gradient(loss, self.trainable_variables)\n",
    "\n",
    "            # update w\n",
    "            self.optimizer.apply_gradients(zip(g, trainable_variables))\n",
    "            \n",
    "            # compute our own metrics\n",
    "            loss_tracker.update_state(loss)\n",
    "            mae_metric.update_state(y, y_pred)\n",
    "\n",
    "            # return dict of metrics\n",
    "            return { \"my_loss\": loss_tracker.result(), \"my_mae\": mae_metric.result() }     \n",
    "\n",
    "    import numpy as np\n",
    "\n",
    "    # Construct and compile an instance of CustomModel\n",
    "    inputs = keras.Input(shape=(32,))\n",
    "    outputs = keras.layers.Dense(1)(inputs)\n",
    "    model = CustomModel(inputs, outputs)\n",
    "    model.compile(optimizer=\"adam\") #, loss=\"mse\", metrics=[\"mae\"])\n",
    "\n",
    "    # Just use `fit` as usual\n",
    "    x = np.random.random((1000, 32))\n",
    "    y = np.random.random((1000, 1))\n",
    "    model.fit(x, y, epochs=3)     \n",
    "    \n",
    "lowLevelCustomModel()"
   ]
  },
  {
   "cell_type": "markdown",
   "metadata": {},
   "source": [
    "## Sample weight 및  class weight  지원\n",
    "\n",
    "* data에서 sw 전달\n",
    "* unpack data\n",
    "* compiled_loss에 sw, cw 전달\n",
    "* metric update_state 시에도 sw 전달 필요"
   ]
  },
  {
   "cell_type": "code",
   "execution_count": 8,
   "metadata": {},
   "outputs": [
    {
     "name": "stdout",
     "output_type": "stream",
     "text": [
      "Epoch 1/3\n",
      "32/32 [==============================] - 0s 783us/step - loss: 2.2923 - mae: 2.0717\n",
      "Epoch 2/3\n",
      "32/32 [==============================] - 0s 769us/step - loss: 1.3720 - mae: 1.5699\n",
      "Epoch 3/3\n",
      "32/32 [==============================] - 0s 799us/step - loss: 0.7871 - mae: 1.1423\n"
     ]
    }
   ],
   "source": [
    "def SampleWeightCustomModel():\n",
    "\n",
    "    class CustomModel(keras.Model):\n",
    "        def train_step(self, data):\n",
    "            # unpack\n",
    "            x, y, sw = data\n",
    "\n",
    "            with tf.GradientTape() as tape:\n",
    "\n",
    "                y_pred = self(x, training=True) # forward pass\n",
    "\n",
    "                loss = self.compiled_loss(y, y_pred, \n",
    "                    sample_weight=sw,                      \n",
    "                    regularization_losses=self.losses)\n",
    "\n",
    "            # compute g\n",
    "            trainable_variables = self.trainable_variables\n",
    "            g = tape.gradient(loss, self.trainable_variables)\n",
    "\n",
    "            # update w\n",
    "            self.optimizer.apply_gradients(zip(g, trainable_variables))\n",
    "            \n",
    "            # update metrics\n",
    "            self.compiled_metrics.update_state(y, y_pred, sample_weight=sw)\n",
    "\n",
    "            # return dict of metrics\n",
    "            return { m.name: m.result() for m in self.metrics }     \n",
    "\n",
    "    import numpy as np\n",
    "\n",
    "    # Construct and compile an instance of CustomModel\n",
    "    inputs = keras.Input(shape=(32,))\n",
    "    outputs = keras.layers.Dense(1)(inputs)\n",
    "    model = CustomModel(inputs, outputs)\n",
    "    model.compile(optimizer=\"adam\", loss=\"mse\", metrics=[\"mae\"])\n",
    "\n",
    "    # You can now use sample_weight argument\n",
    "    x = np.random.random((1000, 32))\n",
    "    y = np.random.random((1000, 1))\n",
    "    sw = np.random.random((1000, 1))\n",
    "    model.fit(x, y, sample_weight=sw, epochs=3)\n",
    "    \n",
    "SampleWeightCustomModel()"
   ]
  },
  {
   "cell_type": "markdown",
   "metadata": {},
   "source": [
    "## 자신의 평가 단계 제공 (model.evaluate 재작성)\n",
    "\n",
    "* test_step 재정의"
   ]
  },
  {
   "cell_type": "code",
   "execution_count": 9,
   "metadata": {},
   "outputs": [
    {
     "name": "stdout",
     "output_type": "stream",
     "text": [
      "32/32 [==============================] - 0s 643us/step - loss: 0.2098 - mae: 0.3705\n"
     ]
    }
   ],
   "source": [
    "def MyOwnEvaluationCustomModel():\n",
    "\n",
    "    class CustomModel(keras.Model):\n",
    "        def test_step(self, data):\n",
    "            # Unpack the data\n",
    "            x, y = data\n",
    "            # Compute predictions\n",
    "            y_pred = self(x, training=False)\n",
    "            # Updates the metrics tracking the loss\n",
    "            self.compiled_loss(y, y_pred, regularization_losses=self.losses)\n",
    "            # Update the metrics.\n",
    "            self.compiled_metrics.update_state(y, y_pred)\n",
    "            # Return a dict mapping metric names to current value.\n",
    "            # Note that it will include the loss (tracked in self.metrics).\n",
    "            return {m.name: m.result() for m in self.metrics}\n",
    "\n",
    "\n",
    "    # Construct an instance of CustomModel\n",
    "    inputs = keras.Input(shape=(32,))\n",
    "    outputs = keras.layers.Dense(1)(inputs)\n",
    "    model = CustomModel(inputs, outputs)\n",
    "    model.compile(loss=\"mse\", metrics=[\"mae\"])\n",
    "\n",
    "    # Evaluate with our custom test_step\n",
    "    x = np.random.random((1000, 32))\n",
    "    y = np.random.random((1000, 1))\n",
    "    model.evaluate(x, y)\n",
    "    \n",
    "MyOwnEvaluationCustomModel()"
   ]
  },
  {
   "cell_type": "markdown",
   "metadata": {},
   "source": [
    "## 마무리 : EndToEnd GAN\n"
   ]
  },
  {
   "cell_type": "code",
   "execution_count": 4,
   "metadata": {
    "code_folding": [
     11,
     46
    ]
   },
   "outputs": [
    {
     "name": "stdout",
     "output_type": "stream",
     "text": [
      "Epoch 1/3\n",
      "100/100 [==============================] - 2s 16ms/step - d_loss: 0.5195 - g_loss: 0.8054\n",
      "Epoch 2/3\n",
      "100/100 [==============================] - 2s 16ms/step - d_loss: 0.3302 - g_loss: 1.3691\n",
      "Epoch 3/3\n",
      "100/100 [==============================] - 2s 16ms/step - d_loss: 0.5003 - g_loss: 1.3242\n"
     ]
    }
   ],
   "source": [
    "import tensorflow as tf\n",
    "import numpy as np\n",
    "from tensorflow import keras\n",
    "#import tensorflow_addons as tfa\n",
    "from tensorflow.keras import datasets, layers, models, preprocessing\n",
    "from tensorflow.python.client import device_lib\n",
    "import timeit\n",
    "import tensorflow_datasets as tfds\n",
    "\n",
    "def SimpleGAN(epochs=1):\n",
    "    \n",
    "    def build_model(latent_dim):\n",
    "    \n",
    "        # create discriminator\n",
    "        discriminator = keras.Sequential(\n",
    "            [\n",
    "                keras.Input(shape=(28, 28, 1)),\n",
    "                layers.Conv2D(64, (3, 3), strides=(2, 2), padding=\"same\"),\n",
    "                layers.LeakyReLU(alpha=0.2),\n",
    "                layers.Conv2D(128, (3, 3), strides=(2, 2), padding=\"same\"),\n",
    "                layers.LeakyReLU(alpha=0.2),\n",
    "                layers.GlobalMaxPooling2D(),\n",
    "                layers.Dense(1),\n",
    "            ],\n",
    "            name=\"discriminator\",\n",
    "        )\n",
    "\n",
    "        # Create the generator\n",
    "        generator = keras.Sequential(\n",
    "            [\n",
    "                keras.Input(shape=(latent_dim,)),\n",
    "                # We want to generate 128 coefficients to reshape into a 7x7x128 map\n",
    "                layers.Dense(7 * 7 * 128),\n",
    "                layers.LeakyReLU(alpha=0.2),\n",
    "                layers.Reshape((7, 7, 128)),\n",
    "                layers.Conv2DTranspose(128, (4, 4), strides=(2, 2), padding=\"same\"),\n",
    "                layers.LeakyReLU(alpha=0.2),\n",
    "                layers.Conv2DTranspose(128, (4, 4), strides=(2, 2), padding=\"same\"),\n",
    "                layers.LeakyReLU(alpha=0.2),\n",
    "                layers.Conv2D(1, (7, 7), padding=\"same\", activation=\"sigmoid\"),\n",
    "            ],\n",
    "            name=\"generator\",\n",
    "        )\n",
    "        \n",
    "        return discriminator, generator\n",
    "    \n",
    "    class GAN(keras.Model):\n",
    "        def __init__(self, discriminator, generator, latent_dim):\n",
    "            super(GAN, self).__init__()\n",
    "            self.discriminator = discriminator\n",
    "            self.generator = generator\n",
    "            self.latent_dim = latent_dim\n",
    "        \n",
    "        \n",
    "        def compile(self, d_opt, g_opt, loss_fn):\n",
    "            super(GAN, self).compile()\n",
    "            self.d_opt = d_opt\n",
    "            self.g_opt = g_opt\n",
    "            self.loss_fn = loss_fn\n",
    "        \n",
    "        def train_step(self, real_images):\n",
    "            \n",
    "            if isinstance(real_images, tuple):\n",
    "                real_images = real_imaages[0]\n",
    "                \n",
    "            # sampl random points in latent space\n",
    "            batch_size = tf.shape(real_images)[0]\n",
    "            random_latent_vectors = tf.random.normal(shape=(batch_size, self.latent_dim))\n",
    "\n",
    "            # fake image generation by generator\n",
    "            gen_images = self.generator(random_latent_vectors)\n",
    "            \n",
    "            \n",
    "            #### train the discriminator\n",
    "            \n",
    "            # combine real/fake images\n",
    "            combined_images = tf.concat([gen_images, real_images], axis=0)\n",
    "            # prepare labels (fake -> 1, real->0)\n",
    "            labels = tf.concat([tf.ones(batch_size,1), tf.zeros(batch_size,1)], axis=0)\n",
    "            # add label noise \n",
    "            labels += 0.05 * tf.random.uniform(tf.shape(labels))\n",
    "            with tf.GradientTape() as tape:\n",
    "                preds = self.discriminator(combined_images)\n",
    "                d_loss = self.loss_fn(labels, preds)\n",
    "            grads = tape.gradient(d_loss, self.discriminator.trainable_weights)\n",
    "            self.d_opt.apply_gradients(\n",
    "                zip(grads, self.discriminator.trainable_weights)\n",
    "            )\n",
    "            \n",
    "            ### train the generator\n",
    "            random_latent_vectors = tf.random.normal(shape=(batch_size, self.latent_dim))\n",
    "            misleading_labels = tf.zeros((batch_size, 1))\n",
    "            \n",
    "            with tf.GradientTape() as tape:\n",
    "                preds = self.discriminator(self.generator(random_latent_vectors))\n",
    "                g_loss = self.loss_fn(misleading_labels, preds)\n",
    "            grads = tape.gradient(g_loss, self.generator.trainable_weights)\n",
    "            self.g_opt.apply_gradients(\n",
    "                zip(grads, self.generator.trainable_weights)\n",
    "            )\n",
    "            \n",
    "            return {\"d_loss\": d_loss, \"g_loss\": g_loss}\n",
    "        \n",
    "    # Prepare the dataset. We use both the training & test MNIST digits.\n",
    "    batch_size = 64   \n",
    "    \n",
    "    (X_train, _), (x_test, _) = keras.datasets.mnist.load_data()\n",
    "    all_digits = np.concatenate([X_train, x_test])\n",
    "    all_digits = all_digits.astype(\"float32\") / 255.0\n",
    "    all_digits = np.reshape(all_digits, (-1, 28, 28, 1))\n",
    "    dataset = tf.data.Dataset.from_tensor_slices(all_digits)\n",
    "    dataset = dataset.shuffle(buffer_size=1024).batch(batch_size)\n",
    "    \n",
    "    # model\n",
    "    latent_dim = 128\n",
    "    discriminator, generator = build_model(latent_dim=latent_dim)\n",
    "    \n",
    "    gan = GAN(discriminator, generator, latent_dim=latent_dim)\n",
    "    gan.compile(\n",
    "        d_opt=keras.optimizers.Adam(learning_rate=0.0003),\n",
    "        g_opt=keras.optimizers.Adam(learning_rate=0.0003),\n",
    "        loss_fn=keras.losses.BinaryCrossentropy(from_logits=True)\n",
    "    )\n",
    "    \n",
    "    gan.fit(dataset.take(100), epochs=epochs)\n",
    "            \n",
    "SimpleGAN(epochs=3)"
   ]
  },
  {
   "cell_type": "code",
   "execution_count": null,
   "metadata": {},
   "outputs": [],
   "source": []
  }
 ],
 "metadata": {
  "kernelspec": {
   "display_name": "Python (ai)",
   "language": "python",
   "name": "ai"
  },
  "language_info": {
   "codemirror_mode": {
    "name": "ipython",
    "version": 3
   },
   "file_extension": ".py",
   "mimetype": "text/x-python",
   "name": "python",
   "nbconvert_exporter": "python",
   "pygments_lexer": "ipython3",
   "version": "3.6.12"
  },
  "toc": {
   "base_numbering": 1,
   "nav_menu": {
    "height": "291px",
    "width": "356px"
   },
   "number_sections": true,
   "sideBar": true,
   "skip_h1_title": false,
   "title_cell": "Table of Contents",
   "title_sidebar": "Contents",
   "toc_cell": false,
   "toc_position": {},
   "toc_section_display": true,
   "toc_window_display": false
  }
 },
 "nbformat": 4,
 "nbformat_minor": 4
}
