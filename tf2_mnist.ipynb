{
 "cells": [
  {
   "cell_type": "markdown",
   "metadata": {},
   "source": [
    "# TF2로 MNIST 학습\n",
    "\n",
    "* 은닉층 사용\n",
    "* Dropout"
   ]
  },
  {
   "cell_type": "code",
   "execution_count": 13,
   "metadata": {},
   "outputs": [],
   "source": [
    "import tensorflow as tf\n",
    "import numpy as np\n",
    "from tensorflow import keras\n",
    "import tensorflow_addons as tfa"
   ]
  },
  {
   "cell_type": "code",
   "execution_count": 2,
   "metadata": {},
   "outputs": [],
   "source": [
    "# train parameter\n",
    "\n",
    "NB_CLASSES = 10\n",
    "VERBOSE = 1\n",
    "VALIDATION_SPLIT = 0.2\n",
    "\n",
    "EPOCHS = 30\n",
    "BATCH_SIZE = 512\n",
    "N_HIDDEN = 128\n",
    "DROPOUT=0.3"
   ]
  },
  {
   "cell_type": "markdown",
   "metadata": {},
   "source": [
    "# 데이터 준비"
   ]
  },
  {
   "cell_type": "code",
   "execution_count": 3,
   "metadata": {},
   "outputs": [
    {
     "name": "stdout",
     "output_type": "stream",
     "text": [
      "60000 train samples\n",
      "10000 test samples\n"
     ]
    }
   ],
   "source": [
    "# load mnist data set \n",
    "# split between train and test\n",
    "# one-hot label\n",
    "mnist = keras.datasets.mnist\n",
    "(X_train, Y_train), (X_test, Y_test) = mnist.load_data()    # as numpy\n",
    "\n",
    "# \n",
    "RESHAPED = 784 # 28x28\n",
    "X_train = X_train.reshape(60000,RESHAPED)\n",
    "X_test = X_test.reshape(10000, RESHAPED)\n",
    "X_train = X_train.astype('float32')\n",
    "X_test =  X_test.astype('float32')\n",
    "\n",
    "# normalize in [0,1]\n",
    "X_train, X_test = X_train / 255.0, X_test / 255.0\n",
    "print(X_train.shape[0], 'train samples')\n",
    "print(X_test.shape[0], 'test samples')\n",
    "\n",
    "# one-hot \n",
    "Y_train = tf.keras.utils.to_categorical(Y_train, NB_CLASSES)   # numpy\n",
    "Y_test = tf.keras.utils.to_categorical(Y_test, NB_CLASSES)"
   ]
  },
  {
   "cell_type": "markdown",
   "metadata": {},
   "source": [
    "# 모델 준비\n",
    "\n",
    "* 기본(regular)\n",
    "* Weight normalization 적용 (WN)\n",
    "* Batch normalization 적용(BN)"
   ]
  },
  {
   "cell_type": "code",
   "execution_count": 15,
   "metadata": {
    "collapsed": true
   },
   "outputs": [
    {
     "name": "stdout",
     "output_type": "stream",
     "text": [
      "Model: \"sequential_2\"\n",
      "_________________________________________________________________\n",
      "Layer (type)                 Output Shape              Param #   \n",
      "=================================================================\n",
      "dense_layer (Dense)          (None, 128)               100480    \n",
      "_________________________________________________________________\n",
      "dropout_4 (Dropout)          (None, 128)               0         \n",
      "_________________________________________________________________\n",
      "dense_layer_2 (Dense)        (None, 128)               16512     \n",
      "_________________________________________________________________\n",
      "dropout_5 (Dropout)          (None, 128)               0         \n",
      "_________________________________________________________________\n",
      "dense_layer_3 (Dense)        (None, 10)                1290      \n",
      "=================================================================\n",
      "Total params: 118,282\n",
      "Trainable params: 118,282\n",
      "Non-trainable params: 0\n",
      "_________________________________________________________________\n"
     ]
    }
   ],
   "source": [
    "regular_model = keras.Sequential(\n",
    "    [\n",
    "        keras.Input(shape=(RESHAPED,)),  # 입력을 알려줘야 빌드됨 \n",
    "        keras.layers.Dense(N_HIDDEN, name = 'dense_layer', activation='relu'),\n",
    "        keras.layers.Dropout(DROPOUT),\n",
    "        keras.layers.Dense(N_HIDDEN, name = 'dense_layer_2', activation='relu'),\n",
    "        keras.layers.Dropout(DROPOUT),\n",
    "        keras.layers.Dense(NB_CLASSES, name = 'dense_layer_3', activation='softmax')\n",
    "    ]\n",
    ")\n",
    "\n",
    "regular_model.summary()"
   ]
  },
  {
   "cell_type": "code",
   "execution_count": 18,
   "metadata": {
    "collapsed": true
   },
   "outputs": [
    {
     "name": "stdout",
     "output_type": "stream",
     "text": [
      "Model: \"sequential_5\"\n",
      "_________________________________________________________________\n",
      "Layer (type)                 Output Shape              Param #   \n",
      "=================================================================\n",
      "weight_normalization_4 (Weig (None, 128)               201089    \n",
      "_________________________________________________________________\n",
      "dropout_10 (Dropout)         (None, 128)               0         \n",
      "_________________________________________________________________\n",
      "weight_normalization_5 (Weig (None, 128)               33153     \n",
      "_________________________________________________________________\n",
      "dropout_11 (Dropout)         (None, 128)               0         \n",
      "_________________________________________________________________\n",
      "weight_normalization_6 (Weig (None, 10)                2591      \n",
      "=================================================================\n",
      "Total params: 236,833\n",
      "Trainable params: 118,548\n",
      "Non-trainable params: 118,285\n",
      "_________________________________________________________________\n"
     ]
    }
   ],
   "source": [
    "wn_model = keras.Sequential(   # weight normalization 적용\n",
    "    [\n",
    "        keras.Input(shape=(RESHAPED,)),  # 입력을 알려줘야 빌드됨 \n",
    "        tfa.layers.WeightNormalization(keras.layers.Dense(N_HIDDEN, name = 'dense_layer', activation='relu')),\n",
    "        keras.layers.Dropout(DROPOUT),\n",
    "        tfa.layers.WeightNormalization(keras.layers.Dense(N_HIDDEN, name = 'dense_layer_2', activation='relu')),\n",
    "        keras.layers.Dropout(DROPOUT),\n",
    "        tfa.layers.WeightNormalization(keras.layers.Dense(NB_CLASSES, name = 'dense_layer_3', activation='softmax'))\n",
    "    ]\n",
    ")\n",
    "\n",
    "wn_model.summary()"
   ]
  },
  {
   "cell_type": "code",
   "execution_count": 29,
   "metadata": {},
   "outputs": [
    {
     "name": "stdout",
     "output_type": "stream",
     "text": [
      "Model: \"sequential_7\"\n",
      "_________________________________________________________________\n",
      "Layer (type)                 Output Shape              Param #   \n",
      "=================================================================\n",
      "dense_layer (Dense)          (None, 128)               100480    \n",
      "_________________________________________________________________\n",
      "batch_normalization_2 (Batch (None, 128)               512       \n",
      "_________________________________________________________________\n",
      "dropout_14 (Dropout)         (None, 128)               0         \n",
      "_________________________________________________________________\n",
      "dense_layer_2 (Dense)        (None, 128)               16512     \n",
      "_________________________________________________________________\n",
      "batch_normalization_3 (Batch (None, 128)               512       \n",
      "_________________________________________________________________\n",
      "dropout_15 (Dropout)         (None, 128)               0         \n",
      "_________________________________________________________________\n",
      "dense_layer_3 (Dense)        (None, 10)                1290      \n",
      "=================================================================\n",
      "Total params: 119,306\n",
      "Trainable params: 118,794\n",
      "Non-trainable params: 512\n",
      "_________________________________________________________________\n"
     ]
    }
   ],
   "source": [
    "bn_model = keras.Sequential(   # weight normalization 적용\n",
    "    [\n",
    "        keras.Input(shape=(RESHAPED,)),  # 입력을 알려줘야 빌드됨 \n",
    "        keras.layers.Dense(N_HIDDEN, name = 'dense_layer', activation='relu'),\n",
    "        keras.layers.BatchNormalization(),\n",
    "        keras.layers.Dropout(DROPOUT),\n",
    "        keras.layers.Dense(N_HIDDEN, name = 'dense_layer_2', activation='relu'),\n",
    "        keras.layers.BatchNormalization(),\n",
    "        keras.layers.Dropout(DROPOUT),\n",
    "        keras.layers.Dense(NB_CLASSES, name = 'dense_layer_3', activation='softmax')\n",
    "    ]\n",
    ")\n",
    "\n",
    "bn_model.summary()"
   ]
  },
  {
   "cell_type": "markdown",
   "metadata": {},
   "source": [
    "# 모델 학습"
   ]
  },
  {
   "cell_type": "code",
   "execution_count": 20,
   "metadata": {
    "scrolled": true
   },
   "outputs": [
    {
     "name": "stdout",
     "output_type": "stream",
     "text": [
      "Epoch 1/30\n",
      "94/94 [==============================] - 0s 3ms/step - loss: 0.8200 - accuracy: 0.7442 - val_loss: 0.2636 - val_accuracy: 0.9231\n",
      "Epoch 2/30\n",
      "94/94 [==============================] - 0s 2ms/step - loss: 0.3215 - accuracy: 0.9063 - val_loss: 0.1926 - val_accuracy: 0.9434\n",
      "Epoch 3/30\n",
      "94/94 [==============================] - 0s 2ms/step - loss: 0.2440 - accuracy: 0.9286 - val_loss: 0.1560 - val_accuracy: 0.9536\n",
      "Epoch 4/30\n",
      "94/94 [==============================] - 0s 2ms/step - loss: 0.2034 - accuracy: 0.9403 - val_loss: 0.1366 - val_accuracy: 0.9603\n",
      "Epoch 5/30\n",
      "94/94 [==============================] - 0s 2ms/step - loss: 0.1782 - accuracy: 0.9470 - val_loss: 0.1237 - val_accuracy: 0.9637\n",
      "Epoch 6/30\n",
      "94/94 [==============================] - 0s 2ms/step - loss: 0.1585 - accuracy: 0.9518 - val_loss: 0.1131 - val_accuracy: 0.9665\n",
      "Epoch 7/30\n",
      "94/94 [==============================] - 0s 2ms/step - loss: 0.1431 - accuracy: 0.9570 - val_loss: 0.1081 - val_accuracy: 0.9677\n",
      "Epoch 8/30\n",
      "94/94 [==============================] - 0s 2ms/step - loss: 0.1314 - accuracy: 0.9600 - val_loss: 0.1047 - val_accuracy: 0.9684\n",
      "Epoch 9/30\n",
      "94/94 [==============================] - 0s 2ms/step - loss: 0.1171 - accuracy: 0.9647 - val_loss: 0.0962 - val_accuracy: 0.9711\n",
      "Epoch 10/30\n",
      "94/94 [==============================] - 0s 2ms/step - loss: 0.1115 - accuracy: 0.9655 - val_loss: 0.0921 - val_accuracy: 0.9728\n",
      "Epoch 11/30\n",
      "94/94 [==============================] - 0s 2ms/step - loss: 0.1029 - accuracy: 0.9679 - val_loss: 0.0949 - val_accuracy: 0.9718\n",
      "Epoch 12/30\n",
      "94/94 [==============================] - 0s 2ms/step - loss: 0.0996 - accuracy: 0.9690 - val_loss: 0.0894 - val_accuracy: 0.9737\n",
      "Epoch 13/30\n",
      "94/94 [==============================] - 0s 2ms/step - loss: 0.0949 - accuracy: 0.9705 - val_loss: 0.0878 - val_accuracy: 0.9733\n",
      "Epoch 14/30\n",
      "94/94 [==============================] - 0s 2ms/step - loss: 0.0866 - accuracy: 0.9729 - val_loss: 0.0880 - val_accuracy: 0.9746\n",
      "Epoch 15/30\n",
      "94/94 [==============================] - 0s 2ms/step - loss: 0.0827 - accuracy: 0.9744 - val_loss: 0.0860 - val_accuracy: 0.9748\n",
      "Epoch 16/30\n",
      "94/94 [==============================] - 0s 2ms/step - loss: 0.0776 - accuracy: 0.9759 - val_loss: 0.0842 - val_accuracy: 0.9748\n",
      "Epoch 17/30\n",
      "94/94 [==============================] - 0s 2ms/step - loss: 0.0770 - accuracy: 0.9758 - val_loss: 0.0835 - val_accuracy: 0.9753\n",
      "Epoch 18/30\n",
      "94/94 [==============================] - 0s 2ms/step - loss: 0.0720 - accuracy: 0.9774 - val_loss: 0.0866 - val_accuracy: 0.9756\n",
      "Epoch 19/30\n",
      "94/94 [==============================] - 0s 2ms/step - loss: 0.0695 - accuracy: 0.9778 - val_loss: 0.0833 - val_accuracy: 0.9757\n",
      "Epoch 20/30\n",
      "94/94 [==============================] - 0s 2ms/step - loss: 0.0674 - accuracy: 0.9781 - val_loss: 0.0841 - val_accuracy: 0.9759\n",
      "Epoch 21/30\n",
      "94/94 [==============================] - 0s 2ms/step - loss: 0.0654 - accuracy: 0.9793 - val_loss: 0.0801 - val_accuracy: 0.9772\n",
      "Epoch 22/30\n",
      "94/94 [==============================] - 0s 2ms/step - loss: 0.0597 - accuracy: 0.9810 - val_loss: 0.0816 - val_accuracy: 0.9769\n",
      "Epoch 23/30\n",
      "94/94 [==============================] - 0s 2ms/step - loss: 0.0609 - accuracy: 0.9799 - val_loss: 0.0808 - val_accuracy: 0.9769\n",
      "Epoch 24/30\n",
      "94/94 [==============================] - 0s 2ms/step - loss: 0.0604 - accuracy: 0.9808 - val_loss: 0.0790 - val_accuracy: 0.9767\n",
      "Epoch 25/30\n",
      "94/94 [==============================] - 0s 2ms/step - loss: 0.0583 - accuracy: 0.9817 - val_loss: 0.0794 - val_accuracy: 0.9778\n",
      "Epoch 26/30\n",
      "94/94 [==============================] - 0s 2ms/step - loss: 0.0541 - accuracy: 0.9820 - val_loss: 0.0787 - val_accuracy: 0.9780\n",
      "Epoch 27/30\n",
      "94/94 [==============================] - 0s 2ms/step - loss: 0.0518 - accuracy: 0.9830 - val_loss: 0.0814 - val_accuracy: 0.9784\n",
      "Epoch 28/30\n",
      "94/94 [==============================] - 0s 2ms/step - loss: 0.0504 - accuracy: 0.9834 - val_loss: 0.0780 - val_accuracy: 0.9780\n",
      "Epoch 29/30\n",
      "94/94 [==============================] - 0s 2ms/step - loss: 0.0483 - accuracy: 0.9844 - val_loss: 0.0813 - val_accuracy: 0.9778\n",
      "Epoch 30/30\n",
      "94/94 [==============================] - 0s 2ms/step - loss: 0.0493 - accuracy: 0.9843 - val_loss: 0.0815 - val_accuracy: 0.9772\n"
     ]
    }
   ],
   "source": [
    "# compile\n",
    "optimizer =  tf.keras.optimizers.Adam(\n",
    "    learning_rate=0.001, beta_1=0.9, beta_2=0.999, epsilon=1e-07, amsgrad=False,\n",
    "    name='Adam')\n",
    "\n",
    "regular_model.compile(optimizer=optimizer,\n",
    "    loss=tf.keras.losses.CategoricalCrossentropy(),\n",
    "    metrics=['accuracy'])\n",
    "\n",
    "# training \n",
    "regular_history = regular_model.fit(X_train, Y_train, \n",
    "    batch_size=BATCH_SIZE, epochs=EPOCHS,\n",
    "    verbose=VERBOSE, validation_split=VALIDATION_SPLIT)"
   ]
  },
  {
   "cell_type": "code",
   "execution_count": 21,
   "metadata": {
    "scrolled": true
   },
   "outputs": [
    {
     "name": "stdout",
     "output_type": "stream",
     "text": [
      "Epoch 1/30\n",
      "94/94 [==============================] - 0s 5ms/step - loss: 0.4463 - accuracy: 0.8589 - val_loss: 0.1605 - val_accuracy: 0.9500\n",
      "Epoch 2/30\n",
      "94/94 [==============================] - 0s 3ms/step - loss: 0.2165 - accuracy: 0.9355 - val_loss: 0.1297 - val_accuracy: 0.9620\n",
      "Epoch 3/30\n",
      "94/94 [==============================] - 0s 3ms/step - loss: 0.1762 - accuracy: 0.9467 - val_loss: 0.1166 - val_accuracy: 0.9653\n",
      "Epoch 4/30\n",
      "94/94 [==============================] - 0s 3ms/step - loss: 0.1520 - accuracy: 0.9547 - val_loss: 0.1075 - val_accuracy: 0.9682\n",
      "Epoch 5/30\n",
      "94/94 [==============================] - 0s 3ms/step - loss: 0.1357 - accuracy: 0.9578 - val_loss: 0.1016 - val_accuracy: 0.9695\n",
      "Epoch 6/30\n",
      "94/94 [==============================] - 0s 3ms/step - loss: 0.1251 - accuracy: 0.9621 - val_loss: 0.0979 - val_accuracy: 0.9697\n",
      "Epoch 7/30\n",
      "94/94 [==============================] - 0s 3ms/step - loss: 0.1136 - accuracy: 0.9653 - val_loss: 0.0959 - val_accuracy: 0.9723\n",
      "Epoch 8/30\n",
      "94/94 [==============================] - 0s 3ms/step - loss: 0.1061 - accuracy: 0.9672 - val_loss: 0.0967 - val_accuracy: 0.9701\n",
      "Epoch 9/30\n",
      "94/94 [==============================] - 0s 3ms/step - loss: 0.0997 - accuracy: 0.9689 - val_loss: 0.0914 - val_accuracy: 0.9732\n",
      "Epoch 10/30\n",
      "94/94 [==============================] - 0s 3ms/step - loss: 0.0979 - accuracy: 0.9695 - val_loss: 0.0927 - val_accuracy: 0.9733\n",
      "Epoch 11/30\n",
      "94/94 [==============================] - 0s 3ms/step - loss: 0.0909 - accuracy: 0.9714 - val_loss: 0.0870 - val_accuracy: 0.9753\n",
      "Epoch 12/30\n",
      "94/94 [==============================] - 0s 3ms/step - loss: 0.0856 - accuracy: 0.9736 - val_loss: 0.0868 - val_accuracy: 0.9754\n",
      "Epoch 13/30\n",
      "94/94 [==============================] - 0s 3ms/step - loss: 0.0826 - accuracy: 0.9736 - val_loss: 0.0840 - val_accuracy: 0.9756\n",
      "Epoch 14/30\n",
      "94/94 [==============================] - 0s 3ms/step - loss: 0.0771 - accuracy: 0.9762 - val_loss: 0.0863 - val_accuracy: 0.9754\n",
      "Epoch 15/30\n",
      "94/94 [==============================] - 0s 3ms/step - loss: 0.0773 - accuracy: 0.9752 - val_loss: 0.0889 - val_accuracy: 0.9742\n",
      "Epoch 16/30\n",
      "94/94 [==============================] - 0s 3ms/step - loss: 0.0753 - accuracy: 0.9760 - val_loss: 0.0850 - val_accuracy: 0.9753\n",
      "Epoch 17/30\n",
      "94/94 [==============================] - 0s 3ms/step - loss: 0.0700 - accuracy: 0.9774 - val_loss: 0.0839 - val_accuracy: 0.9760\n",
      "Epoch 18/30\n",
      "94/94 [==============================] - 0s 3ms/step - loss: 0.0675 - accuracy: 0.9789 - val_loss: 0.0835 - val_accuracy: 0.9766\n",
      "Epoch 19/30\n",
      "94/94 [==============================] - 0s 3ms/step - loss: 0.0681 - accuracy: 0.9780 - val_loss: 0.0863 - val_accuracy: 0.9757\n",
      "Epoch 20/30\n",
      "94/94 [==============================] - 0s 3ms/step - loss: 0.0625 - accuracy: 0.9800 - val_loss: 0.0826 - val_accuracy: 0.9772\n",
      "Epoch 21/30\n",
      "94/94 [==============================] - 0s 3ms/step - loss: 0.0623 - accuracy: 0.9799 - val_loss: 0.0828 - val_accuracy: 0.9766\n",
      "Epoch 22/30\n",
      "94/94 [==============================] - 0s 3ms/step - loss: 0.0603 - accuracy: 0.9808 - val_loss: 0.0876 - val_accuracy: 0.9760\n",
      "Epoch 23/30\n",
      "94/94 [==============================] - 0s 3ms/step - loss: 0.0567 - accuracy: 0.9820 - val_loss: 0.0809 - val_accuracy: 0.9777\n",
      "Epoch 24/30\n",
      "94/94 [==============================] - 0s 3ms/step - loss: 0.0591 - accuracy: 0.9806 - val_loss: 0.0805 - val_accuracy: 0.9778\n",
      "Epoch 25/30\n",
      "94/94 [==============================] - 0s 3ms/step - loss: 0.0568 - accuracy: 0.9813 - val_loss: 0.0834 - val_accuracy: 0.9772\n",
      "Epoch 26/30\n",
      "94/94 [==============================] - 0s 3ms/step - loss: 0.0550 - accuracy: 0.9824 - val_loss: 0.0817 - val_accuracy: 0.9785\n",
      "Epoch 27/30\n",
      "94/94 [==============================] - 0s 3ms/step - loss: 0.0552 - accuracy: 0.9822 - val_loss: 0.0823 - val_accuracy: 0.9772\n",
      "Epoch 28/30\n",
      "94/94 [==============================] - 0s 3ms/step - loss: 0.0484 - accuracy: 0.9844 - val_loss: 0.0834 - val_accuracy: 0.9782\n",
      "Epoch 29/30\n",
      "94/94 [==============================] - 0s 3ms/step - loss: 0.0523 - accuracy: 0.9830 - val_loss: 0.0832 - val_accuracy: 0.9772\n",
      "Epoch 30/30\n",
      "94/94 [==============================] - 0s 3ms/step - loss: 0.0535 - accuracy: 0.9826 - val_loss: 0.0825 - val_accuracy: 0.9774\n"
     ]
    }
   ],
   "source": [
    "wn_model.compile(optimizer=optimizer,\n",
    "    loss=tf.keras.losses.CategoricalCrossentropy(),\n",
    "    metrics=['accuracy'])\n",
    "\n",
    "# training \n",
    "wn_history = wn_model.fit(X_train, Y_train, \n",
    "    batch_size=BATCH_SIZE, epochs=EPOCHS,\n",
    "    verbose=VERBOSE, validation_split=VALIDATION_SPLIT)"
   ]
  },
  {
   "cell_type": "code",
   "execution_count": 30,
   "metadata": {
    "scrolled": true
   },
   "outputs": [
    {
     "name": "stdout",
     "output_type": "stream",
     "text": [
      "Epoch 1/30\n",
      "94/94 [==============================] - 0s 4ms/step - loss: 0.4028 - accuracy: 0.8789 - val_loss: 0.1847 - val_accuracy: 0.9508\n",
      "Epoch 2/30\n",
      "94/94 [==============================] - 0s 3ms/step - loss: 0.1956 - accuracy: 0.9408 - val_loss: 0.1380 - val_accuracy: 0.9603\n",
      "Epoch 3/30\n",
      "94/94 [==============================] - 0s 3ms/step - loss: 0.1577 - accuracy: 0.9521 - val_loss: 0.1112 - val_accuracy: 0.9684\n",
      "Epoch 4/30\n",
      "94/94 [==============================] - 0s 3ms/step - loss: 0.1368 - accuracy: 0.9582 - val_loss: 0.0994 - val_accuracy: 0.9706\n",
      "Epoch 5/30\n",
      "94/94 [==============================] - 0s 3ms/step - loss: 0.1166 - accuracy: 0.9637 - val_loss: 0.0944 - val_accuracy: 0.9731\n",
      "Epoch 6/30\n",
      "94/94 [==============================] - 0s 3ms/step - loss: 0.1095 - accuracy: 0.9655 - val_loss: 0.0929 - val_accuracy: 0.9732\n",
      "Epoch 7/30\n",
      "94/94 [==============================] - 0s 3ms/step - loss: 0.0970 - accuracy: 0.9690 - val_loss: 0.0891 - val_accuracy: 0.9737\n",
      "Epoch 8/30\n",
      "94/94 [==============================] - 0s 3ms/step - loss: 0.0920 - accuracy: 0.9700 - val_loss: 0.0888 - val_accuracy: 0.9751\n",
      "Epoch 9/30\n",
      "94/94 [==============================] - 0s 3ms/step - loss: 0.0854 - accuracy: 0.9723 - val_loss: 0.0880 - val_accuracy: 0.9747\n",
      "Epoch 10/30\n",
      "94/94 [==============================] - 0s 3ms/step - loss: 0.0771 - accuracy: 0.9754 - val_loss: 0.0868 - val_accuracy: 0.9755\n",
      "Epoch 11/30\n",
      "94/94 [==============================] - 0s 3ms/step - loss: 0.0767 - accuracy: 0.9755 - val_loss: 0.0848 - val_accuracy: 0.9747\n",
      "Epoch 12/30\n",
      "94/94 [==============================] - 0s 3ms/step - loss: 0.0705 - accuracy: 0.9776 - val_loss: 0.0857 - val_accuracy: 0.9754\n",
      "Epoch 13/30\n",
      "94/94 [==============================] - 0s 3ms/step - loss: 0.0695 - accuracy: 0.9767 - val_loss: 0.0828 - val_accuracy: 0.9763\n",
      "Epoch 14/30\n",
      "94/94 [==============================] - 0s 3ms/step - loss: 0.0639 - accuracy: 0.9787 - val_loss: 0.0791 - val_accuracy: 0.9773\n",
      "Epoch 15/30\n",
      "94/94 [==============================] - 0s 3ms/step - loss: 0.0606 - accuracy: 0.9796 - val_loss: 0.0814 - val_accuracy: 0.9769\n",
      "Epoch 16/30\n",
      "94/94 [==============================] - 0s 3ms/step - loss: 0.0601 - accuracy: 0.9806 - val_loss: 0.0778 - val_accuracy: 0.9773\n",
      "Epoch 17/30\n",
      "94/94 [==============================] - 0s 3ms/step - loss: 0.0569 - accuracy: 0.9805 - val_loss: 0.0780 - val_accuracy: 0.9783\n",
      "Epoch 18/30\n",
      "94/94 [==============================] - 0s 3ms/step - loss: 0.0542 - accuracy: 0.9818 - val_loss: 0.0790 - val_accuracy: 0.9780\n",
      "Epoch 19/30\n",
      "94/94 [==============================] - 0s 3ms/step - loss: 0.0560 - accuracy: 0.9814 - val_loss: 0.0812 - val_accuracy: 0.9772\n",
      "Epoch 20/30\n",
      "94/94 [==============================] - 0s 3ms/step - loss: 0.0523 - accuracy: 0.9830 - val_loss: 0.0774 - val_accuracy: 0.9775\n",
      "Epoch 21/30\n",
      "94/94 [==============================] - 0s 3ms/step - loss: 0.0522 - accuracy: 0.9826 - val_loss: 0.0785 - val_accuracy: 0.9776\n",
      "Epoch 22/30\n",
      "94/94 [==============================] - 0s 3ms/step - loss: 0.0479 - accuracy: 0.9839 - val_loss: 0.0831 - val_accuracy: 0.9772\n",
      "Epoch 23/30\n",
      "94/94 [==============================] - 0s 3ms/step - loss: 0.0445 - accuracy: 0.9851 - val_loss: 0.0816 - val_accuracy: 0.9781\n",
      "Epoch 24/30\n",
      "94/94 [==============================] - 0s 3ms/step - loss: 0.0457 - accuracy: 0.9849 - val_loss: 0.0829 - val_accuracy: 0.9788\n",
      "Epoch 25/30\n",
      "94/94 [==============================] - 0s 3ms/step - loss: 0.0413 - accuracy: 0.9862 - val_loss: 0.0793 - val_accuracy: 0.9787\n",
      "Epoch 26/30\n",
      "94/94 [==============================] - 0s 3ms/step - loss: 0.0422 - accuracy: 0.9859 - val_loss: 0.0764 - val_accuracy: 0.9793\n",
      "Epoch 27/30\n",
      "94/94 [==============================] - 0s 3ms/step - loss: 0.0409 - accuracy: 0.9857 - val_loss: 0.0832 - val_accuracy: 0.9782\n",
      "Epoch 28/30\n",
      "94/94 [==============================] - 0s 3ms/step - loss: 0.0379 - accuracy: 0.9867 - val_loss: 0.0877 - val_accuracy: 0.9778\n",
      "Epoch 29/30\n",
      "94/94 [==============================] - 0s 3ms/step - loss: 0.0418 - accuracy: 0.9861 - val_loss: 0.0835 - val_accuracy: 0.9781\n",
      "Epoch 30/30\n",
      "94/94 [==============================] - 0s 3ms/step - loss: 0.0396 - accuracy: 0.9871 - val_loss: 0.0843 - val_accuracy: 0.9778\n"
     ]
    }
   ],
   "source": [
    "bn_model.compile(optimizer=optimizer,\n",
    "    loss=tf.keras.losses.CategoricalCrossentropy(),\n",
    "    metrics=['accuracy'])\n",
    "\n",
    "# training \n",
    "bn_history = bn_model.fit(X_train, Y_train, \n",
    "    batch_size=BATCH_SIZE, epochs=EPOCHS,\n",
    "    verbose=VERBOSE, validation_split=VALIDATION_SPLIT)"
   ]
  },
  {
   "cell_type": "code",
   "execution_count": 31,
   "metadata": {},
   "outputs": [
    {
     "data": {
      "image/png": "[encoded data removed]",
      "text/plain": [
       "<Figure size 432x288 with 1 Axes>"
      ]
     },
     "metadata": {
      "needs_background": "light"
     },
     "output_type": "display_data"
    }
   ],
   "source": [
    "from matplotlib import pyplot as plt\n",
    "\n",
    "regular_accuracy = regular_history.history['accuracy']\n",
    "wn_accuracy = wn_history.history['accuracy']\n",
    "bn_accuracy = bn_history.history['accuracy']\n",
    "\n",
    "plt.plot(np.linspace(0, EPOCHS,  EPOCHS), regular_accuracy,\n",
    "             color='red', label='regular model')\n",
    "\n",
    "plt.plot(np.linspace(0, EPOCHS,  EPOCHS), wn_accuracy,\n",
    "             color='blue', label='wn model')\n",
    "\n",
    "plt.plot(np.linspace(0, EPOCHS,  EPOCHS), bn_accuracy,\n",
    "             color='green', label='bn model')\n",
    "\n",
    "plt.title('accuracy compared')\n",
    "plt.legend()\n",
    "plt.grid(True)\n",
    "plt.show()\n"
   ]
  },
  {
   "cell_type": "markdown",
   "metadata": {},
   "source": [
    "# 모델 평가 "
   ]
  },
  {
   "cell_type": "code",
   "execution_count": 11,
   "metadata": {},
   "outputs": [
    {
     "name": "stdout",
     "output_type": "stream",
     "text": [
      "313/313 [==============================] - 0s 336us/step - loss: 0.0717 - accuracy: 0.9801\n",
      "Test accuracy: 0.9800999760627747\n"
     ]
    }
   ],
   "source": [
    "#evalute the model\n",
    "test_loss, test_acc = model.evaluate(X_test, Y_test)\n",
    "print('Test accuracy:', test_acc)"
   ]
  },
  {
   "cell_type": "markdown",
   "metadata": {},
   "source": [
    "# 모델 예측"
   ]
  },
  {
   "cell_type": "code",
   "execution_count": 12,
   "metadata": {},
   "outputs": [
    {
     "data": {
      "text/plain": [
       "array([[1.2289303e-09, 1.2075066e-07, 2.1008518e-07, ..., 9.9999297e-01,\n",
       "        1.1052681e-09, 1.1281139e-07],\n",
       "       [1.3749761e-08, 2.5073407e-04, 9.9974924e-01, ..., 9.9878417e-10,\n",
       "        8.9288223e-11, 4.6429230e-15],\n",
       "       [7.0792731e-07, 9.9977547e-01, 6.9993498e-06, ..., 1.9148357e-04,\n",
       "        4.3056575e-06, 4.2570349e-07],\n",
       "       ...,\n",
       "       [8.6896584e-12, 5.2712300e-11, 3.6869934e-11, ..., 7.1952471e-08,\n",
       "        7.5203371e-10, 1.2808688e-07],\n",
       "       [4.7417598e-10, 1.3492335e-09, 1.3095071e-12, ..., 1.2870738e-10,\n",
       "        2.0976486e-07, 1.5592043e-11],\n",
       "       [8.8251717e-08, 4.9591663e-12, 1.2974511e-09, ..., 7.4735770e-14,\n",
       "        2.3958766e-10, 7.0889379e-12]], dtype=float32)"
      ]
     },
     "execution_count": 12,
     "metadata": {},
     "output_type": "execute_result"
    }
   ],
   "source": [
    "# making prediction\n",
    "predictions = model.predict(X_test)\n",
    "predictions"
   ]
  },
  {
   "cell_type": "code",
   "execution_count": null,
   "metadata": {},
   "outputs": [],
   "source": []
  }
 ],
 "metadata": {
  "kernelspec": {
   "display_name": "Python (ai)",
   "language": "python",
   "name": "ai"
  },
  "language_info": {
   "codemirror_mode": {
    "name": "ipython",
    "version": 3
   },
   "file_extension": ".py",
   "mimetype": "text/x-python",
   "name": "python",
   "nbconvert_exporter": "python",
   "pygments_lexer": "ipython3",
   "version": "3.6.12"
  }
 },
 "nbformat": 4,
 "nbformat_minor": 4
}
