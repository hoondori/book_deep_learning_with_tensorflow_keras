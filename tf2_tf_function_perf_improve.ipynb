{
 "cells": [
  {
   "cell_type": "markdown",
   "metadata": {},
   "source": [
    "# tf.function으로 성능 향상하기\n",
    "\n",
    "* https://www.tensorflow.org/guide/function?hl=ko"
   ]
  },
  {
   "cell_type": "code",
   "execution_count": 1,
   "metadata": {},
   "outputs": [],
   "source": [
    "import tensorflow as tf"
   ]
  },
  {
   "cell_type": "code",
   "execution_count": 2,
   "metadata": {},
   "outputs": [],
   "source": [
    "import traceback\n",
    "import contextlib\n",
    "\n",
    "@contextlib.contextmanager\n",
    "def assert_raises(error_class):\n",
    "    try:\n",
    "        yield\n",
    "    except error_class as e:\n",
    "        print('기대하는 예외 발생 \\n  {}:'.format(error_class))\n",
    "        traceback.print_exc(limit=2)\n",
    "    except Exception as e:\n",
    "        raise e\n",
    "    else:\n",
    "        raise Exception('{}를 기대했지만 아무런 에러도 발생되지 않았습니다!'.format(\n",
    "            error_class))"
   ]
  },
  {
   "cell_type": "markdown",
   "metadata": {},
   "source": [
    "# 트레이싱과 다형성"
   ]
  },
  {
   "cell_type": "code",
   "execution_count": 3,
   "metadata": {},
   "outputs": [
    {
     "name": "stdout",
     "output_type": "stream",
     "text": [
      "Tracing:  Tensor(\"a:0\", shape=(), dtype=int32)\n",
      "tf.Tensor(2, shape=(), dtype=int32)\n",
      "\n",
      "Tracing:  Tensor(\"a:0\", shape=(), dtype=float32)\n",
      "tf.Tensor(2.2, shape=(), dtype=float32)\n",
      "\n",
      "Tracing:  Tensor(\"a:0\", shape=(), dtype=string)\n",
      "tf.Tensor(b'aa', shape=(), dtype=string)\n",
      "\n"
     ]
    }
   ],
   "source": [
    "# 다형성을 지원하는 python에서의 tf.function은 인자의 형 변환별로 \n",
    "# 별도의 concrete function을 생성하여 트래이싱한다.\n",
    "\n",
    "@tf.function\n",
    "def double(a):\n",
    "    print(\"Tracing: \", a)\n",
    "    return a + a\n",
    "\n",
    "print(double(tf.constant(1)))\n",
    "print()\n",
    "print(double(tf.constant(1.1)))\n",
    "print()\n",
    "print(double(tf.constant(\"a\")))\n",
    "print()"
   ]
  },
  {
   "cell_type": "code",
   "execution_count": 4,
   "metadata": {},
   "outputs": [
    {
     "name": "stdout",
     "output_type": "stream",
     "text": [
      "Tracing:  Tensor(\"a:0\", dtype=string)\n",
      "기대하는 예외 발생 \n",
      "  <class 'tensorflow.python.framework.errors_impl.InvalidArgumentError'>:\n"
     ]
    },
    {
     "name": "stderr",
     "output_type": "stream",
     "text": [
      "Traceback (most recent call last):\n",
      "  File \"<ipython-input-2-36eb58ea7fc5>\", line 7, in assert_raises\n",
      "    yield\n",
      "  File \"<ipython-input-4-167cb9f63d43>\", line 9, in <module>\n",
      "    double_strings(tf.constant(1.0))\n",
      "tensorflow.python.framework.errors_impl.InvalidArgumentError: cannot compute __inference_double_27 as input #0(zero-based) was expected to be a string tensor but is a float tensor [Op:__inference_double_27]\n"
     ]
    }
   ],
   "source": [
    "# TensorSpec으로 구체적인 입력 형태를 정의해주면 다형성을 지원하지 않고 \n",
    "# 잘못된 형 입력에 대해 InvalidArgumentError 을 발생시킬 수 있다. \n",
    "\n",
    "double_strings = double.get_concrete_function(tf.TensorSpec(shape=None, dtype=tf.string))\n",
    "\n",
    "double_strings(tf.constant(\"a\"))\n",
    "\n",
    "with assert_raises(tf.errors.InvalidArgumentError):\n",
    "    double_strings(tf.constant(1.0))"
   ]
  },
  {
   "cell_type": "code",
   "execution_count": 5,
   "metadata": {},
   "outputs": [
    {
     "name": "stdout",
     "output_type": "stream",
     "text": [
      "Tracing: Tensor(\"x:0\", shape=(None,), dtype=int32)\n",
      "tf.Tensor([4 1], shape=(2,), dtype=int32)\n",
      "기대하는 예외 발생 \n",
      "  <class 'ValueError'>:\n"
     ]
    },
    {
     "name": "stderr",
     "output_type": "stream",
     "text": [
      "Traceback (most recent call last):\n",
      "  File \"<ipython-input-2-36eb58ea7fc5>\", line 7, in assert_raises\n",
      "    yield\n",
      "  File \"<ipython-input-5-626e12206e4c>\", line 12, in <module>\n",
      "    next_collatz(tf.constant([[1,2], [3,4]]))\n",
      "ValueError: Python inputs incompatible with input_signature:\n",
      "  inputs: (\n",
      "    tf.Tensor(\n",
      "[[1 2]\n",
      " [3 4]], shape=(2, 2), dtype=int32))\n",
      "  input_signature: (\n",
      "    TensorSpec(shape=(None,), dtype=tf.int32, name=None))\n"
     ]
    }
   ],
   "source": [
    "# 형(type) 뿐만 아니라  dimension 도 따질 수 있다.\n",
    "\n",
    "# expect int32 1D tensor\n",
    "@tf.function(input_signature=(tf.TensorSpec(shape=[None], dtype=tf.int32),))\n",
    "def next_collatz(x):\n",
    "    print(\"Tracing:\", x)\n",
    "    return tf.where(x % 2 == 0, x // 2, 3*x+1)\n",
    "\n",
    "print(next_collatz(tf.constant([1,2])))\n",
    "\n",
    "with assert_raises(ValueError):\n",
    "    next_collatz(tf.constant([[1,2], [3,4]]))"
   ]
  },
  {
   "cell_type": "markdown",
   "metadata": {},
   "source": [
    "# 파이썬 매개변수 vs 텐서 매개변수\n",
    "\n",
    "* 매개변수에 파이선이 사용되고, 그 변수값이 바뀌면 함수가 그래프가 다시 트래이싱된다. \n",
    "* 동일한 동작을 하는 노드들이 불필요하게 add되기 때문에 매우 비효율적이다. \n",
    "* 이것이 싫으면 Tensor로 매개변수를 사용하면 한번만 트래이싱된다."
   ]
  },
  {
   "cell_type": "code",
   "execution_count": 7,
   "metadata": {},
   "outputs": [
    {
     "name": "stdout",
     "output_type": "stream",
     "text": [
      "Tracing num_steps = 10\n",
      "Tracing num_steps = 20\n"
     ]
    }
   ],
   "source": [
    "def train_one_step():\n",
    "    pass\n",
    "\n",
    "@tf.function\n",
    "def train(num_steps):\n",
    "    print('Tracing num_steps = {}'.format(num_steps))\n",
    "    for _ in tf.range(num_steps):\n",
    "        train_one_step()\n",
    "        \n",
    "train(num_steps=10)\n",
    "train(num_steps=20)"
   ]
  },
  {
   "cell_type": "code",
   "execution_count": 8,
   "metadata": {},
   "outputs": [
    {
     "name": "stdout",
     "output_type": "stream",
     "text": [
      "Tracing num_steps = Tensor(\"num_steps:0\", shape=(), dtype=int32)\n"
     ]
    }
   ],
   "source": [
    "train(num_steps=tf.constant(10))\n",
    "train(num_steps=tf.constant(20))"
   ]
  },
  {
   "cell_type": "code",
   "execution_count": 13,
   "metadata": {},
   "outputs": [
    {
     "name": "stdout",
     "output_type": "stream",
     "text": [
      "트레이싱 1\n",
      "실행 1\n",
      "실행 1\n",
      "트레이싱 2\n",
      "실행 2\n"
     ]
    }
   ],
   "source": [
    "@tf.function\n",
    "def f(x):\n",
    "    print(\"트레이싱\", x)\n",
    "    tf.print(\"실행\", x)\n",
    "    \n",
    "f(1)\n",
    "f(1)\n",
    "f(2)"
   ]
  },
  {
   "cell_type": "code",
   "execution_count": 16,
   "metadata": {},
   "outputs": [
    {
     "name": "stdout",
     "output_type": "stream",
     "text": [
      "Python side effect\n",
      "Python side effect\n",
      "Python side effect\n"
     ]
    }
   ],
   "source": [
    "def side_effect(x):\n",
    "    print(\"Python side effect\")\n",
    "    pass\n",
    "\n",
    "@tf.function\n",
    "def f(x):\n",
    "    tf.py_function(side_effect, inp=[x], Tout=[])\n",
    "    \n",
    "    \n",
    "f(1)\n",
    "f(1)\n",
    "f(1)"
   ]
  },
  {
   "cell_type": "markdown",
   "metadata": {},
   "source": [
    "# 파이썬 상태 주의하기\n",
    "\n",
    "* 상태를 갖는 iterator 사용은 side-effect 이므로 트래이싱시에 단 한번만 사용되서 freeze된다. \n",
    "* 즉 next의 효과를 전혀 거둘 수 없다"
   ]
  },
  {
   "cell_type": "code",
   "execution_count": 19,
   "metadata": {},
   "outputs": [
    {
     "name": "stdout",
     "output_type": "stream",
     "text": [
      "external iterator value:  0\n",
      "external iterator value:  0\n",
      "external iterator value:  0\n"
     ]
    }
   ],
   "source": [
    "@tf.function\n",
    "def buggy_consume_next(iterator):\n",
    "    a = next(iterator)\n",
    "    tf.print(\"external iterator value: \", a)\n",
    "    \n",
    "iterator = iter([0, 1, 2, 3])\n",
    "buggy_consume_next(iterator)\n",
    "buggy_consume_next(iterator)\n",
    "buggy_consume_next(iterator)"
   ]
  },
  {
   "cell_type": "markdown",
   "metadata": {},
   "source": [
    "# 함수 호출시마다 변수 생성 사용의 경우\n",
    "\n",
    "* eager mode에서는 새로운 변수가 재생성\n",
    "* tf.function에서는 단 한번만 생성되서 사용 => 반복 call때 buggy code가 우려되서 ValueError 발생"
   ]
  },
  {
   "cell_type": "code",
   "execution_count": 23,
   "metadata": {},
   "outputs": [
    {
     "name": "stdout",
     "output_type": "stream",
     "text": [
      "기대하는 예외 발생 \n",
      "  <class 'ValueError'>:\n"
     ]
    },
    {
     "name": "stderr",
     "output_type": "stream",
     "text": [
      "Traceback (most recent call last):\n",
      "  File \"<ipython-input-2-36eb58ea7fc5>\", line 7, in assert_raises\n",
      "    yield\n",
      "  File \"<ipython-input-23-99dd4d61e1aa>\", line 7, in <module>\n",
      "    f(1)\n",
      "ValueError: in user code:\n",
      "\n",
      "    <ipython-input-20-7ba303a92b55>:3 f  *\n",
      "        v = tf.Variable(1.0)\n",
      "    /home/hoondori/anaconda3/envs/ai/lib/python3.6/site-packages/tensorflow/python/ops/variables.py:262 __call__  **\n",
      "        return cls._variable_v2_call(*args, **kwargs)\n",
      "    /home/hoondori/anaconda3/envs/ai/lib/python3.6/site-packages/tensorflow/python/ops/variables.py:256 _variable_v2_call\n",
      "        shape=shape)\n",
      "    /home/hoondori/anaconda3/envs/ai/lib/python3.6/site-packages/tensorflow/python/ops/variables.py:67 getter\n",
      "        return captured_getter(captured_previous, **kwargs)\n",
      "    /home/hoondori/anaconda3/envs/ai/lib/python3.6/site-packages/tensorflow/python/eager/def_function.py:702 invalid_creator_scope\n",
      "        \"tf.function-decorated function tried to create \"\n",
      "\n",
      "    ValueError: tf.function-decorated function tried to create variables on non-first call.\n",
      "\n"
     ]
    }
   ],
   "source": [
    "@tf.function\n",
    "def f(x):\n",
    "    v = tf.Variable(1.0)\n",
    "    v.assign_add(x)\n",
    "    return v\n",
    "with assert_raises(ValueError):\n",
    "    f(1)"
   ]
  },
  {
   "cell_type": "markdown",
   "metadata": {},
   "source": [
    "# 오토그래프 변환"
   ]
  },
  {
   "cell_type": "code",
   "execution_count": 24,
   "metadata": {},
   "outputs": [
    {
     "name": "stdout",
     "output_type": "stream",
     "text": [
      "[0.902372241 0.00800454617 0.318633199 0.170491219 0.280462742]\n",
      "[0.717451036 0.0080043748 0.308270544 0.16885829 0.273333311]\n",
      "[0.615327954 0.00800420344 0.298862934 0.167271465 0.266723722]\n",
      "[0.547866702 0.00800403208 0.290271699 0.165728644 0.260573596]\n",
      "[0.498919666 0.00800386071 0.282384843 0.164227813 0.25483194]\n",
      "[0.461267084 0.00800368935 0.275110871 0.162767112 0.249455348]\n",
      "[0.431116372 0.00800351799 0.268374056 0.161344782 0.244406611]\n",
      "[0.406253844 0.00800334662 0.262111247 0.159959152 0.239653617]\n",
      "[0.385287195 0.00800317526 0.256269157 0.158608675 0.235168532]\n",
      "[0.367290258 0.0080030039 0.250802636 0.157291889 0.230927065]\n"
     ]
    },
    {
     "data": {
      "text/plain": [
       "<tf.Tensor: shape=(5,), dtype=float32, numpy=\n",
       "array([0.35161924, 0.00800283, 0.24567299, 0.1560074 , 0.22690786],\n",
       "      dtype=float32)>"
      ]
     },
     "execution_count": 24,
     "metadata": {},
     "output_type": "execute_result"
    }
   ],
   "source": [
    "# 간단한 루프\n",
    "\n",
    "@tf.function\n",
    "def f(x):\n",
    "    while tf.reduce_sum(x) > 1:\n",
    "        tf.print(x)\n",
    "        x = tf.tanh(x)\n",
    "    return x\n",
    "\n",
    "f(tf.random.uniform([5]))"
   ]
  },
  {
   "cell_type": "code",
   "execution_count": 25,
   "metadata": {
    "scrolled": true
   },
   "outputs": [
    {
     "name": "stdout",
     "output_type": "stream",
     "text": [
      "def tf__f(x):\n",
      "    with ag__.FunctionScope('f', 'fscope', ag__.ConversionOptions(recursive=True, user_requested=True, optional_features=(), internal_convert_user_code=True)) as fscope:\n",
      "        do_return = False\n",
      "        retval_ = ag__.UndefinedReturnValue()\n",
      "\n",
      "        def get_state():\n",
      "            return (x,)\n",
      "\n",
      "        def set_state(vars_):\n",
      "            nonlocal x\n",
      "            (x,) = vars_\n",
      "\n",
      "        def loop_body():\n",
      "            nonlocal x\n",
      "            ag__.converted_call(ag__.ld(tf).print, (ag__.ld(x),), None, fscope)\n",
      "            x = ag__.converted_call(ag__.ld(tf).tanh, (ag__.ld(x),), None, fscope)\n",
      "\n",
      "        def loop_test():\n",
      "            return (ag__.converted_call(ag__.ld(tf).reduce_sum, (ag__.ld(x),), None, fscope) > 1)\n",
      "        ag__.while_stmt(loop_test, loop_body, get_state, set_state, ('x',), {})\n",
      "        try:\n",
      "            do_return = True\n",
      "            retval_ = ag__.ld(x)\n",
      "        except:\n",
      "            do_return = False\n",
      "            raise\n",
      "        return fscope.ret(retval_, do_return)\n",
      "\n"
     ]
    }
   ],
   "source": [
    "print(tf.autograph.to_code(f.python_function))"
   ]
  },
  {
   "cell_type": "code",
   "execution_count": 27,
   "metadata": {},
   "outputs": [
    {
     "name": "stdout",
     "output_type": "stream",
     "text": [
      "루프 트레이싱\n",
      "fizzbuzz 브랜치 트레이싱\n",
      "fizz 브랜치 트레이싱\n",
      "buzz 브랜치 트레이싱\n",
      "디폴트 브랜치 트레이싱\n",
      "1\n"
     ]
    }
   ],
   "source": [
    "@tf.function\n",
    "def fizzbuzz(n):\n",
    "    for i in tf.range(1, n + 1):\n",
    "        print('루프 트레이싱')\n",
    "        if i % 15 == 0:\n",
    "            print('fizzbuzz 브랜치 트레이싱')\n",
    "            tf.print('fizzbuzz')\n",
    "        elif i % 3 == 0:\n",
    "            print('fizz 브랜치 트레이싱')\n",
    "            tf.print('fizz')\n",
    "        elif i % 5 == 0:\n",
    "            print('buzz 브랜치 트레이싱')\n",
    "            tf.print('buzz')\n",
    "        else:\n",
    "            print('디폴트 브랜치 트레이싱')\n",
    "            tf.print(i)\n",
    "\n",
    "fizzbuzz(tf.constant(1))\n",
    "#fizzbuzz(tf.constant(20))"
   ]
  },
  {
   "cell_type": "markdown",
   "metadata": {},
   "source": [
    "# 반복문\n",
    "\n",
    "* 텐서플로우 반복문 ops는 단 한번만 tf.Graph에 포함되는 반면에\n",
    "* 순수 파이선 반복문인 경우 (다른 python data로 tf.function을 호출하게 되면) 여러번 tf.Graph에 포함되는 엄청난 부작용이 생긴다. "
   ]
  },
  {
   "cell_type": "code",
   "execution_count": 30,
   "metadata": {},
   "outputs": [
    {
     "name": "stdout",
     "output_type": "stream",
     "text": [
      "train([(1, 1)])는 그래프에 5개의 노드를 포함합니다\n",
      "train([(1, 1), (1, 1)])는 그래프에 8개의 노드를 포함합니다\n",
      "train(<FlatMapDataset shapes: (<unknown>, <unknown>), types: (tf.int32, tf.int32)>)는 그래프에 8개의 노드를 포함합니다\n",
      "train(<FlatMapDataset shapes: (<unknown>, <unknown>), types: (tf.int32, tf.int32)>)는 그래프에 8개의 노드를 포함합니다\n"
     ]
    }
   ],
   "source": [
    "def measure_graph_size(f, *args):\n",
    "    g = f.get_concrete_function(*args).graph\n",
    "    print('{}({})는 그래프에 {}개의 노드를 포함합니다'.format(\n",
    "        f.__name__, ', '.join(map(str, args)), len(g.as_graph_def().node)))\n",
    "    \n",
    "@tf.function\n",
    "def train(dataset):\n",
    "    loss = tf.constant(0)\n",
    "    for x, y in dataset:\n",
    "        loss += tf.abs(y - x) # 의미없는 연산\n",
    "    return loss    \n",
    "\n",
    "small_data = [(1, 1)] * 1\n",
    "big_data = [(1, 1)] * 2\n",
    "measure_graph_size(train, small_data)\n",
    "measure_graph_size(train, big_data)\n",
    "\n",
    "measure_graph_size(train, tf.data.Dataset.from_generator(\n",
    "    lambda: small_data, (tf.int32, tf.int32)))\n",
    "measure_graph_size(train, tf.data.Dataset.from_generator(\n",
    "    lambda: big_data, (tf.int32, tf.int32)))"
   ]
  },
  {
   "cell_type": "code",
   "execution_count": null,
   "metadata": {},
   "outputs": [],
   "source": []
  }
 ],
 "metadata": {
  "kernelspec": {
   "display_name": "Python (ai)",
   "language": "python",
   "name": "ai"
  },
  "language_info": {
   "codemirror_mode": {
    "name": "ipython",
    "version": 3
   },
   "file_extension": ".py",
   "mimetype": "text/x-python",
   "name": "python",
   "nbconvert_exporter": "python",
   "pygments_lexer": "ipython3",
   "version": "3.6.12"
  },
  "toc": {
   "base_numbering": 1,
   "nav_menu": {},
   "number_sections": true,
   "sideBar": true,
   "skip_h1_title": false,
   "title_cell": "Table of Contents",
   "title_sidebar": "Contents",
   "toc_cell": false,
   "toc_position": {},
   "toc_section_display": true,
   "toc_window_display": false
  }
 },
 "nbformat": 4,
 "nbformat_minor": 4
}
