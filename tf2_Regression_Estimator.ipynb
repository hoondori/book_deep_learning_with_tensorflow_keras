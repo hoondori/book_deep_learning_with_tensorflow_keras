{
 "cells": [
  {
   "cell_type": "code",
   "execution_count": 2,
   "metadata": {},
   "outputs": [
    {
     "name": "stdout",
     "output_type": "stream",
     "text": [
      "The tensorboard extension is already loaded. To reload it, use:\n",
      "  %reload_ext tensorboard\n"
     ]
    }
   ],
   "source": [
    "import os\n",
    "import sys\n",
    "import tensorflow as tf\n",
    "import numpy as np\n",
    "import pandas as pd\n",
    "import matplotlib.pyplot as plt\n",
    "from IPython.display import clear_output\n",
    "from six.moves import urllib\n",
    "from tensorflow import feature_column as fc\n",
    "plt.rcParams[\"font.family\"] = 'NanumBarunGothic'\n",
    "TENSORBOARD_BINARY = '/home/hoondori/anaconda3/envs/ai/bin/tensorboard'\n",
    "os.environ['TENSORBOARD_BINARY'] =  TENSORBOARD_BINARY\n",
    "%load_ext tensorboard\n",
    "\n",
    "gpus = tf.config.experimental.list_physical_devices('GPU')\n",
    "if gpus:\n",
    "    # 텐서플로가 첫 번째 GPU만 사용하도록 제한\n",
    "    # 프로그램 시작시에 메모리 증가가 설정되어야만 합니다\n",
    "    try:\n",
    "        tf.config.experimental.set_visible_devices(gpus[0], 'GPU')\n",
    "        tf.config.experimental.set_memory_growth(gpus[0], True)\n",
    "    except RuntimeError as e:\n",
    "        # 프로그램 시작시에 접근 가능한 장치가 설정되어야만 합니다\n",
    "        print(e)\n"
   ]
  },
  {
   "cell_type": "markdown",
   "metadata": {},
   "source": [
    "# 회귀"
   ]
  },
  {
   "cell_type": "markdown",
   "metadata": {},
   "source": [
    "## Estimator 기반 타이타닉 문제\n",
    "\n",
    "* https://www.tensorflow.org/tutorials/estimator/linear?hl=ko"
   ]
  },
  {
   "cell_type": "markdown",
   "metadata": {},
   "source": [
    "### 타이타닉 데이터셋 확보"
   ]
  },
  {
   "cell_type": "code",
   "execution_count": 3,
   "metadata": {},
   "outputs": [],
   "source": [
    "dftrain = pd.read_csv('https://storage.googleapis.com/tf-datasets/titanic/train.csv')\n",
    "dfeval = pd.read_csv('https://storage.googleapis.com/tf-datasets/titanic/eval.csv')\n",
    "y_train = dftrain.pop('survived')\n",
    "y_eval = dfeval.pop('survived')"
   ]
  },
  {
   "cell_type": "code",
   "execution_count": 4,
   "metadata": {},
   "outputs": [
    {
     "data": {
      "text/plain": [
       "((627, 9), 264)"
      ]
     },
     "execution_count": 4,
     "metadata": {},
     "output_type": "execute_result"
    }
   ],
   "source": [
    "dftrain.shape, dfeval.shape[0]"
   ]
  },
  {
   "cell_type": "code",
   "execution_count": 5,
   "metadata": {},
   "outputs": [
    {
     "data": {
      "text/html": [
       "<div>\n",
       "<style scoped>\n",
       "    .dataframe tbody tr th:only-of-type {\n",
       "        vertical-align: middle;\n",
       "    }\n",
       "\n",
       "    .dataframe tbody tr th {\n",
       "        vertical-align: top;\n",
       "    }\n",
       "\n",
       "    .dataframe thead th {\n",
       "        text-align: right;\n",
       "    }\n",
       "</style>\n",
       "<table border=\"1\" class=\"dataframe\">\n",
       "  <thead>\n",
       "    <tr style=\"text-align: right;\">\n",
       "      <th></th>\n",
       "      <th>age</th>\n",
       "      <th>n_siblings_spouses</th>\n",
       "      <th>parch</th>\n",
       "      <th>fare</th>\n",
       "    </tr>\n",
       "  </thead>\n",
       "  <tbody>\n",
       "    <tr>\n",
       "      <th>count</th>\n",
       "      <td>627.000000</td>\n",
       "      <td>627.000000</td>\n",
       "      <td>627.000000</td>\n",
       "      <td>627.000000</td>\n",
       "    </tr>\n",
       "    <tr>\n",
       "      <th>mean</th>\n",
       "      <td>29.631308</td>\n",
       "      <td>0.545455</td>\n",
       "      <td>0.379585</td>\n",
       "      <td>34.385399</td>\n",
       "    </tr>\n",
       "    <tr>\n",
       "      <th>std</th>\n",
       "      <td>12.511818</td>\n",
       "      <td>1.151090</td>\n",
       "      <td>0.792999</td>\n",
       "      <td>54.597730</td>\n",
       "    </tr>\n",
       "    <tr>\n",
       "      <th>min</th>\n",
       "      <td>0.750000</td>\n",
       "      <td>0.000000</td>\n",
       "      <td>0.000000</td>\n",
       "      <td>0.000000</td>\n",
       "    </tr>\n",
       "    <tr>\n",
       "      <th>25%</th>\n",
       "      <td>23.000000</td>\n",
       "      <td>0.000000</td>\n",
       "      <td>0.000000</td>\n",
       "      <td>7.895800</td>\n",
       "    </tr>\n",
       "    <tr>\n",
       "      <th>50%</th>\n",
       "      <td>28.000000</td>\n",
       "      <td>0.000000</td>\n",
       "      <td>0.000000</td>\n",
       "      <td>15.045800</td>\n",
       "    </tr>\n",
       "    <tr>\n",
       "      <th>75%</th>\n",
       "      <td>35.000000</td>\n",
       "      <td>1.000000</td>\n",
       "      <td>0.000000</td>\n",
       "      <td>31.387500</td>\n",
       "    </tr>\n",
       "    <tr>\n",
       "      <th>max</th>\n",
       "      <td>80.000000</td>\n",
       "      <td>8.000000</td>\n",
       "      <td>5.000000</td>\n",
       "      <td>512.329200</td>\n",
       "    </tr>\n",
       "  </tbody>\n",
       "</table>\n",
       "</div>"
      ],
      "text/plain": [
       "              age  n_siblings_spouses       parch        fare\n",
       "count  627.000000          627.000000  627.000000  627.000000\n",
       "mean    29.631308            0.545455    0.379585   34.385399\n",
       "std     12.511818            1.151090    0.792999   54.597730\n",
       "min      0.750000            0.000000    0.000000    0.000000\n",
       "25%     23.000000            0.000000    0.000000    7.895800\n",
       "50%     28.000000            0.000000    0.000000   15.045800\n",
       "75%     35.000000            1.000000    0.000000   31.387500\n",
       "max     80.000000            8.000000    5.000000  512.329200"
      ]
     },
     "execution_count": 5,
     "metadata": {},
     "output_type": "execute_result"
    }
   ],
   "source": [
    "dftrain.describe()"
   ]
  },
  {
   "cell_type": "code",
   "execution_count": 6,
   "metadata": {},
   "outputs": [
    {
     "data": {
      "text/html": [
       "<div>\n",
       "<style scoped>\n",
       "    .dataframe tbody tr th:only-of-type {\n",
       "        vertical-align: middle;\n",
       "    }\n",
       "\n",
       "    .dataframe tbody tr th {\n",
       "        vertical-align: top;\n",
       "    }\n",
       "\n",
       "    .dataframe thead th {\n",
       "        text-align: right;\n",
       "    }\n",
       "</style>\n",
       "<table border=\"1\" class=\"dataframe\">\n",
       "  <thead>\n",
       "    <tr style=\"text-align: right;\">\n",
       "      <th></th>\n",
       "      <th>sex</th>\n",
       "      <th>age</th>\n",
       "      <th>n_siblings_spouses</th>\n",
       "      <th>parch</th>\n",
       "      <th>fare</th>\n",
       "      <th>class</th>\n",
       "      <th>deck</th>\n",
       "      <th>embark_town</th>\n",
       "      <th>alone</th>\n",
       "    </tr>\n",
       "  </thead>\n",
       "  <tbody>\n",
       "    <tr>\n",
       "      <th>0</th>\n",
       "      <td>male</td>\n",
       "      <td>22.0</td>\n",
       "      <td>1</td>\n",
       "      <td>0</td>\n",
       "      <td>7.2500</td>\n",
       "      <td>Third</td>\n",
       "      <td>unknown</td>\n",
       "      <td>Southampton</td>\n",
       "      <td>n</td>\n",
       "    </tr>\n",
       "    <tr>\n",
       "      <th>1</th>\n",
       "      <td>female</td>\n",
       "      <td>38.0</td>\n",
       "      <td>1</td>\n",
       "      <td>0</td>\n",
       "      <td>71.2833</td>\n",
       "      <td>First</td>\n",
       "      <td>C</td>\n",
       "      <td>Cherbourg</td>\n",
       "      <td>n</td>\n",
       "    </tr>\n",
       "    <tr>\n",
       "      <th>2</th>\n",
       "      <td>female</td>\n",
       "      <td>26.0</td>\n",
       "      <td>0</td>\n",
       "      <td>0</td>\n",
       "      <td>7.9250</td>\n",
       "      <td>Third</td>\n",
       "      <td>unknown</td>\n",
       "      <td>Southampton</td>\n",
       "      <td>y</td>\n",
       "    </tr>\n",
       "    <tr>\n",
       "      <th>3</th>\n",
       "      <td>female</td>\n",
       "      <td>35.0</td>\n",
       "      <td>1</td>\n",
       "      <td>0</td>\n",
       "      <td>53.1000</td>\n",
       "      <td>First</td>\n",
       "      <td>C</td>\n",
       "      <td>Southampton</td>\n",
       "      <td>n</td>\n",
       "    </tr>\n",
       "    <tr>\n",
       "      <th>4</th>\n",
       "      <td>male</td>\n",
       "      <td>28.0</td>\n",
       "      <td>0</td>\n",
       "      <td>0</td>\n",
       "      <td>8.4583</td>\n",
       "      <td>Third</td>\n",
       "      <td>unknown</td>\n",
       "      <td>Queenstown</td>\n",
       "      <td>y</td>\n",
       "    </tr>\n",
       "  </tbody>\n",
       "</table>\n",
       "</div>"
      ],
      "text/plain": [
       "      sex   age  n_siblings_spouses  parch     fare  class     deck  \\\n",
       "0    male  22.0                   1      0   7.2500  Third  unknown   \n",
       "1  female  38.0                   1      0  71.2833  First        C   \n",
       "2  female  26.0                   0      0   7.9250  Third  unknown   \n",
       "3  female  35.0                   1      0  53.1000  First        C   \n",
       "4    male  28.0                   0      0   8.4583  Third  unknown   \n",
       "\n",
       "   embark_town alone  \n",
       "0  Southampton     n  \n",
       "1    Cherbourg     n  \n",
       "2  Southampton     y  \n",
       "3  Southampton     n  \n",
       "4   Queenstown     y  "
      ]
     },
     "execution_count": 6,
     "metadata": {},
     "output_type": "execute_result"
    }
   ],
   "source": [
    "dftrain.head()"
   ]
  },
  {
   "cell_type": "markdown",
   "metadata": {},
   "source": [
    "### Feature engineering"
   ]
  },
  {
   "cell_type": "code",
   "execution_count": 7,
   "metadata": {},
   "outputs": [],
   "source": [
    "CAT_COLS = ['sex', 'n_siblings_spouses', 'parch', 'class', 'deck', 'embark_town', 'alone']\n",
    "NUM_COLS = ['age', 'fare']\n",
    "\n",
    "feature_columns = []\n",
    "for feature_name in CAT_COLS:\n",
    "    voca = dftrain[feature_name].unique()\n",
    "    feature_columns.append(fc.categorical_column_with_vocabulary_list(feature_name, voca))\n",
    "    \n",
    "for feature_name in NUM_COLS:\n",
    "    feature_columns.append(fc.numeric_column(feature_name, dtype=tf.float32))\n",
    "#feature_columns "
   ]
  },
  {
   "cell_type": "markdown",
   "metadata": {},
   "source": [
    "### Input_fn 정의"
   ]
  },
  {
   "cell_type": "code",
   "execution_count": 8,
   "metadata": {},
   "outputs": [],
   "source": [
    "def make_input_fn(data_df, label_df, shuffle=True, epochs=10, batch_size=32):\n",
    "\n",
    "    def input_fn():\n",
    "        #  \n",
    "        ds = tf.data.Dataset.from_tensor_slices((dict(data_df), label_df))\n",
    "        if( shuffle):\n",
    "            ds = ds.shuffle(1000)\n",
    "        ds = ds.batch(batch_size).repeat(epochs)\n",
    "        return ds\n",
    "    \n",
    "    return input_fn\n",
    "\n",
    "train_input_fn = make_input_fn(dftrain, y_train)\n",
    "eval_input_fn = make_input_fn(dfeval, y_eval, shuffle=False, epochs=1)"
   ]
  },
  {
   "cell_type": "code",
   "execution_count": 9,
   "metadata": {},
   "outputs": [
    {
     "name": "stdout",
     "output_type": "stream",
     "text": [
      "['sex', 'age', 'n_siblings_spouses', 'parch', 'fare', 'class', 'deck', 'embark_town', 'alone']\n",
      "[b'Third' b'Second' b'First' b'Second' b'Second']\n",
      "[0 0 0 1 0]\n"
     ]
    }
   ],
   "source": [
    "ds = make_input_fn(dftrain, y_train, batch_size=5)()\n",
    "for f, l in ds.take(1):\n",
    "    print(list(f.keys()))\n",
    "    print(f['class'].numpy())\n",
    "    print(l.numpy())"
   ]
  },
  {
   "cell_type": "markdown",
   "metadata": {},
   "source": [
    "### 훈련"
   ]
  },
  {
   "cell_type": "code",
   "execution_count": 10,
   "metadata": {
    "scrolled": true
   },
   "outputs": [
    {
     "name": "stdout",
     "output_type": "stream",
     "text": [
      "{'accuracy': 0.7348485, 'accuracy_baseline': 0.625, 'auc': 0.8343128, 'auc_precision_recall': 0.79315144, 'average_loss': 0.48207965, 'label/mean': 0.375, 'loss': 0.47611183, 'precision': 0.6407767, 'prediction/mean': 0.41162443, 'recall': 0.6666667, 'global_step': 200}\n"
     ]
    }
   ],
   "source": [
    "linear_classifier = tf.estimator.LinearClassifier(feature_columns=feature_columns)\n",
    "linear_classifier.train(train_input_fn)\n",
    "eval_result = linear_classifier.evaluate(eval_input_fn)\n",
    "# linear_classifier.get_variable_names()\n",
    "\n",
    "clear_output()\n",
    "print(eval_result)"
   ]
  },
  {
   "cell_type": "markdown",
   "metadata": {},
   "source": [
    "### 평가"
   ]
  },
  {
   "cell_type": "code",
   "execution_count": 13,
   "metadata": {
    "scrolled": true
   },
   "outputs": [
    {
     "data": {
      "text/plain": [
       "<AxesSubplot:title={'center':'예측 확률'}, ylabel='Frequency'>"
      ]
     },
     "execution_count": 13,
     "metadata": {},
     "output_type": "execute_result"
    },
    {
     "data": {
      "image/png": "[encoded data removed]",
      "text/plain": [
       "<Figure size 432x288 with 1 Axes>"
      ]
     },
     "metadata": {
      "needs_background": "light"
     },
     "output_type": "display_data"
    }
   ],
   "source": [
    "pred_dicts = list(linear_classifier.predict(eval_input_fn))\n",
    "probs = pd.Series([pred['probabilities'][1] for pred in pred_dicts])\n",
    "\n",
    "clear_output()\n",
    "probs.plot(kind='hist', bins=20, title='예측 확률')"
   ]
  },
  {
   "cell_type": "code",
   "execution_count": 16,
   "metadata": {},
   "outputs": [
    {
     "data": {
      "text/plain": [
       "(0.0, 1.05)"
      ]
     },
     "execution_count": 16,
     "metadata": {},
     "output_type": "execute_result"
    },
    {
     "data": {
      "image/png": "[encoded data removed]",
      "text/plain": [
       "<Figure size 432x288 with 1 Axes>"
      ]
     },
     "metadata": {
      "needs_background": "light"
     },
     "output_type": "display_data"
    }
   ],
   "source": [
    "from sklearn.metrics import roc_curve\n",
    "from matplotlib import pyplot as plt\n",
    "\n",
    "fpr, tpr, _ = roc_curve(y_eval, probs)\n",
    "plt.plot(fpr, tpr)\n",
    "plt.title('ROC curve')\n",
    "plt.xlabel('오탐률(false positive rate)')\n",
    "plt.ylabel('정탐률(true positive rate)')\n",
    "plt.xlim(0,)\n",
    "plt.ylim(0,)"
   ]
  },
  {
   "cell_type": "markdown",
   "metadata": {},
   "source": [
    "## Estimator 기반 MNIST 예측기"
   ]
  },
  {
   "cell_type": "code",
   "execution_count": 5,
   "metadata": {
    "code_folding": [
     0
    ]
   },
   "outputs": [
    {
     "name": "stdout",
     "output_type": "stream",
     "text": [
      "INFO:tensorflow:Calling model_fn.\n",
      "INFO:tensorflow:Done calling model_fn.\n",
      "INFO:tensorflow:Starting evaluation at 2021-02-03T14:54:16Z\n",
      "INFO:tensorflow:Graph was finalized.\n",
      "INFO:tensorflow:Restoring parameters from /tmp/logs/mnist/model.ckpt-10000\n",
      "INFO:tensorflow:Running local_init_op.\n",
      "INFO:tensorflow:Done running local_init_op.\n",
      "INFO:tensorflow:Inference Time : 0.12964s\n",
      "INFO:tensorflow:Finished evaluation at 2021-02-03-14:54:17\n",
      "INFO:tensorflow:Saving dict for global step 10000: accuracy = 0.9248, average_loss = 0.26681885, global_step = 10000, loss = 0.2653051\n",
      "INFO:tensorflow:Saving 'checkpoint_path' summary for global step 10000: /tmp/logs/mnist/model.ckpt-10000\n"
     ]
    }
   ],
   "source": [
    "def estimate_mnist(log_dir):\n",
    "    \n",
    "    # load data\n",
    "    ((train_data, train_labels),(eval_data, eval_labels)) = tf.keras.datasets.mnist.load_data()    \n",
    "    train_data = train_data/np.float32(255)\n",
    "    train_labels = train_labels.astype(np.int32)  \n",
    "    eval_data = eval_data/np.float32(255)\n",
    "    eval_labels = eval_labels.astype(np.int32)    \n",
    "\n",
    "    # estimator 정의\n",
    "    classifier = tf.estimator.LinearClassifier(\n",
    "        feature_columns=[tf.feature_column.numeric_column(\"x\", shape=[28, 28])],\n",
    "        n_classes=10,\n",
    "        model_dir=log_dir\n",
    "    )\n",
    "    \n",
    "    # input fn\n",
    "    train_input_fn =  tf.compat.v1.estimator.inputs.numpy_input_fn(\n",
    "        x={\"x\": train_data},\n",
    "        y=train_labels,\n",
    "        batch_size=100,\n",
    "        num_epochs=None,\n",
    "        shuffle=True)\n",
    "    \n",
    "    val_input_fn =  tf.compat.v1.estimator.inputs.numpy_input_fn(\n",
    "        x={\"x\": eval_data},\n",
    "        y=eval_labels,\n",
    "        num_epochs=1,\n",
    "        shuffle=False)\n",
    "    \n",
    "    # train\n",
    "    classifier.train(input_fn=train_input_fn, steps=10000)\n",
    "    \n",
    "    # eval\n",
    "    clear_output()\n",
    "    eval_results = classifier.evaluate(input_fn=val_input_fn)\n",
    "    #print(eval_results)\n",
    "\n",
    "!rm -rf /tmp/logs/mnist     \n",
    "estimate_mnist('/tmp/logs/mnist')    "
   ]
  },
  {
   "cell_type": "code",
   "execution_count": 6,
   "metadata": {},
   "outputs": [
    {
     "data": {
      "text/plain": [
       "Reusing TensorBoard on port 6010 (pid 51732), started 0:06:21 ago. (Use '!kill 51732' to kill it.)"
      ]
     },
     "metadata": {},
     "output_type": "display_data"
    },
    {
     "data": {
      "text/html": [
       "\n",
       "      <iframe id=\"tensorboard-frame-70bf923988dc2909\" width=\"100%\" height=\"800\" frameborder=\"0\">\n",
       "      </iframe>\n",
       "      <script>\n",
       "        (function() {\n",
       "          const frame = document.getElementById(\"tensorboard-frame-70bf923988dc2909\");\n",
       "          const url = new URL(\"/\", window.location);\n",
       "          url.port = 6010;\n",
       "          frame.src = url;\n",
       "        })();\n",
       "      </script>\n",
       "  "
      ],
      "text/plain": [
       "<IPython.core.display.HTML object>"
      ]
     },
     "metadata": {},
     "output_type": "display_data"
    }
   ],
   "source": [
    "%tensorboard --logdir /tmp/logs/mnist"
   ]
  },
  {
   "cell_type": "markdown",
   "metadata": {},
   "source": [
    "## Estimator 기반 보스턴 집값 Regression"
   ]
  },
  {
   "cell_type": "code",
   "execution_count": 3,
   "metadata": {
    "code_folding": [],
    "scrolled": true
   },
   "outputs": [
    {
     "name": "stdout",
     "output_type": "stream",
     "text": [
      "INFO:tensorflow:Using default config.\n",
      "INFO:tensorflow:Using config: {'_model_dir': '/tmp/logs/boston/', '_tf_random_seed': None, '_save_summary_steps': 100, '_save_checkpoints_steps': None, '_save_checkpoints_secs': 600, '_session_config': allow_soft_placement: true\n",
      "graph_options {\n",
      "  rewrite_options {\n",
      "    meta_optimizer_iterations: ONE\n",
      "  }\n",
      "}\n",
      ", '_keep_checkpoint_max': 5, '_keep_checkpoint_every_n_hours': 10000, '_log_step_count_steps': 100, '_train_distribute': None, '_device_fn': None, '_protocol': None, '_eval_distribute': None, '_experimental_distribute': None, '_experimental_max_worker_delay_secs': None, '_session_creation_timeout_secs': 7200, '_service': None, '_cluster_spec': ClusterSpec({}), '_task_type': 'worker', '_task_id': 0, '_global_id_in_cluster': 0, '_master': '', '_evaluation_master': '', '_is_chief': True, '_num_ps_replicas': 0, '_num_worker_replicas': 1}\n",
      "WARNING:tensorflow:From /home/hoondori/anaconda3/envs/ai/lib/python3.6/site-packages/tensorflow/python/ops/resource_variable_ops.py:1666: calling BaseResourceVariable.__init__ (from tensorflow.python.ops.resource_variable_ops) with constraint is deprecated and will be removed in a future version.\n",
      "Instructions for updating:\n",
      "If using Keras pass *_constraint arguments to layers.\n",
      "WARNING:tensorflow:From /home/hoondori/anaconda3/envs/ai/lib/python3.6/site-packages/tensorflow/python/training/training_util.py:236: Variable.initialized_value (from tensorflow.python.ops.variables) is deprecated and will be removed in a future version.\n",
      "Instructions for updating:\n",
      "Use Variable.read_value. Variables in 2.X are initialized automatically both in eager and graph (inside tf.defun) contexts.\n",
      "INFO:tensorflow:Calling model_fn.\n",
      "WARNING:tensorflow:Layer linear/linear_model is casting an input tensor from dtype float64 to the layer's dtype of float32, which is new behavior in TensorFlow 2.  The layer has dtype float32 because it's dtype defaults to floatx.\n",
      "\n",
      "If you intended to run this layer in float32, you can safely ignore this warning. If in doubt, this warning is likely only an issue if you are porting a TensorFlow 1.X model to TensorFlow 2.\n",
      "\n",
      "To change all layers to have dtype float64 by default, call `tf.keras.backend.set_floatx('float64')`. To change just this layer, pass dtype='float64' to the layer constructor. If you are the author of this layer, you can disable autocasting by passing autocast=False to the base Layer constructor.\n",
      "\n",
      "WARNING:tensorflow:From /home/hoondori/anaconda3/envs/ai/lib/python3.6/site-packages/tensorflow/python/feature_column/feature_column_v2.py:540: Layer.add_variable (from tensorflow.python.keras.engine.base_layer_v1) is deprecated and will be removed in a future version.\n",
      "Instructions for updating:\n",
      "Please use `layer.add_weight` method instead.\n",
      "WARNING:tensorflow:From /home/hoondori/anaconda3/envs/ai/lib/python3.6/site-packages/tensorflow/python/keras/optimizer_v2/ftrl.py:144: calling Constant.__init__ (from tensorflow.python.ops.init_ops) with dtype is deprecated and will be removed in a future version.\n",
      "Instructions for updating:\n",
      "Call initializer instance with the dtype argument instead of passing it to the constructor\n",
      "INFO:tensorflow:Done calling model_fn.\n",
      "INFO:tensorflow:Create CheckpointSaverHook.\n",
      "INFO:tensorflow:Graph was finalized.\n",
      "INFO:tensorflow:Running local_init_op.\n",
      "INFO:tensorflow:Done running local_init_op.\n",
      "INFO:tensorflow:Calling checkpoint listeners before saving checkpoint 0...\n",
      "INFO:tensorflow:Saving checkpoints for 0 into /tmp/logs/boston/model.ckpt.\n",
      "INFO:tensorflow:Calling checkpoint listeners after saving checkpoint 0...\n",
      "INFO:tensorflow:loss = 659.29407, step = 0\n",
      "INFO:tensorflow:global_step/sec: 911.478\n",
      "INFO:tensorflow:loss = 51.08558, step = 100 (0.110 sec)\n",
      "INFO:tensorflow:global_step/sec: 1713.91\n",
      "INFO:tensorflow:loss = 43.603317, step = 200 (0.058 sec)\n",
      "INFO:tensorflow:global_step/sec: 1722.75\n",
      "INFO:tensorflow:loss = 36.051563, step = 300 (0.058 sec)\n",
      "INFO:tensorflow:global_step/sec: 1540.19\n",
      "INFO:tensorflow:loss = 37.46248, step = 400 (0.065 sec)\n",
      "INFO:tensorflow:global_step/sec: 1537.28\n",
      "INFO:tensorflow:loss = 49.43663, step = 500 (0.065 sec)\n",
      "INFO:tensorflow:global_step/sec: 1663.38\n",
      "INFO:tensorflow:loss = 38.67483, step = 600 (0.060 sec)\n",
      "INFO:tensorflow:global_step/sec: 1672.8\n",
      "INFO:tensorflow:loss = 56.652916, step = 700 (0.060 sec)\n",
      "INFO:tensorflow:global_step/sec: 1638.27\n",
      "INFO:tensorflow:loss = 45.9603, step = 800 (0.061 sec)\n",
      "INFO:tensorflow:global_step/sec: 1440.87\n",
      "INFO:tensorflow:loss = 40.584305, step = 900 (0.070 sec)\n",
      "INFO:tensorflow:global_step/sec: 1624.14\n",
      "INFO:tensorflow:loss = 49.805973, step = 1000 (0.061 sec)\n",
      "INFO:tensorflow:global_step/sec: 1684.84\n",
      "INFO:tensorflow:loss = 52.018303, step = 1100 (0.059 sec)\n",
      "INFO:tensorflow:global_step/sec: 1662.12\n",
      "INFO:tensorflow:loss = 26.322649, step = 1200 (0.060 sec)\n",
      "INFO:tensorflow:global_step/sec: 1704.23\n",
      "INFO:tensorflow:loss = 59.252754, step = 1300 (0.059 sec)\n",
      "INFO:tensorflow:global_step/sec: 1714\n",
      "INFO:tensorflow:loss = 35.284912, step = 1400 (0.058 sec)\n",
      "INFO:tensorflow:global_step/sec: 1734.56\n",
      "INFO:tensorflow:loss = 31.122826, step = 1500 (0.058 sec)\n",
      "INFO:tensorflow:global_step/sec: 1696.96\n",
      "INFO:tensorflow:loss = 50.980938, step = 1600 (0.059 sec)\n",
      "INFO:tensorflow:global_step/sec: 1708.79\n",
      "INFO:tensorflow:loss = 18.101112, step = 1700 (0.058 sec)\n",
      "INFO:tensorflow:global_step/sec: 1683.58\n",
      "INFO:tensorflow:loss = 45.138363, step = 1800 (0.060 sec)\n",
      "INFO:tensorflow:global_step/sec: 1677.02\n",
      "INFO:tensorflow:loss = 32.672695, step = 1900 (0.060 sec)\n",
      "INFO:tensorflow:global_step/sec: 1642.11\n",
      "INFO:tensorflow:loss = 58.0587, step = 2000 (0.061 sec)\n",
      "INFO:tensorflow:global_step/sec: 1703.08\n",
      "INFO:tensorflow:loss = 38.969646, step = 2100 (0.059 sec)\n",
      "INFO:tensorflow:global_step/sec: 1709.57\n",
      "INFO:tensorflow:loss = 36.23622, step = 2200 (0.059 sec)\n",
      "INFO:tensorflow:global_step/sec: 1658.91\n",
      "INFO:tensorflow:loss = 36.94439, step = 2300 (0.060 sec)\n",
      "INFO:tensorflow:global_step/sec: 1661.06\n",
      "INFO:tensorflow:loss = 38.36507, step = 2400 (0.060 sec)\n",
      "INFO:tensorflow:global_step/sec: 1662.34\n",
      "INFO:tensorflow:loss = 25.982174, step = 2500 (0.060 sec)\n",
      "INFO:tensorflow:global_step/sec: 1641.81\n",
      "INFO:tensorflow:loss = 33.829033, step = 2600 (0.061 sec)\n",
      "INFO:tensorflow:global_step/sec: 1734.77\n",
      "INFO:tensorflow:loss = 27.44552, step = 2700 (0.058 sec)\n",
      "INFO:tensorflow:global_step/sec: 1703.36\n",
      "INFO:tensorflow:loss = 36.32596, step = 2800 (0.059 sec)\n",
      "INFO:tensorflow:global_step/sec: 1719.14\n",
      "INFO:tensorflow:loss = 28.344206, step = 2900 (0.058 sec)\n",
      "INFO:tensorflow:global_step/sec: 1671.66\n",
      "INFO:tensorflow:loss = 44.158028, step = 3000 (0.060 sec)\n",
      "INFO:tensorflow:global_step/sec: 1641.18\n",
      "INFO:tensorflow:loss = 38.559174, step = 3100 (0.061 sec)\n",
      "INFO:tensorflow:global_step/sec: 1690.86\n",
      "INFO:tensorflow:loss = 25.86821, step = 3200 (0.059 sec)\n",
      "INFO:tensorflow:global_step/sec: 1711.03\n",
      "INFO:tensorflow:loss = 36.31835, step = 3300 (0.058 sec)\n",
      "INFO:tensorflow:global_step/sec: 1673.54\n",
      "INFO:tensorflow:loss = 36.780167, step = 3400 (0.060 sec)\n",
      "INFO:tensorflow:global_step/sec: 1629.55\n",
      "INFO:tensorflow:loss = 27.511837, step = 3500 (0.061 sec)\n",
      "INFO:tensorflow:global_step/sec: 1656.64\n",
      "INFO:tensorflow:loss = 25.880905, step = 3600 (0.060 sec)\n",
      "INFO:tensorflow:global_step/sec: 1624.85\n",
      "INFO:tensorflow:loss = 46.731606, step = 3700 (0.061 sec)\n",
      "INFO:tensorflow:global_step/sec: 1655.43\n",
      "INFO:tensorflow:loss = 30.163538, step = 3800 (0.060 sec)\n",
      "INFO:tensorflow:global_step/sec: 1710.13\n",
      "INFO:tensorflow:loss = 30.345682, step = 3900 (0.058 sec)\n",
      "INFO:tensorflow:global_step/sec: 1719.05\n",
      "INFO:tensorflow:loss = 23.07849, step = 4000 (0.058 sec)\n",
      "INFO:tensorflow:global_step/sec: 1693.42\n",
      "INFO:tensorflow:loss = 32.590412, step = 4100 (0.059 sec)\n",
      "INFO:tensorflow:global_step/sec: 1646.44\n",
      "INFO:tensorflow:loss = 35.35643, step = 4200 (0.060 sec)\n",
      "INFO:tensorflow:global_step/sec: 1633.25\n",
      "INFO:tensorflow:loss = 23.770863, step = 4300 (0.062 sec)\n",
      "INFO:tensorflow:global_step/sec: 1672.02\n",
      "INFO:tensorflow:loss = 38.104485, step = 4400 (0.059 sec)\n",
      "INFO:tensorflow:global_step/sec: 1654.66\n",
      "INFO:tensorflow:loss = 47.6787, step = 4500 (0.060 sec)\n",
      "INFO:tensorflow:global_step/sec: 1634.19\n",
      "INFO:tensorflow:loss = 33.427975, step = 4600 (0.061 sec)\n",
      "INFO:tensorflow:global_step/sec: 1640.32\n",
      "INFO:tensorflow:loss = 37.37902, step = 4700 (0.061 sec)\n"
     ]
    },
    {
     "name": "stdout",
     "output_type": "stream",
     "text": [
      "INFO:tensorflow:global_step/sec: 1667.68\n",
      "INFO:tensorflow:loss = 36.541466, step = 4800 (0.060 sec)\n",
      "INFO:tensorflow:global_step/sec: 1681.16\n",
      "INFO:tensorflow:loss = 27.066614, step = 4900 (0.059 sec)\n",
      "INFO:tensorflow:global_step/sec: 1680.36\n",
      "INFO:tensorflow:loss = 19.657341, step = 5000 (0.059 sec)\n",
      "INFO:tensorflow:global_step/sec: 1742.93\n",
      "INFO:tensorflow:loss = 33.98726, step = 5100 (0.057 sec)\n",
      "INFO:tensorflow:global_step/sec: 1683.98\n",
      "INFO:tensorflow:loss = 34.64281, step = 5200 (0.059 sec)\n",
      "INFO:tensorflow:global_step/sec: 1696.47\n",
      "INFO:tensorflow:loss = 34.57703, step = 5300 (0.059 sec)\n",
      "INFO:tensorflow:global_step/sec: 1711.49\n",
      "INFO:tensorflow:loss = 27.366943, step = 5400 (0.058 sec)\n",
      "INFO:tensorflow:global_step/sec: 1699.01\n",
      "INFO:tensorflow:loss = 30.712675, step = 5500 (0.059 sec)\n",
      "INFO:tensorflow:global_step/sec: 1718.91\n",
      "INFO:tensorflow:loss = 18.118063, step = 5600 (0.058 sec)\n",
      "INFO:tensorflow:global_step/sec: 1687.43\n",
      "INFO:tensorflow:loss = 18.66182, step = 5700 (0.059 sec)\n",
      "INFO:tensorflow:global_step/sec: 1629.71\n",
      "INFO:tensorflow:loss = 39.79647, step = 5800 (0.061 sec)\n",
      "INFO:tensorflow:global_step/sec: 1647.2\n",
      "INFO:tensorflow:loss = 43.033882, step = 5900 (0.061 sec)\n",
      "INFO:tensorflow:global_step/sec: 1674.26\n",
      "INFO:tensorflow:loss = 31.22699, step = 6000 (0.060 sec)\n",
      "INFO:tensorflow:global_step/sec: 1754.01\n",
      "INFO:tensorflow:loss = 22.122513, step = 6100 (0.057 sec)\n",
      "INFO:tensorflow:global_step/sec: 1727.97\n",
      "INFO:tensorflow:loss = 33.790802, step = 6200 (0.058 sec)\n",
      "INFO:tensorflow:global_step/sec: 1718.87\n",
      "INFO:tensorflow:loss = 27.044788, step = 6300 (0.058 sec)\n",
      "INFO:tensorflow:global_step/sec: 1721.87\n",
      "INFO:tensorflow:loss = 32.046833, step = 6400 (0.058 sec)\n",
      "INFO:tensorflow:global_step/sec: 1679.76\n",
      "INFO:tensorflow:loss = 25.862051, step = 6500 (0.060 sec)\n",
      "INFO:tensorflow:global_step/sec: 1725.12\n",
      "INFO:tensorflow:loss = 19.535961, step = 6600 (0.058 sec)\n",
      "INFO:tensorflow:global_step/sec: 1701.76\n",
      "INFO:tensorflow:loss = 27.89832, step = 6700 (0.059 sec)\n",
      "INFO:tensorflow:global_step/sec: 1699.6\n",
      "INFO:tensorflow:loss = 35.087425, step = 6800 (0.059 sec)\n",
      "INFO:tensorflow:global_step/sec: 1707.81\n",
      "INFO:tensorflow:loss = 40.600006, step = 6900 (0.059 sec)\n",
      "INFO:tensorflow:Calling checkpoint listeners before saving checkpoint 7000...\n",
      "INFO:tensorflow:Saving checkpoints for 7000 into /tmp/logs/boston/model.ckpt.\n",
      "INFO:tensorflow:Calling checkpoint listeners after saving checkpoint 7000...\n",
      "INFO:tensorflow:Loss for final step: 41.560596.\n",
      "INFO:tensorflow:Calling model_fn.\n",
      "WARNING:tensorflow:Layer linear/linear_model is casting an input tensor from dtype float64 to the layer's dtype of float32, which is new behavior in TensorFlow 2.  The layer has dtype float32 because it's dtype defaults to floatx.\n",
      "\n",
      "If you intended to run this layer in float32, you can safely ignore this warning. If in doubt, this warning is likely only an issue if you are porting a TensorFlow 1.X model to TensorFlow 2.\n",
      "\n",
      "To change all layers to have dtype float64 by default, call `tf.keras.backend.set_floatx('float64')`. To change just this layer, pass dtype='float64' to the layer constructor. If you are the author of this layer, you can disable autocasting by passing autocast=False to the base Layer constructor.\n",
      "\n",
      "INFO:tensorflow:Done calling model_fn.\n",
      "INFO:tensorflow:Starting evaluation at 2021-02-03T14:53:44Z\n",
      "INFO:tensorflow:Graph was finalized.\n",
      "INFO:tensorflow:Restoring parameters from /tmp/logs/boston/model.ckpt-7000\n",
      "INFO:tensorflow:Running local_init_op.\n",
      "INFO:tensorflow:Done running local_init_op.\n",
      "INFO:tensorflow:Inference Time : 0.19587s\n",
      "INFO:tensorflow:Finished evaluation at 2021-02-03-14:53:45\n",
      "INFO:tensorflow:Saving dict for global step 7000: average_loss = 31.623785, global_step = 7000, label/mean = 23.078432, loss = 32.851295, prediction/mean = 23.551222\n",
      "INFO:tensorflow:Saving 'checkpoint_path' summary for global step 7000: /tmp/logs/boston/model.ckpt-7000\n",
      "{'average_loss': 31.623785, 'label/mean': 23.078432, 'loss': 32.851295, 'prediction/mean': 23.551222, 'global_step': 7000}\n"
     ]
    }
   ],
   "source": [
    "def estimate_boston_house(log_dir):\n",
    "\n",
    "    def estimator_input_fn(df_data, df_label, epochs=20, shuffle=True, batch_size=64):\n",
    "        def input_function():\n",
    "            ds = tf.data.Dataset.from_tensor_slices((dict(df_data), df_label))\n",
    "            if shuffle:\n",
    "                ds = ds.shuffle(100)\n",
    "            ds = ds.batch(batch_size).repeat(epochs)\n",
    "            return ds\n",
    "        return input_function\n",
    "\n",
    "    # data / input fn 준비\n",
    "    (x_train, y_train), (x_test, y_test) = tf.keras.datasets.boston_housing.load_data()    \n",
    "\n",
    "    features = ['CRIM', 'ZN', 'INDUS','CHAS','NOX','RM','AGE',\n",
    "            'DIS', 'RAD', 'TAX', 'PTRATIO', 'B', 'LSTAT']\n",
    "    x_train_df = pd.DataFrame(x_train, columns= features)\n",
    "    x_test_df = pd.DataFrame(x_test, columns= features)\n",
    "    y_train_df = pd.DataFrame(y_train, columns=['MEDV'])\n",
    "    y_test_df = pd.DataFrame(y_test, columns=['MEDV'])\n",
    "\n",
    "    train_input_fn = estimator_input_fn(x_train_df, y_train_df, epochs=1000)\n",
    "    val_input_fn = estimator_input_fn(x_test_df, y_test_df, epochs=1, shuffle=False)  \n",
    "    \n",
    "    # estimator 준비\n",
    "    feature_columns = []\n",
    "    for feature_name in features:\n",
    "        feature_columns.append(fc.numeric_column(feature_name, dtype=tf.float32))\n",
    "    linear_est = tf.estimator.LinearRegressor(feature_columns=feature_columns, model_dir = log_dir)\n",
    "\n",
    "    # 학습/평가/예측 \n",
    "    linear_est.train(train_input_fn, steps=50000)\n",
    "    result = linear_est.evaluate(val_input_fn)\n",
    "    predict_result = linear_est.predict(val_input_fn)\n",
    "    \n",
    "    print(result)\n",
    "#     for pred,exp in zip(predict_result, y_test[:32]):\n",
    "#         print(\"Predicted Value: \", pred['predictions'][0], \"Expected: \", exp)\n",
    "\n",
    "!rm -rf /tmp/logs/boston \n",
    "estimate_boston_house('/tmp/logs/boston/')"
   ]
  },
  {
   "cell_type": "code",
   "execution_count": 4,
   "metadata": {},
   "outputs": [
    {
     "data": {
      "text/plain": [
       "Reusing TensorBoard on port 6009 (pid 50850), started 0:10:49 ago. (Use '!kill 50850' to kill it.)"
      ]
     },
     "metadata": {},
     "output_type": "display_data"
    },
    {
     "data": {
      "text/html": [
       "\n",
       "      <iframe id=\"tensorboard-frame-c2cf9735e5d2e0bf\" width=\"100%\" height=\"800\" frameborder=\"0\">\n",
       "      </iframe>\n",
       "      <script>\n",
       "        (function() {\n",
       "          const frame = document.getElementById(\"tensorboard-frame-c2cf9735e5d2e0bf\");\n",
       "          const url = new URL(\"/\", window.location);\n",
       "          url.port = 6009;\n",
       "          frame.src = url;\n",
       "        })();\n",
       "      </script>\n",
       "  "
      ],
      "text/plain": [
       "<IPython.core.display.HTML object>"
      ]
     },
     "metadata": {},
     "output_type": "display_data"
    }
   ],
   "source": [
    "%tensorboard --logdir /tmp/logs/boston"
   ]
  },
  {
   "cell_type": "code",
   "execution_count": null,
   "metadata": {},
   "outputs": [],
   "source": []
  }
 ],
 "metadata": {
  "kernelspec": {
   "display_name": "Python (ai)",
   "language": "python",
   "name": "ai"
  },
  "language_info": {
   "codemirror_mode": {
    "name": "ipython",
    "version": 3
   },
   "file_extension": ".py",
   "mimetype": "text/x-python",
   "name": "python",
   "nbconvert_exporter": "python",
   "pygments_lexer": "ipython3",
   "version": "3.6.12"
  },
  "toc": {
   "base_numbering": 1,
   "nav_menu": {},
   "number_sections": true,
   "sideBar": true,
   "skip_h1_title": false,
   "title_cell": "Table of Contents",
   "title_sidebar": "Contents",
   "toc_cell": false,
   "toc_position": {},
   "toc_section_display": true,
   "toc_window_display": true
  }
 },
 "nbformat": 4,
 "nbformat_minor": 4
}
