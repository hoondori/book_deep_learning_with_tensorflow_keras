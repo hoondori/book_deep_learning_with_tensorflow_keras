{
 "cells": [
  {
   "cell_type": "markdown",
   "metadata": {},
   "source": [
    "# TF2, Gensim을 사용해서 임베딩 공간 탐색"
   ]
  },
  {
   "cell_type": "code",
   "execution_count": 1,
   "metadata": {},
   "outputs": [],
   "source": [
    "import os\n",
    "import sys\n",
    "import tensorflow as tf\n",
    "from tensorflow.keras import datasets, layers, models, optimizers\n",
    "import numpy as np\n",
    "import pandas as pd\n",
    "import matplotlib.pyplot as plt\n",
    "from IPython.display import clear_output\n",
    "from six.moves import urllib\n",
    "from tensorflow import feature_column as fc\n",
    "import tensorflow_datasets as tfds\n",
    "plt.rcParams[\"font.family\"] = 'NanumBarunGothic'\n",
    "TENSORBOARD_BINARY = '/home/hoondori/anaconda3/envs/ai/bin/tensorboard'\n",
    "os.environ['TENSORBOARD_BINARY'] =  TENSORBOARD_BINARY\n",
    "%load_ext tensorboard\n",
    "\n",
    "gpus = tf.config.experimental.list_physical_devices('GPU')\n",
    "if gpus:\n",
    "    # 텐서플로가 첫 번째 GPU만 사용하도록 제한\n",
    "    # 프로그램 시작시에 메모리 증가가 설정되어야만 합니다\n",
    "    try:\n",
    "        tf.config.experimental.set_visible_devices(gpus[0], 'GPU')\n",
    "        tf.config.experimental.set_memory_growth(gpus[0], True)\n",
    "    except RuntimeError as e:\n",
    "        # 프로그램 시작시에 접근 가능한 장치가 설정되어야만 합니다\n",
    "        print(e)"
   ]
  },
  {
   "cell_type": "markdown",
   "metadata": {},
   "source": [
    "# Gensim 데이터를 통해서 word2vec 모델 생성 "
   ]
  },
  {
   "cell_type": "code",
   "execution_count": 7,
   "metadata": {},
   "outputs": [],
   "source": [
    "from gensim.models import KeyedVectors\n",
    "import gensim.downloader as api\n",
    "from gensim.models import Word2Vec\n",
    "\n",
    "dataset = api.load(\"text8\")\n",
    "model = Word2Vec(dataset)\n",
    "model.save('text8-word2vec.bin')"
   ]
  },
  {
   "cell_type": "code",
   "execution_count": 8,
   "metadata": {},
   "outputs": [],
   "source": [
    "from gensim.models import KeyedVectors\n",
    "\n",
    "# 다시 읽어들이기\n",
    "model = KeyedVectors.load('text8-word2vec.bin')\n",
    "word_vectors = model.wv"
   ]
  },
  {
   "cell_type": "code",
   "execution_count": 19,
   "metadata": {},
   "outputs": [
    {
     "name": "stdout",
     "output_type": "stream",
     "text": [
      "['anarchism', 'originated', 'as', 'a', 'term', 'of', 'abuse', 'first', 'used', 'against']\n",
      "voca size: 71290\n"
     ]
    }
   ],
   "source": [
    "# voca 확인\n",
    "print( [x for i, x in enumerate(word_vectors.vocab.keys()) if i < 10] )\n",
    "print(f'voca size: {len(word_vectors.vocab.keys())}')"
   ]
  },
  {
   "cell_type": "code",
   "execution_count": 21,
   "metadata": {},
   "outputs": [
    {
     "data": {
      "text/plain": [
       "[('queen', 0.7446538209915161),\n",
       " ('prince', 0.7367112636566162),\n",
       " ('throne', 0.6983506679534912),\n",
       " ('emperor', 0.6961647272109985),\n",
       " ('kings', 0.6851218938827515)]"
      ]
     },
     "execution_count": 21,
     "metadata": {},
     "output_type": "execute_result"
    }
   ],
   "source": [
    "# 특정 단어와 유사한 단어 검색 \n",
    "#  word_vectors.similar_by_word(\"king\")[:5] 과 동일\n",
    "word_vectors.most_similar(\"king\")[:5]"
   ]
  },
  {
   "cell_type": "code",
   "execution_count": 25,
   "metadata": {},
   "outputs": [
    {
     "data": {
      "text/plain": [
       "[('germany', 0.7759740948677063),\n",
       " ('russia', 0.7300741076469421),\n",
       " ('austria', 0.6964518427848816),\n",
       " ('finland', 0.6880278587341309),\n",
       " ('hungary', 0.6857718229293823)]"
      ]
     },
     "execution_count": 25,
     "metadata": {},
     "output_type": "execute_result"
    }
   ],
   "source": [
    "# analogy로 유사 단어 검색 \n",
    "#  파리:프랑스 :: 베를린:독일   => 프랑스 - 파리 + 베를린 = 독일\n",
    "#  king:man :: queen:woman    => man - king + queen = woman\n",
    "word_vectors.most_similar(positive=[\"france\",\"berlin\"], negative=[\"paris\"])[:5]"
   ]
  },
  {
   "cell_type": "code",
   "execution_count": 26,
   "metadata": {},
   "outputs": [
    {
     "data": {
      "text/plain": [
       "[('germany', 0.9602494239807129),\n",
       " ('russia', 0.9475181102752686),\n",
       " ('finland', 0.9272105693817139),\n",
       " ('lithuania', 0.91187983751297),\n",
       " ('austria', 0.9082432985305786)]"
      ]
     },
     "execution_count": 26,
     "metadata": {},
     "output_type": "execute_result"
    }
   ],
   "source": [
    "# cosmul similarity로 측정한 유사도 기반 \n",
    "word_vectors.most_similar_cosmul(positive=[\"france\",\"berlin\"], negative=[\"paris\"])[:5]"
   ]
  },
  {
   "cell_type": "code",
   "execution_count": 29,
   "metadata": {},
   "outputs": [
    {
     "data": {
      "text/plain": [
       "[('woman', 1.0139929056167603),\n",
       " ('girl', 0.9544166326522827),\n",
       " ('lady', 0.8891240954399109),\n",
       " ('baby', 0.8838143944740295),\n",
       " ('naked', 0.8804119229316711)]"
      ]
     },
     "execution_count": 29,
     "metadata": {},
     "output_type": "execute_result"
    }
   ],
   "source": [
    "word_vectors.most_similar_cosmul(positive=[\"man\",\"queen\"], negative=[\"king\"])[:5]"
   ]
  },
  {
   "cell_type": "code",
   "execution_count": 35,
   "metadata": {},
   "outputs": [
    {
     "data": {
      "text/plain": [
       "'singapore'"
      ]
     },
     "execution_count": 35,
     "metadata": {},
     "output_type": "execute_result"
    }
   ],
   "source": [
    "# 단어 목록 중 상이한 항목 탐지 \n",
    "word_vectors.doesnt_match(['hindus', 'parsis', 'singapore', 'christian'])"
   ]
  },
  {
   "cell_type": "code",
   "execution_count": 40,
   "metadata": {},
   "outputs": [
    {
     "name": "stdout",
     "output_type": "stream",
     "text": [
      "man to tree : 0.2851971685886383\n",
      "man to woman : 0.7528449892997742\n"
     ]
    }
   ],
   "source": [
    "# 두 단어 사이의 유사도 계산\n",
    "print(f'man to tree : {word_vectors.similarity(\"man\", \"tree\")}')\n",
    "print(f'man to woman : {word_vectors.similarity(\"man\", \"woman\")}')"
   ]
  },
  {
   "cell_type": "code",
   "execution_count": 43,
   "metadata": {},
   "outputs": [
    {
     "data": {
      "text/plain": [
       "(100,)"
      ]
     },
     "execution_count": 43,
     "metadata": {},
     "output_type": "execute_result"
    }
   ],
   "source": [
    "# word vector 자체 확보\n",
    "wv = word_vectors['computer']  # numpy vector of a word\n",
    "wv.shape"
   ]
  },
  {
   "cell_type": "code",
   "execution_count": 53,
   "metadata": {},
   "outputs": [
    {
     "data": {
      "text/plain": [
       "5.343210180655011"
      ]
     },
     "execution_count": 53,
     "metadata": {},
     "output_type": "execute_result"
    }
   ],
   "source": [
    "# 문장간 유사도\n",
    "sen1 = 'The president greets the press in Chicago'.lower().split()\n",
    "sen2 = 'The president greets the media in Washington'.lower().split()\n",
    "word_vectors.wmdistance(sen1, sen2)"
   ]
  },
  {
   "cell_type": "markdown",
   "metadata": {},
   "source": [
    "# Gensim 모델 평가"
   ]
  },
  {
   "cell_type": "code",
   "execution_count": 56,
   "metadata": {},
   "outputs": [
    {
     "data": {
      "text/plain": [
       "((0.6121774038260248, 1.7836714753797042e-37),\n",
       " SpearmanrResult(correlation=0.6269028863883931, pvalue=9.923148099037103e-40),\n",
       " 0.56657223796034)"
      ]
     },
     "execution_count": 56,
     "metadata": {},
     "output_type": "execute_result"
    }
   ],
   "source": [
    "# Correlation with human opinion on word similarity\n",
    "from gensim.test.utils import datapath\n",
    "\n",
    "similarities = model.wv.evaluate_word_pairs(datapath('wordsim353.tsv'))\n",
    "similarities"
   ]
  },
  {
   "cell_type": "code",
   "execution_count": null,
   "metadata": {},
   "outputs": [],
   "source": [
    "analogy_scores, details = model.wv.evaluate_word_analogies(datapath('questions-words.txt'))\n",
    "analogy_scores"
   ]
  }
 ],
 "metadata": {
  "kernelspec": {
   "display_name": "Python (ai)",
   "language": "python",
   "name": "ai"
  },
  "language_info": {
   "codemirror_mode": {
    "name": "ipython",
    "version": 3
   },
   "file_extension": ".py",
   "mimetype": "text/x-python",
   "name": "python",
   "nbconvert_exporter": "python",
   "pygments_lexer": "ipython3",
   "version": "3.6.12"
  },
  "toc": {
   "base_numbering": 1,
   "nav_menu": {},
   "number_sections": true,
   "sideBar": true,
   "skip_h1_title": false,
   "title_cell": "Table of Contents",
   "title_sidebar": "Contents",
   "toc_cell": false,
   "toc_position": {},
   "toc_section_display": true,
   "toc_window_display": false
  }
 },
 "nbformat": 4,
 "nbformat_minor": 4
}
